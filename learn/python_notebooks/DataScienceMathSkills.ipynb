{
 "cells": [
  {
   "cell_type": "markdown",
   "metadata": {},
   "source": [
    "# Data science Math skills\n",
    "\n",
    "Notebook that I did for the coursera course \"Data science Math skills\"\n",
    "\n",
    "Reference:\n",
    "* https://www.coursera.org/learn/datasciencemathskills/\n",
    "* https://en.wikipedia.org/wiki/List_of_mathematical_symbols\n",
    "* http://www.secnetix.de/olli/Python/list_comprehensions.hawk\n",
    "* https://stackoverflow.com/questions/642763/find-intersection-of-two-lists\n",
    "* https://stackoverflow.com/questions/13208286/how-to-write-latex-in-ipython-notebook\n",
    "* http://artofproblemsolving.com/wiki/index.php?title=LaTeX:Symbols\n",
    "* https://www.youtube.com/watch?v=b0j-3EwhkQk\n",
    "* https://github.com/konstantint/matplotlib-venn\n",
    "* http://matthiaseisen.com/pp/patterns/p0144/\n",
    "* https://pt.wikipedia.org/wiki/LaTeX\n",
    "*  http://www.cs.put.poznan.pl/ksiek/latexmath.html"
   ]
  },
  {
   "cell_type": "markdown",
   "metadata": {},
   "source": [
    "### Sets\n",
    "Sets are just a collection of elements"
   ]
  },
  {
   "cell_type": "code",
   "execution_count": 1,
   "metadata": {
    "collapsed": false
   },
   "outputs": [],
   "source": [
    "A = {1,2,-3,7}\n",
    "B = {2,8,-3,10}\n",
    "D = {5,10}"
   ]
  },
  {
   "cell_type": "markdown",
   "metadata": {},
   "source": [
    "#### Number of elements on set\n",
    "$$|D|=2$$"
   ]
  },
  {
   "cell_type": "code",
   "execution_count": 2,
   "metadata": {
    "collapsed": false
   },
   "outputs": [
    {
     "name": "stdout",
     "output_type": "stream",
     "text": [
      "Number of elements in D: 2\n"
     ]
    }
   ],
   "source": [
    "# Size of D\n",
    "print('Number of elements in D:',len(D))"
   ]
  },
  {
   "cell_type": "markdown",
   "metadata": {},
   "source": [
    "#### Element in or not in a set\n",
    "Example element 2 in A\n",
    "$$2 \\in A$$\n",
    "$$10 \\not\\in A$$"
   ]
  },
  {
   "cell_type": "code",
   "execution_count": 3,
   "metadata": {
    "collapsed": false
   },
   "outputs": [
    {
     "name": "stdout",
     "output_type": "stream",
     "text": [
      "True\n",
      "True\n"
     ]
    }
   ],
   "source": [
    "print(2 in A)\n",
    "print(10 not in A)"
   ]
  },
  {
   "cell_type": "markdown",
   "metadata": {},
   "source": [
    "### Intersection\n",
    "Return the elements that are inside A and B\n",
    "$$ A \\cap B $$\n",
    "\n",
    "$$ A \\cap B = \\{x: X \\in A \\land X \\in B\\}$$"
   ]
  },
  {
   "cell_type": "code",
   "execution_count": 4,
   "metadata": {
    "collapsed": false
   },
   "outputs": [
    {
     "name": "stdout",
     "output_type": "stream",
     "text": [
      "{2, -3}\n"
     ]
    }
   ],
   "source": [
    "# Few ways to do that in python\n",
    "A_intersect_B = {x for x in A if x in B}\n",
    "#A_intersect_B = list(A & B)\n",
    "#A_intersect_B = set(A).intersection(B)\n",
    "print(A_intersect_B)"
   ]
  },
  {
   "cell_type": "markdown",
   "metadata": {},
   "source": [
    "#### Union\n",
    "Return elements that are inside A or B\n",
    "$$ A \\cup B $$\n",
    "\n",
    "$$ A \\cup B = \\{x: X \\in A \\lor X \\in B\\}$$"
   ]
  },
  {
   "cell_type": "code",
   "execution_count": 5,
   "metadata": {
    "collapsed": false
   },
   "outputs": [
    {
     "name": "stdout",
     "output_type": "stream",
     "text": [
      "{1, 2, 7, 8, 10, -3}\n"
     ]
    }
   ],
   "source": [
    "# Few ways to do that in python\n",
    "A_union_B = {x for x in list(A | B) }\n",
    "#A_union_B = list(A | B)\n",
    "#A_union_B = set(A).union(B)\n",
    "print(A_union_B)"
   ]
  },
  {
   "cell_type": "markdown",
   "metadata": {},
   "source": [
    "### Venn Diagrams"
   ]
  },
  {
   "cell_type": "code",
   "execution_count": 6,
   "metadata": {
    "collapsed": false
   },
   "outputs": [
    {
     "data": {
      "image/png": "[encoded data removed]",
      "text/plain": [
       "<matplotlib.figure.Figure at 0x7f5ebc4c4a90>"
      ]
     },
     "metadata": {},
     "output_type": "display_data"
    }
   ],
   "source": [
    "import matplotlib_venn as vplt\n",
    "import matplotlib.pyplot as plt\n",
    "import numpy as np\n",
    "\n",
    "# Subset sizes\n",
    "s = (\n",
    "    len(A),  # A    \n",
    "    len(B),  # B\n",
    "    len(A_intersect_B),  # A intersection B\n",
    ")\n",
    "\n",
    "#v = vplt.venn2([set([1, 2, -3, 7]), set([2,8,-3,10])])\n",
    "v = vplt.venn2(subsets=s)\n",
    "#v = vplt.venn2([set(['A', 'B', 'C', 'D']), set(['D', 'E', 'F'])])\n",
    "# Subset labels\n",
    "v.get_label_by_id('10').set_text('A but not B')\n",
    "v.get_label_by_id('01').set_text('B but not A')\n",
    "v.get_label_by_id('11').set_text('A and B')\n",
    "plt.show()"
   ]
  }
 ],
 "metadata": {
  "kernelspec": {
   "display_name": "Python [conda root]",
   "language": "python",
   "name": "conda-root-py"
  },
  "language_info": {
   "codemirror_mode": {
    "name": "ipython",
    "version": 3
   },
   "file_extension": ".py",
   "mimetype": "text/x-python",
   "name": "python",
   "nbconvert_exporter": "python",
   "pygments_lexer": "ipython3",
   "version": "3.5.2"
  }
 },
 "nbformat": 4,
 "nbformat_minor": 2
}
