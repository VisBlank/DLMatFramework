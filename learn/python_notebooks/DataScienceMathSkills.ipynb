{
 "cells": [
  {
   "cell_type": "markdown",
   "metadata": {},
   "source": [
    "# Data science Math skills\n",
    "\n",
    "Notebook that I did for the coursera course \"Data science Math skills\"\n",
    "\n",
    "![alt text](MapMaths.jpg \"Math Map\")\n",
    "\n",
    "Reference:\n",
    "* https://www.coursera.org/learn/datasciencemathskills/\n",
    "* https://en.wikipedia.org/wiki/List_of_mathematical_symbols\n",
    "* http://www.secnetix.de/olli/Python/list_comprehensions.hawk\n",
    "* https://stackoverflow.com/questions/642763/find-intersection-of-two-lists\n",
    "* https://stackoverflow.com/questions/13208286/how-to-write-latex-in-ipython-notebook\n",
    "* http://artofproblemsolving.com/wiki/index.php?title=LaTeX:Symbols\n",
    "* https://www.youtube.com/watch?v=b0j-3EwhkQk\n",
    "* https://github.com/konstantint/matplotlib-venn\n",
    "* http://matthiaseisen.com/pp/patterns/p0144/\n",
    "* https://pt.wikipedia.org/wiki/LaTeX\n",
    "* http://www.cs.put.poznan.pl/ksiek/latexmath.html\n",
    "* http://www.python-course.eu/python3_lambda.php\n",
    "* https://stackoverflow.com/questions/13430231/how-i-can-get-cartesian-coordinate-system-in-matplotlib\n",
    "* https://stackoverflow.com/questions/21519203/plotting-a-list-of-x-y-coordinates-in-python-matplotlib"
   ]
  },
  {
   "cell_type": "markdown",
   "metadata": {},
   "source": [
    "### Sets\n",
    "Sets are just a collection of elements"
   ]
  },
  {
   "cell_type": "code",
   "execution_count": 1,
   "metadata": {
    "collapsed": false
   },
   "outputs": [],
   "source": [
    "A = {1,2,-3,7}\n",
    "B = {2,8,-3,10}\n",
    "D = {5,10}"
   ]
  },
  {
   "cell_type": "markdown",
   "metadata": {},
   "source": [
    "#### Number of elements on set\n",
    "$$|D|=2$$"
   ]
  },
  {
   "cell_type": "code",
   "execution_count": 2,
   "metadata": {
    "collapsed": false
   },
   "outputs": [
    {
     "name": "stdout",
     "output_type": "stream",
     "text": [
      "Number of elements in D: 2\n"
     ]
    }
   ],
   "source": [
    "# Size of D\n",
    "print('Number of elements in D:',len(D))"
   ]
  },
  {
   "cell_type": "markdown",
   "metadata": {},
   "source": [
    "#### Element in or not in a set\n",
    "Example element 2 in A\n",
    "$$2 \\in A$$\n",
    "$$10 \\not\\in A$$"
   ]
  },
  {
   "cell_type": "code",
   "execution_count": 3,
   "metadata": {
    "collapsed": false
   },
   "outputs": [
    {
     "name": "stdout",
     "output_type": "stream",
     "text": [
      "True\n",
      "True\n"
     ]
    }
   ],
   "source": [
    "print(2 in A)\n",
    "print(10 not in A)"
   ]
  },
  {
   "cell_type": "markdown",
   "metadata": {},
   "source": [
    "### Intersection\n",
    "Return the elements that are inside A and B\n",
    "$$ A \\cap B $$\n",
    "\n",
    "$$ A \\cap B = \\{x: X \\in A \\land X \\in B\\}$$"
   ]
  },
  {
   "cell_type": "code",
   "execution_count": 4,
   "metadata": {
    "collapsed": false
   },
   "outputs": [
    {
     "name": "stdout",
     "output_type": "stream",
     "text": [
      "{2, -3}\n"
     ]
    }
   ],
   "source": [
    "# Few ways to do that in python\n",
    "A_intersect_B = {x for x in A if x in B}\n",
    "#A_intersect_B = list(A & B)\n",
    "#A_intersect_B = set(A).intersection(B)\n",
    "print(A_intersect_B)"
   ]
  },
  {
   "cell_type": "markdown",
   "metadata": {},
   "source": [
    "#### Union\n",
    "Return elements that are inside A or B\n",
    "$$ A \\cup B $$\n",
    "\n",
    "$$ A \\cup B = \\{x: X \\in A \\lor X \\in B\\}$$"
   ]
  },
  {
   "cell_type": "code",
   "execution_count": 5,
   "metadata": {
    "collapsed": false
   },
   "outputs": [
    {
     "name": "stdout",
     "output_type": "stream",
     "text": [
      "{1, 2, 7, 8, 10, -3}\n"
     ]
    }
   ],
   "source": [
    "# Few ways to do that in python\n",
    "A_union_B = {x for x in list(A | B) }\n",
    "#A_union_B = list(A | B)\n",
    "#A_union_B = set(A).union(B)\n",
    "print(A_union_B)"
   ]
  },
  {
   "cell_type": "markdown",
   "metadata": {},
   "source": [
    "### Venn Diagrams"
   ]
  },
  {
   "cell_type": "code",
   "execution_count": 6,
   "metadata": {
    "collapsed": false
   },
   "outputs": [
    {
     "data": {
      "image/png": "[encoded data removed]",
      "text/plain": [
       "<matplotlib.figure.Figure at 0x10cbc6438>"
      ]
     },
     "metadata": {},
     "output_type": "display_data"
    }
   ],
   "source": [
    "# Import necessary libraries\n",
    "import matplotlib_venn as vplt\n",
    "import matplotlib.pyplot as plt\n",
    "import numpy as np\n",
    "\n",
    "# Subset sizes\n",
    "s = (\n",
    "    len(A),  # A    \n",
    "    len(B),  # B\n",
    "    len(A_intersect_B),  # A intersection B\n",
    ")\n",
    "\n",
    "#v = vplt.venn2([set([1, 2, -3, 7]), set([2,8,-3,10])])\n",
    "v = vplt.venn2(subsets=s)\n",
    "#v = vplt.venn2([set(['A', 'B', 'C', 'D']), set(['D', 'E', 'F'])])\n",
    "# Subset labels\n",
    "v.get_label_by_id('10').set_text('A but not B')\n",
    "v.get_label_by_id('01').set_text('B but not A')\n",
    "v.get_label_by_id('11').set_text('A and B')\n",
    "plt.show()"
   ]
  },
  {
   "cell_type": "markdown",
   "metadata": {},
   "source": [
    "### Inclusion-Exclusion formula\n",
    "Looking the Venn diagram above observe:\n",
    "$$A=\\{1,2,-3,7\\}$$\n",
    "$$B=\\{2,8,-3,10\\}$$\n",
    "$$ A\\cup B=\\{1, 2, 7, 8, 10, -3\\}$$\n",
    "$$|A|=4$$\n",
    "$$|B|=4$$\n",
    "$$|A \\cup B| = |A| + |B| - |A \\cap B|$$\n",
    "Observe that we exclude the intersection because we don't want to count the elements in between twice, the union is not a simple concatenation of 2 sets, it takes into account numbers that exist on both sets."
   ]
  },
  {
   "cell_type": "code",
   "execution_count": 7,
   "metadata": {
    "collapsed": false
   },
   "outputs": [
    {
     "name": "stdout",
     "output_type": "stream",
     "text": [
      "6\n"
     ]
    }
   ],
   "source": [
    "inc_exc_size = len(A) + len(B) - len(A_intersect_B)\n",
    "print(inc_exc_size)"
   ]
  },
  {
   "cell_type": "markdown",
   "metadata": {},
   "source": [
    "Now if the sets has no intersection between them the union is a simple concatenation."
   ]
  },
  {
   "cell_type": "code",
   "execution_count": 8,
   "metadata": {
    "collapsed": false
   },
   "outputs": [
    {
     "name": "stdout",
     "output_type": "stream",
     "text": [
      "{1, 2, 3, 4, 5, 6}\n"
     ]
    },
    {
     "data": {
      "image/png": "[encoded data removed]",
      "text/plain": [
       "<matplotlib.figure.Figure at 0x1178d3160>"
      ]
     },
     "metadata": {},
     "output_type": "display_data"
    }
   ],
   "source": [
    "A = {1,2,3}\n",
    "B = {4,5,6}\n",
    "A_intersect_B = {x for x in A if x in B}\n",
    "A_union_B = set(A).union(B)\n",
    "print(A_union_B)\n",
    "# Subset sizes\n",
    "s = (\n",
    "    len(A),  # A    \n",
    "    len(B),  # B\n",
    "    len(A_intersect_B),  # A intersection B\n",
    ")\n",
    "\n",
    "v = vplt.venn2(subsets=s)\n",
    "v.get_label_by_id('10').set_text('A')\n",
    "v.get_label_by_id('01').set_text('B')\n",
    "plt.show()"
   ]
  },
  {
   "cell_type": "markdown",
   "metadata": {},
   "source": [
    "### That jagged S symbol\n",
    "If you are from software background is just a for-loop if not, try to imagine as a symbol that try to simplify with few words an operation that is executed a number of times that are later summed up.\n",
    "$$\\Large \\sum_{i=1}^{4} i^2$$\n",
    "\n",
    "This means (Don't forget to sum all the results)\n",
    "$$1^2,2^2,3^2,4^2$$\n",
    "$$1^2+2^2+3^2+4^2=30$$\n",
    "\n",
    "If we would like to express the operation that accumulate the square of all the numbers inside the set A but in a shorter form\n",
    "$$A = \\{1,2,-3,7\\}$$\n",
    "$$resA = \\sum_{i=0}^{3} A[i]^2$$\n",
    "\n",
    "Basically what we want is\n",
    "$$resA = A[0]^2 + A[1]^2 + A[2]^2 + A[3]^2\\\\\n",
    "\\therefore\n",
    "resA = (1)^2 + (2)^2 + (-3)^2 + (7)^2\n",
    "$$\n",
    "\n",
    "#### Simplifications with Sigma\n",
    "$$\\sum_{i=1}^{4} 3.i^2 \\implies 3.\\sum_{i=1}^{4} i^2$$\n",
    "$$\\sum_{i=1}^{4} (i^2+2.i) \\implies \\sum_{i=1}^{4} i^2 + 2.\\sum_{i=1}^{4} i$$\n",
    "$$\\sum_{i=1}^{3} 5 \\implies 5+5+5=15$$\n",
    "\n",
    "#### Mean\n",
    "Add all the numbers and divide by the amount of numbers on the set.\n",
    "\n",
    "Let the set X be defined as:\n",
    "$$\\Large X=\\{x_1, x_2, x_3 ... x_n\\}$$\n",
    "Mean is defined as:\n",
    "$$\\Large\\mu_X=\\frac{1}{n}.\\sum_{i=1}^{n} X[n]$$\n",
    "\n",
    "Normally we see on data science people doing mean centering, to improve the performance of some learning algorithms.\n",
    "\n",
    "![alt text](MeanCentering.png \"Mean Centering\")\n",
    "\n",
    "\n",
    "#### Variance\n",
    "Variance is defined as:\n",
    "$$\\Large\\sigma_X=\\frac{1}{n}.\\sum_{i=1}^{n}(X[i] - \\mu_X)$$\n",
    "\n",
    "One of the ideas of statistics is to compress information into something usefull, just calculating the mean is not enough, but also adding how the data __spread__ around the mean add some more information.\n",
    "![alt text](Variance.png \"Variance\")\n"
   ]
  },
  {
   "cell_type": "code",
   "execution_count": 9,
   "metadata": {
    "collapsed": false
   },
   "outputs": [
    {
     "name": "stdout",
     "output_type": "stream",
     "text": [
      "63\n",
      "63\n",
      "[1, 4, 9, 49]\n",
      "63\n"
     ]
    }
   ],
   "source": [
    "A = [1,2,-3,7]\n",
    "\n",
    "# Uncompressed way\n",
    "resA = A[0]**2 + A[1]**2 + A[2]**2 + A[3]**2\n",
    "print(resA)\n",
    "\n",
    "# Iterate on list A accumulating the results\n",
    "resA = 0\n",
    "for x in A:\n",
    "    resA += x**2\n",
    "print(resA)\n",
    "\n",
    "# Using lambda\n",
    "from functools import reduce\n",
    "squared_A = list(map(lambda x: x**2, A))\n",
    "print(squared_A)\n",
    "resA = reduce(lambda a,b:a+b,squared_A )\n",
    "print(resA)"
   ]
  },
  {
   "cell_type": "code",
   "execution_count": 10,
   "metadata": {
    "collapsed": false
   },
   "outputs": [
    {
     "name": "stdout",
     "output_type": "stream",
     "text": [
      "Mean of Z: 3.0\n",
      "Variance of Z: 14.0\n",
      "Standard deviation of Z: 3.74165738677\n"
     ]
    }
   ],
   "source": [
    "# Get the mean\n",
    "import numpy as np\n",
    "Z = np.array([-2,4,7])\n",
    "print('Mean of Z:',np.mean(Z))\n",
    "print('Variance of Z:',np.var(Z))\n",
    "print('Standard deviation of Z:',np.std(Z))"
   ]
  },
  {
   "cell_type": "markdown",
   "metadata": {},
   "source": [
    "### Cartesian Plane\n",
    "![alt text](CartesianPlane.jpg \"Cartesian Plane\")\n",
    "\n",
    "Some definitions.\n",
    "\n",
    "Origin, the blue point:\n",
    "$$P_\\text{Origin}\\implies(0,0)$$\n",
    "\n",
    "The X axis is the set of all points (x,y) in Cartesian plane such that y=0\n",
    "$$X_\\text{axis}\\implies\\{(x,y) \\in \\mathbb{R}^2:y=0\\}$$\n",
    "\n",
    "The Y axis is the set of all points (x,y) in Cartesian plane such that x=0\n",
    "$$Y_\\text{axis}\\implies\\{(x,y) \\in \\mathbb{R}^2:x=0\\}$$\n",
    "\n",
    "First quadrant\n",
    "$$\\{(x,y) \\in \\mathbb{R}^2:x>0 \\land y>0\\}$$\n",
    "\n",
    "Second quadrant\n",
    "$$\\{(x,y) \\in \\mathbb{R}^2:x<0 \\land y>0\\}$$\n",
    "\n",
    "Third quadrant\n",
    "$$\\{(x,y) \\in \\mathbb{R}^2:x<0 \\land y<0\\}$$\n",
    "\n",
    "Fourth quadrant\n",
    "$$\\{(x,y) \\in \\mathbb{R}^2:x>0 \\land y<0\\}$$\n",
    "\n",
    "#### Distance between 2 points\n",
    "\n",
    "The distance is a concept often used on data science to measure how far a point is from another point during training phase. Some examples:\n",
    "* Clustering (Unsupervised)\n",
    "* Nearest Neighbor (Supervised)\n",
    "\n",
    "Calculating the distance between 2 points:\n",
    "$$ dist(A,B) = \\sqrt{(A_x-B_x)^2 + (A_y-B_y)^2}$$\n",
    "\n",
    "![alt text](DistFormula.png \"Cartesian Plane\")"
   ]
  },
  {
   "cell_type": "code",
   "execution_count": 11,
   "metadata": {
    "collapsed": false
   },
   "outputs": [
    {
     "data": {
      "image/png": "[encoded data removed]",
      "text/plain": [
       "<matplotlib.figure.Figure at 0x117867a90>"
      ]
     },
     "metadata": {},
     "output_type": "display_data"
    }
   ],
   "source": [
    "from pylab import *\n",
    "import matplotlib.pyplot as plt\n",
    "\n",
    "x = [2,-1,4, -5]\n",
    "y = [3,5,-0.5,-5]\n",
    "color=['m','g','r','b']\n",
    "\n",
    "fig = plt.figure()\n",
    "ax = fig.add_subplot(111)\n",
    "\n",
    "scatter(x,y, s=100 ,marker='o', c=color)\n",
    "\n",
    "[ plot( [dot_x,dot_x] ,[0,dot_y], '-', linewidth = 3 ) for dot_x,dot_y in zip(x,y) ] \n",
    "[ plot( [0,dot_x] ,[dot_y,dot_y], '-', linewidth = 3 ) for dot_x,dot_y in zip(x,y) ]\n",
    "\n",
    "left,right = ax.get_xlim()\n",
    "low,high = ax.get_ylim()\n",
    "arrow( left, 0, right -left, 0, length_includes_head = True, head_width = 0.15 )\n",
    "arrow( 0, low, 0, high-low, length_includes_head = True, head_width = 0.15 ) \n",
    "\n",
    "grid()\n",
    "\n",
    "show()"
   ]
  },
  {
   "cell_type": "markdown",
   "metadata": {},
   "source": [
    "### Function\n",
    "A function is a rule/formula that transforms each element of A into a value f(a) in B\n",
    "![alt text](FuncMachine.png \"Function Machine\")\n",
    "$$f: A \\mapsto B$$\n",
    "![alt text](FuncNotFunc.png \"Function Not Function\")\n"
   ]
  },
  {
   "cell_type": "code",
   "execution_count": 12,
   "metadata": {
    "collapsed": false
   },
   "outputs": [
    {
     "name": "stdout",
     "output_type": "stream",
     "text": [
      "Set A: [1, 2, -3, 7]\n",
      "Squared A: [1, 4, 9, 49]\n",
      "Squared A: [1, 4, 9, 49]\n"
     ]
    }
   ],
   "source": [
    "A = [1,2,-3,7]\n",
    "print('Set A:',A)\n",
    "\n",
    "# Defining a function\n",
    "def func_square(x):\n",
    "    return x**2\n",
    "\n",
    "# Execute the function for each value of A\n",
    "for a_idx, a_val in enumerate(A):\n",
    "    squared_A[a_idx] = func_square(a_val)\n",
    "print('Squared A:',squared_A)\n",
    "\n",
    "squared_A = list(map(lambda x: x**2, A))\n",
    "print('Squared A:',squared_A)"
   ]
  },
  {
   "cell_type": "markdown",
   "metadata": {
    "collapsed": true
   },
   "source": [
    "### Logarithms and Exponents\n",
    "Exponential form\n",
    "$$b^x=N$$\n",
    "Logarithm form\n",
    "$$x=log_b(N)$$\n",
    "\n",
    "$$log_2(8)=3 \\therefore 2^3=8$$\n",
    "\n",
    "Log of one on any base is zero\n",
    "$$log_x(1)=0$$\n",
    "\n",
    "#### Product Rule\n",
    "$$log(x.y) = log(x) + log(y)$$\n",
    "\n",
    "#### Quotient Rule\n",
    "$$log(\\frac{x}{y}) = log(x) - log(y)$$\n",
    "\n",
    "#### Power + Root Rule\n",
    "$$log_\\text{any}(x^h) = h.log_\\text{any}(x)$$\n",
    "$$log(\\sqrt(x)) = \\frac{1}{2}.log(x)$$"
   ]
  },
  {
   "cell_type": "code",
   "execution_count": 13,
   "metadata": {
    "collapsed": false
   },
   "outputs": [
    {
     "data": {
      "text/plain": [
       "3.0"
      ]
     },
     "execution_count": 13,
     "metadata": {},
     "output_type": "execute_result"
    }
   ],
   "source": [
    "import math\n",
    "# Calculate log of 8 on base 2\n",
    "math.log(8,2)"
   ]
  }
 ],
 "metadata": {
  "kernelspec": {
   "display_name": "Python 3",
   "language": "python",
   "name": "python3"
  },
  "language_info": {
   "codemirror_mode": {
    "name": "ipython",
    "version": 3
   },
   "file_extension": ".py",
   "mimetype": "text/x-python",
   "name": "python",
   "nbconvert_exporter": "python",
   "pygments_lexer": "ipython3",
   "version": "3.6.0"
  }
 },
 "nbformat": 4,
 "nbformat_minor": 2
}
