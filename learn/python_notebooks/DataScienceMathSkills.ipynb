{
 "cells": [
  {
   "cell_type": "markdown",
   "metadata": {},
   "source": [
    "# Data science Math skills\n",
    "\n",
    "Notebook that I did for the coursera course \"Data science Math skills\"\n",
    "\n",
    "![alt text](MapMaths.jpg \"Math Map\")\n",
    "\n",
    "Reference:\n",
    "* https://www.coursera.org/learn/datasciencemathskills/\n",
    "* https://en.wikipedia.org/wiki/List_of_mathematical_symbols\n",
    "* http://www.secnetix.de/olli/Python/list_comprehensions.hawk\n",
    "* https://stackoverflow.com/questions/642763/find-intersection-of-two-lists\n",
    "* https://stackoverflow.com/questions/13208286/how-to-write-latex-in-ipython-notebook\n",
    "* http://artofproblemsolving.com/wiki/index.php?title=LaTeX:Symbols\n",
    "* https://www.youtube.com/watch?v=b0j-3EwhkQk\n",
    "* https://github.com/konstantint/matplotlib-venn\n",
    "* http://matthiaseisen.com/pp/patterns/p0144/\n",
    "* https://pt.wikipedia.org/wiki/LaTeX\n",
    "* http://www.cs.put.poznan.pl/ksiek/latexmath.html\n",
    "* http://www.python-course.eu/python3_lambda.php\n",
    "* https://stackoverflow.com/questions/13430231/how-i-can-get-cartesian-coordinate-system-in-matplotlib\n",
    "* https://stackoverflow.com/questions/21519203/plotting-a-list-of-x-y-coordinates-in-python-matplotlib\n",
    "* http://docs.sympy.org/dev/modules/index.html\n",
    "* https://www.youtube.com/watch?v=I09QVNrUS3Q\n",
    "* https://www.youtube.com/watch?v=TuGDMj43ehw\n",
    "* https://www.youtube.com/watch?v=VfyxPtlqZh4\n",
    "* http://docs.sympy.org/latest/modules/plotting.html\n",
    "* http://study.com/academy/lesson/how-to-write-1-trillion-in-scientific-notation.html\n",
    "* http://www.rapidtables.com/math/number/exponent.htm\n",
    "* https://www.johndcook.com/blog/2013/04/29/rolling-dice-for-normal-samples-python-version/\n",
    "* https://www.youtube.com/watch?v=xRJCOz3AfYY&feature=push-u&attr_tag=8vTN4zqKcDzvZmwk-6\n",
    "* http://www.askiitians.com/iit-jee-algebra/permutations-and-combinations/\n",
    "* https://www.youtube.com/watch?v=JGeTcRfKgBo\n",
    "* https://www.youtube.com/watch?v=Iq9DzN6mvYA&t\n",
    "* https://www.youtube.com/watch?v=H02B3aMNKzE\n",
    "* https://www.youtube.com/watch?v=QE2uR6Z-NcU\n",
    "* https://www.youtube.com/watch?v=r27mouuyFQk\n",
    "* https://www.youtube.com/watch?v=vOBB_ycQ0RA\n",
    "* https://www.youtube.com/watch?v=gFYPCdWB2-w\n",
    "* https://www.youtube.com/watch?v=54sFjp7AvXM\n",
    "* https://www.youtube.com/watch?v=0F0QoMCSKJ4\n",
    "* https://www.youtube.com/watch?v=CXnNxu22vL4\n",
    "* https://www.youtube.com/watch?v=ObPg3ki9GOI\n",
    "* https://www.youtube.com/watch?v=42QuXLucH3Q&list=LLByEipctdBm-7pmCGh_A1LQ&index=192\n",
    "* https://www.mathsisfun.com/data/probability-events-conditional.html\n",
    "* https://www.youtube.com/watch?v=5NMxiOGL39M\n",
    "* https://www.youtube.com/watch?v=3OJEae7Qb_o\n",
    "* https://www.youtube.com/watch?v=mAUwjSo5TJE\n",
    "* https://www.youtube.com/watch?v=Ie-6H_r7I5A\n",
    "* https://people.richland.edu/james/lecture/m170/ch05-rul.html"
   ]
  },
  {
   "cell_type": "markdown",
   "metadata": {},
   "source": [
    "### Sets\n",
    "Sets are just a collection of elements"
   ]
  },
  {
   "cell_type": "code",
   "execution_count": 1,
   "metadata": {
    "collapsed": false
   },
   "outputs": [],
   "source": [
    "A = {1,2,-3,7}\n",
    "B = {2,8,-3,10}\n",
    "D = {5,10}"
   ]
  },
  {
   "cell_type": "markdown",
   "metadata": {},
   "source": [
    "#### Number of elements on set\n",
    "$$|D|=2$$"
   ]
  },
  {
   "cell_type": "code",
   "execution_count": 2,
   "metadata": {
    "collapsed": false
   },
   "outputs": [
    {
     "name": "stdout",
     "output_type": "stream",
     "text": [
      "Number of elements in D: 2\n"
     ]
    }
   ],
   "source": [
    "# Size of D\n",
    "print('Number of elements in D:',len(D))"
   ]
  },
  {
   "cell_type": "markdown",
   "metadata": {},
   "source": [
    "#### Element in or not in a set\n",
    "Example element 2 in A\n",
    "$$2 \\in A$$\n",
    "$$10 \\not\\in A$$"
   ]
  },
  {
   "cell_type": "code",
   "execution_count": 3,
   "metadata": {
    "collapsed": false
   },
   "outputs": [
    {
     "name": "stdout",
     "output_type": "stream",
     "text": [
      "True\n",
      "True\n"
     ]
    }
   ],
   "source": [
    "print(2 in A)\n",
    "print(10 not in A)"
   ]
  },
  {
   "cell_type": "markdown",
   "metadata": {},
   "source": [
    "### Intersection\n",
    "Return the elements that are inside A and B\n",
    "$$ A \\cap B $$\n",
    "\n",
    "$$ A \\cap B = \\{x: X \\in A \\land X \\in B\\}$$"
   ]
  },
  {
   "cell_type": "code",
   "execution_count": 4,
   "metadata": {
    "collapsed": false
   },
   "outputs": [
    {
     "name": "stdout",
     "output_type": "stream",
     "text": [
      "{2, -3}\n"
     ]
    }
   ],
   "source": [
    "# Few ways to do that in python\n",
    "A_intersect_B = {x for x in A if x in B}\n",
    "#A_intersect_B = list(A & B)\n",
    "#A_intersect_B = set(A).intersection(B)\n",
    "print(A_intersect_B)"
   ]
  },
  {
   "cell_type": "markdown",
   "metadata": {},
   "source": [
    "#### Union\n",
    "Return elements that are inside A or B\n",
    "$$ A \\cup B $$\n",
    "\n",
    "$$ A \\cup B = \\{x: X \\in A \\lor X \\in B\\}$$"
   ]
  },
  {
   "cell_type": "code",
   "execution_count": 5,
   "metadata": {
    "collapsed": false
   },
   "outputs": [
    {
     "name": "stdout",
     "output_type": "stream",
     "text": [
      "{1, 2, 7, 8, 10, -3}\n"
     ]
    }
   ],
   "source": [
    "# Few ways to do that in python\n",
    "A_union_B = {x for x in list(A | B) }\n",
    "#A_union_B = list(A | B)\n",
    "#A_union_B = set(A).union(B)\n",
    "print(A_union_B)"
   ]
  },
  {
   "cell_type": "markdown",
   "metadata": {},
   "source": [
    "### Venn Diagrams"
   ]
  },
  {
   "cell_type": "code",
   "execution_count": 6,
   "metadata": {
    "collapsed": false
   },
   "outputs": [
    {
     "data": {
      "image/png": "[encoded data removed]",
      "text/plain": [
       "<matplotlib.figure.Figure at 0x7f46b4e53a90>"
      ]
     },
     "metadata": {},
     "output_type": "display_data"
    }
   ],
   "source": [
    "# Import necessary libraries\n",
    "import matplotlib_venn as vplt\n",
    "import matplotlib.pyplot as plt\n",
    "import numpy as np\n",
    "\n",
    "# Subset sizes\n",
    "s = (\n",
    "    len(A),  # A    \n",
    "    len(B),  # B\n",
    "    len(A_intersect_B),  # A intersection B\n",
    ")\n",
    "\n",
    "#v = vplt.venn2([set([1, 2, -3, 7]), set([2,8,-3,10])])\n",
    "v = vplt.venn2(subsets=s)\n",
    "#v = vplt.venn2([set(['A', 'B', 'C', 'D']), set(['D', 'E', 'F'])])\n",
    "# Subset labels\n",
    "v.get_label_by_id('10').set_text('A but not B')\n",
    "v.get_label_by_id('01').set_text('B but not A')\n",
    "v.get_label_by_id('11').set_text('A and B')\n",
    "plt.show()"
   ]
  },
  {
   "cell_type": "markdown",
   "metadata": {},
   "source": [
    "### Inclusion-Exclusion formula\n",
    "Looking the Venn diagram above observe:\n",
    "$$A=\\{1,2,-3,7\\}$$\n",
    "$$B=\\{2,8,-3,10\\}$$\n",
    "$$ A\\cup B=\\{1, 2, 7, 8, 10, -3\\}$$\n",
    "$$|A|=4$$\n",
    "$$|B|=4$$\n",
    "$$|A \\cup B| = |A| + |B| - |A \\cap B|$$\n",
    "Observe that we exclude the intersection because we don't want to count the elements in between twice, the union is not a simple concatenation of 2 sets, it takes into account numbers that exist on both sets."
   ]
  },
  {
   "cell_type": "code",
   "execution_count": 7,
   "metadata": {
    "collapsed": false
   },
   "outputs": [
    {
     "name": "stdout",
     "output_type": "stream",
     "text": [
      "6\n"
     ]
    }
   ],
   "source": [
    "inc_exc_size = len(A) + len(B) - len(A_intersect_B)\n",
    "print(inc_exc_size)"
   ]
  },
  {
   "cell_type": "markdown",
   "metadata": {},
   "source": [
    "Now if the sets has no intersection between them the union is a simple concatenation."
   ]
  },
  {
   "cell_type": "code",
   "execution_count": 8,
   "metadata": {
    "collapsed": false
   },
   "outputs": [
    {
     "name": "stdout",
     "output_type": "stream",
     "text": [
      "{1, 2, 3, 4, 5, 6}\n"
     ]
    },
    {
     "data": {
      "image/png": "[encoded data removed]",
      "text/plain": [
       "<matplotlib.figure.Figure at 0x7f46b99bc908>"
      ]
     },
     "metadata": {},
     "output_type": "display_data"
    }
   ],
   "source": [
    "A = {1,2,3}\n",
    "B = {4,5,6}\n",
    "A_intersect_B = {x for x in A if x in B}\n",
    "A_union_B = set(A).union(B)\n",
    "print(A_union_B)\n",
    "# Subset sizes\n",
    "s = (\n",
    "    len(A),  # A    \n",
    "    len(B),  # B\n",
    "    len(A_intersect_B),  # A intersection B\n",
    ")\n",
    "\n",
    "v = vplt.venn2(subsets=s)\n",
    "v.get_label_by_id('10').set_text('A')\n",
    "v.get_label_by_id('01').set_text('B')\n",
    "plt.show()"
   ]
  },
  {
   "cell_type": "markdown",
   "metadata": {},
   "source": [
    "### That jagged S symbol\n",
    "If you are from software background is just a for-loop if not, try to imagine as a symbol that try to simplify with few words an operation that is executed a number of times that are later summed up.\n",
    "$$\\Large \\sum_{i=1}^{4} i^2$$\n",
    "\n",
    "This means (Don't forget to sum all the results)\n",
    "$$1^2,2^2,3^2,4^2$$\n",
    "$$1^2+2^2+3^2+4^2=30$$\n",
    "\n",
    "If we would like to express the operation that accumulate the square of all the numbers inside the set A but in a shorter form\n",
    "$$A = \\{1,2,-3,7\\}$$\n",
    "$$resA = \\sum_{i=0}^{3} A[i]^2$$\n",
    "\n",
    "Basically what we want is\n",
    "$$resA = A[0]^2 + A[1]^2 + A[2]^2 + A[3]^2\\\\\n",
    "\\therefore\n",
    "resA = (1)^2 + (2)^2 + (-3)^2 + (7)^2\n",
    "$$\n",
    "\n",
    "#### Simplifications with Sigma\n",
    "$$\\sum_{i=1}^{4} 3.i^2 \\implies 3.\\sum_{i=1}^{4} i^2$$\n",
    "$$\\sum_{i=1}^{4} (i^2+2.i) \\implies \\sum_{i=1}^{4} i^2 + 2.\\sum_{i=1}^{4} i$$\n",
    "$$\\sum_{i=1}^{3} 5 \\implies 5+5+5=15$$\n",
    "\n",
    "#### Mean\n",
    "Add all the numbers and divide by the amount of numbers on the set.\n",
    "\n",
    "Let the set X be defined as:\n",
    "$$\\Large X=\\{x_1, x_2, x_3 ... x_n\\}$$\n",
    "Mean is defined as:\n",
    "$$\\Large\\mu_X=\\frac{1}{n}.\\sum_{i=1}^{n} X[n]$$\n",
    "\n",
    "Normally we see on data science people doing mean centering, to improve the performance of some learning algorithms.\n",
    "\n",
    "![alt text](MeanCentering.png \"Mean Centering\")\n",
    "\n",
    "\n",
    "#### Variance\n",
    "Variance is defined as:\n",
    "$$\\Large\\sigma_X=\\frac{1}{n}.\\sum_{i=1}^{n}(X[i] - \\mu_X)$$\n",
    "\n",
    "One of the ideas of statistics is to compress information into something usefull, just calculating the mean is not enough, but also adding how the data __spread__ around the mean add some more information.\n",
    "![alt text](Variance.png \"Variance\")\n"
   ]
  },
  {
   "cell_type": "code",
   "execution_count": 9,
   "metadata": {
    "collapsed": false
   },
   "outputs": [
    {
     "name": "stdout",
     "output_type": "stream",
     "text": [
      "63\n",
      "63\n",
      "[1, 4, 9, 49]\n",
      "63\n"
     ]
    }
   ],
   "source": [
    "A = [1,2,-3,7]\n",
    "\n",
    "# Uncompressed way\n",
    "resA = A[0]**2 + A[1]**2 + A[2]**2 + A[3]**2\n",
    "print(resA)\n",
    "\n",
    "# Iterate on list A accumulating the results\n",
    "resA = 0\n",
    "for x in A:\n",
    "    resA += x**2\n",
    "print(resA)\n",
    "\n",
    "# Using lambda\n",
    "from functools import reduce\n",
    "squared_A = list(map(lambda x: x**2, A))\n",
    "print(squared_A)\n",
    "resA = reduce(lambda a,b:a+b,squared_A )\n",
    "print(resA)"
   ]
  },
  {
   "cell_type": "code",
   "execution_count": 10,
   "metadata": {
    "collapsed": false
   },
   "outputs": [
    {
     "name": "stdout",
     "output_type": "stream",
     "text": [
      "Mean of Z: 3.0\n",
      "Variance of Z: 14.0\n",
      "Standard deviation of Z: 3.74165738677\n"
     ]
    }
   ],
   "source": [
    "# Get the mean\n",
    "import numpy as np\n",
    "Z = np.array([-2,4,7])\n",
    "print('Mean of Z:',np.mean(Z))\n",
    "print('Variance of Z:',np.var(Z))\n",
    "print('Standard deviation of Z:',np.std(Z))"
   ]
  },
  {
   "cell_type": "markdown",
   "metadata": {},
   "source": [
    "### Cartesian Plane\n",
    "![alt text](CartesianPlane.jpg \"Cartesian Plane\")\n",
    "\n",
    "Some definitions.\n",
    "\n",
    "Origin, the blue point:\n",
    "$$P_\\text{Origin}\\implies(0,0)$$\n",
    "\n",
    "The X axis is the set of all points (x,y) in Cartesian plane such that y=0\n",
    "$$X_\\text{axis}\\implies\\{(x,y) \\in \\mathbb{R}^2:y=0\\}$$\n",
    "\n",
    "The Y axis is the set of all points (x,y) in Cartesian plane such that x=0\n",
    "$$Y_\\text{axis}\\implies\\{(x,y) \\in \\mathbb{R}^2:x=0\\}$$\n",
    "\n",
    "First quadrant\n",
    "$$\\{(x,y) \\in \\mathbb{R}^2:x>0 \\land y>0\\}$$\n",
    "\n",
    "Second quadrant\n",
    "$$\\{(x,y) \\in \\mathbb{R}^2:x<0 \\land y>0\\}$$\n",
    "\n",
    "Third quadrant\n",
    "$$\\{(x,y) \\in \\mathbb{R}^2:x<0 \\land y<0\\}$$\n",
    "\n",
    "Fourth quadrant\n",
    "$$\\{(x,y) \\in \\mathbb{R}^2:x>0 \\land y<0\\}$$\n",
    "\n",
    "#### Distance between 2 points\n",
    "\n",
    "The distance is a concept often used on data science to measure how far a point is from another point during training phase. Some examples:\n",
    "* Clustering (Unsupervised)\n",
    "* Nearest Neighbor (Supervised)\n",
    "\n",
    "Calculating the distance between 2 points:\n",
    "$$ dist(A,B) = \\sqrt{(A_x-B_x)^2 + (A_y-B_y)^2}$$\n",
    "\n",
    "![alt text](DistFormula.png \"Cartesian Plane\")"
   ]
  },
  {
   "cell_type": "code",
   "execution_count": 11,
   "metadata": {
    "collapsed": false
   },
   "outputs": [
    {
     "data": {
      "image/png": "[encoded data removed]",
      "text/plain": [
       "<matplotlib.figure.Figure at 0x7f46b4e53160>"
      ]
     },
     "metadata": {},
     "output_type": "display_data"
    }
   ],
   "source": [
    "from pylab import *\n",
    "import matplotlib.pyplot as plt\n",
    "\n",
    "x = [2,-1,4, -5]\n",
    "y = [3,5,-0.5,-5]\n",
    "color=['m','g','r','b']\n",
    "\n",
    "fig = plt.figure()\n",
    "ax = fig.add_subplot(111)\n",
    "\n",
    "scatter(x,y, s=100 ,marker='o', c=color)\n",
    "\n",
    "[ plot( [dot_x,dot_x] ,[0,dot_y], '-', linewidth = 3 ) for dot_x,dot_y in zip(x,y) ] \n",
    "[ plot( [0,dot_x] ,[dot_y,dot_y], '-', linewidth = 3 ) for dot_x,dot_y in zip(x,y) ]\n",
    "\n",
    "left,right = ax.get_xlim()\n",
    "low,high = ax.get_ylim()\n",
    "arrow( left, 0, right -left, 0, length_includes_head = True, head_width = 0.15 )\n",
    "arrow( 0, low, 0, high-low, length_includes_head = True, head_width = 0.15 ) \n",
    "\n",
    "grid()\n",
    "\n",
    "show()"
   ]
  },
  {
   "cell_type": "markdown",
   "metadata": {},
   "source": [
    "### Function\n",
    "A function is a rule/formula that transforms each element of A into a value f(a) in B\n",
    "![alt text](FuncMachine.png \"Function Machine\")\n",
    "$$f: A \\mapsto B$$\n",
    "![alt text](FuncNotFunc.png \"Function Not Function\")\n"
   ]
  },
  {
   "cell_type": "code",
   "execution_count": 12,
   "metadata": {
    "collapsed": false
   },
   "outputs": [
    {
     "name": "stdout",
     "output_type": "stream",
     "text": [
      "Set A: [1, 2, -3, 7]\n",
      "Squared A: [1, 4, 9, 49]\n",
      "Squared A: [1, 4, 9, 49]\n"
     ]
    }
   ],
   "source": [
    "A = [1,2,-3,7]\n",
    "print('Set A:',A)\n",
    "\n",
    "# Defining a function\n",
    "def func_square(x):\n",
    "    return x**2\n",
    "\n",
    "# Execute the function for each value of A\n",
    "for a_idx, a_val in enumerate(A):\n",
    "    squared_A[a_idx] = func_square(a_val)\n",
    "print('Squared A:',squared_A)\n",
    "\n",
    "squared_A = list(map(lambda x: x**2, A))\n",
    "print('Squared A:',squared_A)"
   ]
  },
  {
   "cell_type": "markdown",
   "metadata": {},
   "source": [
    "### Tangent Lines and Derivative\n",
    "![alt text](TangentLine.png \"Tangent Line\")\n",
    "\n",
    "$$f'(a)=\\lim_{h \\to 0}\\frac{f(a+h)-f(a)}{h}$$"
   ]
  },
  {
   "cell_type": "code",
   "execution_count": 13,
   "metadata": {
    "collapsed": false
   },
   "outputs": [
    {
     "data": {
      "image/png": "[encoded data removed]",
      "text/plain": [
       "<matplotlib.figure.Figure at 0x7f467d163d30>"
      ]
     },
     "metadata": {},
     "output_type": "display_data"
    }
   ],
   "source": [
    "from sympy import symbols\n",
    "from sympy.plotting import plot\n",
    "x = symbols('x')\n",
    "#p1 = plot(x*x)\n",
    "#p2 = plot(2*x)\n",
    "#p1.extend(p2)\n",
    "#p1.show()\n",
    "p1 = plot(x**2, 2*x, (x,-10,10))"
   ]
  },
  {
   "cell_type": "markdown",
   "metadata": {
    "collapsed": true
   },
   "source": [
    "### Logarithms and Exponents\n",
    "#### Exponents Rules\n",
    "![alt text](ExpoentRules.png \"Tangent Line\")\n",
    "\n",
    "#### Logarithm\n",
    "Exponential form\n",
    "$$b^x=N$$\n",
    "Logarithm form\n",
    "$$x=log_b(N)$$\n",
    "\n",
    "$$log_2(8)=3 \\therefore 2^3=8$$\n",
    "\n",
    "Log of one on any base is zero\n",
    "$$log_x(1)=0$$\n",
    "\n",
    "#### Product Rule\n",
    "$$log(x.y) = log(x) + log(y)$$\n",
    "\n",
    "#### Quotient Rule\n",
    "$$log(\\frac{x}{y}) = log(x) - log(y)$$\n",
    "\n",
    "#### Power + Root Rule\n",
    "$$log_\\text{any}(x^h) = h.log_\\text{any}(x)$$\n",
    "$$log(\\sqrt(x)) = \\frac{1}{2}.log(x)$$\n",
    "\n",
    "#### Base transformation\n",
    "$$log_a(b)=\\frac{log_x(b)}{log_x(a)}$$\n",
    "\n",
    "### Examples\n",
    "$$log_2(\\frac{39.x}{(x-5)})=4$$\n",
    "$$2^{log_2(\\frac{39.x}{x-5})}=2^4$$\n",
    "$$\\frac{39.x}{x-5}=16$$"
   ]
  },
  {
   "cell_type": "code",
   "execution_count": 14,
   "metadata": {
    "collapsed": false
   },
   "outputs": [
    {
     "name": "stdout",
     "output_type": "stream",
     "text": [
      "3.0\n",
      "2.464973520717927\n",
      "2.0\n",
      "1.0\n",
      "2.0\n",
      "2.680143859246375\n",
      "1.3400719296231876\n"
     ]
    }
   ],
   "source": [
    "import math\n",
    "# Calculate log of 8 on base 2\n",
    "print(math.log(8,2))\n",
    "print(math.log(15,3))\n",
    "print(math.log(4,2))\n",
    "print(math.log(2,2))\n",
    "print(math.log(9,3))\n",
    "print(math.log(19,3))\n",
    "print(math.log(19,9))"
   ]
  },
  {
   "cell_type": "code",
   "execution_count": 15,
   "metadata": {
    "collapsed": false
   },
   "outputs": [
    {
     "name": "stdout",
     "output_type": "stream",
     "text": [
      "3.5553480614894135\n",
      "3.5553480614894135\n"
     ]
    }
   ],
   "source": [
    "print(math.log(35))\n",
    "print(math.log(7)+math.log(5))"
   ]
  },
  {
   "cell_type": "code",
   "execution_count": 16,
   "metadata": {
    "collapsed": false
   },
   "outputs": [
    {
     "name": "stdout",
     "output_type": "stream",
     "text": [
      "28.933196669980788\n",
      "28.933196669980788\n",
      "218.78587335407704\n"
     ]
    }
   ],
   "source": [
    "print(math.log((3**8) * (5**7),2))\n",
    "print((8*math.log(3,2)) + (7*math.log(5,2)))\n",
    "print(56*math.log(15,2))"
   ]
  },
  {
   "cell_type": "code",
   "execution_count": 17,
   "metadata": {
    "collapsed": false
   },
   "outputs": [
    {
     "data": {
      "text/plain": [
       "332.19280948873626"
      ]
     },
     "execution_count": 17,
     "metadata": {},
     "output_type": "execute_result"
    }
   ],
   "source": [
    "math.log(10**100,2)"
   ]
  },
  {
   "cell_type": "markdown",
   "metadata": {},
   "source": [
    "### Rate of Growth of Process\n",
    "Sometimes you will hear the term \"Exponential rate of growth\", we can have 2 types of growth:\n",
    "* Continuous: How much some quantity will grow at discrete intervals \"t\"\n",
    "* Discrete: Has the euler constant \"e=2.71828\" to indicate the minimal continuous rate of growth\n",
    "\n",
    "$$1.(1+r)^t$$\n",
    "\n",
    "#### Continuous example\n",
    "Baby elephant has 200Kg of weight and has a continuous compounded growth of 5%/year. How much the baby will have in 3 years?\n",
    "$$FinalWeight_\\text{years}=200Kg.e^{(0.05).(3)}$$\n",
    "\n",
    "#### Continuous Compounded Returns\n",
    "Used to answer questions like:\n",
    "How many years is needed to have 10000Kg of rabits where you start with 10Kg and they grow 200% per year.\n",
    "To solve this equation you need the natural log (ln)."
   ]
  },
  {
   "cell_type": "code",
   "execution_count": 18,
   "metadata": {
    "collapsed": false
   },
   "outputs": [
    {
     "name": "stdout",
     "output_type": "stream",
     "text": [
      "232.36682510032898 Kg\n"
     ]
    }
   ],
   "source": [
    "# Continuous example (baby elephant growth)\n",
    "e = 2.71828\n",
    "t = 3.0\n",
    "three_years_baby_elephant = 200*e**((0.05)*t)\n",
    "print(three_years_baby_elephant,'Kg')"
   ]
  },
  {
   "cell_type": "code",
   "execution_count": 19,
   "metadata": {
    "collapsed": false
   },
   "outputs": [
    {
     "name": "stdout",
     "output_type": "stream",
     "text": [
      "[3.45387996275281] years\n"
     ]
    }
   ],
   "source": [
    "# How many years is needed to have 10000Kg of rabits where you start with 10Kg and they grow 200% per year\n",
    "from sympy.solvers import solve\n",
    "from sympy import Symbol\n",
    "t = Symbol('t')\n",
    "sol = solve(10*2.71828**(2*t)-(10000), t)\n",
    "print(sol, 'years')"
   ]
  },
  {
   "cell_type": "code",
   "execution_count": 20,
   "metadata": {
    "collapsed": false
   },
   "outputs": [
    {
     "name": "stdout",
     "output_type": "stream",
     "text": [
      "[0.00247876218072288] years\n"
     ]
    }
   ],
   "source": [
    "# How many years is needed to have 10000Kg of rabits where you start with 10Kg and they grow 200% per year\n",
    "from sympy.solvers import solve\n",
    "from sympy import Symbol\n",
    "x = Symbol('x')\n",
    "sol = solve(x*2.71828**(0.24*25)-(1), x)\n",
    "print(sol, 'years')"
   ]
  },
  {
   "cell_type": "markdown",
   "metadata": {},
   "source": [
    "#### Problem 1\n",
    "A tree is growing taller at a continuous rate. In the past 12 years it has grown from 3 meters to 15 meters. What is its rate of growth per year?"
   ]
  },
  {
   "cell_type": "code",
   "execution_count": 21,
   "metadata": {
    "collapsed": false
   },
   "outputs": [
    {
     "name": "stdout",
     "output_type": "stream",
     "text": [
      "0.13411982603617503\n"
     ]
    }
   ],
   "source": [
    "e = 2.71828\n",
    "t = 12.0\n",
    "from sympy.solvers import solve\n",
    "from sympy import Symbol\n",
    "x = Symbol('x')\n",
    "solve(3*(e**(12*x))-15, x)\n",
    "\n",
    "# Peng solution\n",
    "print(math.log(5)/12)"
   ]
  },
  {
   "cell_type": "markdown",
   "metadata": {},
   "source": [
    "#### Problem 2\n",
    "Bacteria can reproduce exponentially if not constrained. Assume a colony grows at a continually compounded rate of 400% per day. How many days before a colony with initial mass of 6.25 X 10−10 grams weights 1000 Kilograms?"
   ]
  },
  {
   "cell_type": "code",
   "execution_count": 22,
   "metadata": {
    "collapsed": false
   },
   "outputs": [
    {
     "data": {
      "text/plain": [
       "[5.29832093047801]"
      ]
     },
     "execution_count": 22,
     "metadata": {},
     "output_type": "execute_result"
    }
   ],
   "source": [
    "from sympy.solvers import solve\n",
    "from sympy import Symbol\n",
    "t = Symbol('t')\n",
    "e = 2.71828\n",
    "solve((6.25*10**-7)*e**(4*t)-(1000), t)\n",
    "#print(sol, 'years')"
   ]
  },
  {
   "cell_type": "markdown",
   "metadata": {},
   "source": [
    "#### Problem 3\n",
    "An investment of 1,600 is worth 7,400 after 8.5 years. What is the continuously compounded rate of return of this investment?"
   ]
  },
  {
   "cell_type": "code",
   "execution_count": 23,
   "metadata": {
    "collapsed": false
   },
   "outputs": [
    {
     "name": "stdout",
     "output_type": "stream",
     "text": [
      "Compounded Rate of return: [0.180173811896097]\n"
     ]
    }
   ],
   "source": [
    "e = 2.71828\n",
    "t = 8.5\n",
    "x = Symbol('x')\n",
    "#7400 = 1600*e**((x)*t)\n",
    "sol = solve(1600*e**((x)*t)-7400, x)\n",
    "print('Compounded Rate of return:',sol)"
   ]
  },
  {
   "cell_type": "markdown",
   "metadata": {},
   "source": [
    "### Basic Probability Definition\n",
    "\n",
    "#### Definition of Probability\n",
    "Degree of beliefe on the truth or falsity of a statement.\n",
    "![alt text](ProbIntro.png \"Prob Intro\")\n",
    "$$P(X) + P(\\sim X) = 1$$\n",
    "$$P(\\text{event})=\\frac{\\text{number of outcomes as defined in event}}{\\text{total number of possible outcomes in universe}}$$\n",
    "\n",
    "#### Definition of Probability distribution\n",
    "Table of the probabilities of all possible outcomes."
   ]
  },
  {
   "cell_type": "code",
   "execution_count": 24,
   "metadata": {
    "collapsed": false
   },
   "outputs": [
    {
     "name": "stdout",
     "output_type": "stream",
     "text": [
      "mean 3.49171\n",
      "variance 2.9113512759\n"
     ]
    },
    {
     "data": {
      "image/png": "[encoded data removed]",
      "text/plain": [
       "<matplotlib.figure.Figure at 0x7f467ccbb8d0>"
      ]
     },
     "metadata": {},
     "output_type": "display_data"
    }
   ],
   "source": [
    "import matplotlib.pyplot as plt\n",
    "import numpy as np\n",
    " \n",
    "# Rolling the die 100000 times\n",
    "v = np.random.randint(1,7, size=(100000))\n",
    "\n",
    "# Get mean and variance\n",
    "print ('mean',np.mean(v))\n",
    "print ('variance',np.var(v))\n",
    "\n",
    "# Plot histogram with 6 bins\n",
    "plt.hist(v, bins=6)  \n",
    "plt.title(\"Coin toss histogram with 6 bins\")\n",
    "plt.show()"
   ]
  },
  {
   "cell_type": "markdown",
   "metadata": {},
   "source": [
    "#### Joint probability\n",
    "Joint probability—probability that two separate events with separate probability distributions\n",
    "are both true. Basically you multiply both probabilities\n",
    "![alt text](IndependentProb.png \"Prob Intro\")\n",
    "$$P(\\text{A and B}) \\therefore P(A,B) \\therefore P(A \\cap B)$$\n",
    "$$P(A,B) = P(A).P(B)$$\n",
    "On a graph...\n",
    "![alt text](GraphJointProb.png \"Graph\")\n",
    "\n",
    "##### Example (Sometimes called product distribution)\n",
    "Probability of having heads on a coin toss  and 3 on the dice.\n",
    "$$P(x_1,y_1)=P(x_1).P(y_1) \\therefore P(x_1,y_1)=P(\\frac{1}{2}).P(\\frac{1}{6}) \\therefore \\frac{1}{12}$$\n",
    "\n",
    "#### Probability of one event OR the other\n",
    "![alt text](Probability_OR.png \"Prob Intro\")\n",
    "$$P(\\text{A OR B}) \\therefore P(A \\cup B)$$\n",
    "$$P(\\text{A OR B}) = P(A) + P(B) - P(A,B)$$"
   ]
  },
  {
   "cell_type": "markdown",
   "metadata": {},
   "source": [
    "#### OR example\n",
    "I have two coins. One is fair, and has a probability of coming up heads of .5. The second is bent, and has a probability of coming up heads of .75. If I toss each coin once, what is the probability that at least one of the coins will come up heads.\n",
    "\n",
    "Notice that this at least gives a hint that could be one \"OR\" the other"
   ]
  },
  {
   "cell_type": "code",
   "execution_count": 25,
   "metadata": {
    "collapsed": false
   },
   "outputs": [
    {
     "name": "stdout",
     "output_type": "stream",
     "text": [
      "0.875\n"
     ]
    }
   ],
   "source": [
    "P_A = 0.5\n",
    "P_B = 0.75\n",
    "P_A_OR_P_B = P_A+P_B-(P_A*P_B)\n",
    "print(P_A_OR_P_B)"
   ]
  },
  {
   "cell_type": "markdown",
   "metadata": {},
   "source": [
    "### Permutations and Combinations\n",
    "Now we're going to talk about the probability of events to happen in a certain order or the probability of certain group of evens to happen. Both permutations and combinations are used in calculation of probabilities.\n",
    "\n",
    "Now more about Permutation and Combinations\n",
    "* Combination: It's an arrangements of items in each the order does not matter. \n",
    "* Permutation: It's an arrangements of items on a particular order.\n",
    "\n",
    "#### Permutations\n",
    "The number of permutations of n distinct objects taken r at a time, $P(n,r)$ is:\n",
    "$$P(n,r)=\\frac{n!}{(n-r)!}$$\n",
    "\n",
    "#### Combinations: M choose N\n",
    "Number of distinct groups of n items drawing from m items without replacement.\n",
    "$${{m}\\choose{n}} = \\frac{m!}{(m-n)!n!}$$\n",
    "Example: how many unique committees of five people I could form from a group of ten people. So I have, I start with m equals 10, and n equals 5. Or how many teams of 5 people can be formed from 10 people\n",
    "$${{10}\\choose{5}} = \\frac{10!}{(10-5)!5!}=252$$"
   ]
  },
  {
   "cell_type": "code",
   "execution_count": 26,
   "metadata": {
    "collapsed": false
   },
   "outputs": [
    {
     "name": "stdout",
     "output_type": "stream",
     "text": [
      "110.0\n",
      "151200.0\n",
      "6.0\n",
      "252.0\n",
      "4116715363800.0\n"
     ]
    }
   ],
   "source": [
    "# Permutation\n",
    "def perm_n_r(n,r):\n",
    "    return math.factorial(n)/math.factorial(n-r)\n",
    "\n",
    "# Combination\n",
    "def comb_m_choose_n(m, n):\n",
    "    return math.factorial(m)/(math.factorial(m-n)*math.factorial(n))\n",
    "\n",
    "print(math.factorial(11)/math.factorial(9))\n",
    "\n",
    "# Find the number of permutations of 10 distinct objects taken 6 at a time\n",
    "print(perm_n_r(10,6))\n",
    "\n",
    "# Find number of ways to arrange 3 distinct objects\n",
    "print(perm_n_r(3,3))\n",
    "\n",
    "# How many teams of 5 people can be formed from 10 people (Order does not matter)\n",
    "print(comb_m_choose_n(10,5))\n",
    "\n",
    "#A group of 45 civil servants at the State Department are newly qualified to serve \n",
    "# as Ambassadors to foreign governments. \n",
    "#There are 22 countries that currently need Ambassadors. \n",
    "#How many distinct groups of 22 people \n",
    "#can the President promote to fill these jobs?\n",
    "print(comb_m_choose_n(45,22))"
   ]
  },
  {
   "cell_type": "markdown",
   "metadata": {},
   "source": [
    "### Marginal Probability\n",
    "Imagine 2 random variables X that defines that some individual has a disease and Y that defines if the individual has synthoms.\n",
    "![alt text](MarginalProbability.png \"Prob Intro\")\n",
    "We get the marginal probability is what we get when we sum the probability values of some rows or cols from the proability distribution (Table with all possible probabilities outcomes). We say marginal because they are on the border (margin) of the matrix formed by the random variables (Joint probability).\n",
    "\n",
    "### The Sum Rule\n",
    "$$P(A)=P(A,B)+P(A,\\sim B)$$"
   ]
  },
  {
   "cell_type": "markdown",
   "metadata": {},
   "source": [
    "#### Problem 1:\n",
    "The Joint probability of my summiting Mt. Baker in the next two years AND my publishing a best-selling book in the next two years is .05.\n",
    "\n",
    "If the probability of my publishing a best-selling book in the next two years is 10%, and the probability of my summiting Mt. Baker in the next two years is 30%, what is the probability that (sadly) in the next two years I will neither summit Mt. Baker nor publish a best-selling book?\n",
    "\n",
    "What he wants is basically $P(\\sim A,\\sim B)$\n",
    "\n",
    "Let:\n",
    "A=summiting Mt. Baker in the next two years\n",
    "B=publishing a best-selling book in the next two years"
   ]
  },
  {
   "cell_type": "code",
   "execution_count": 27,
   "metadata": {
    "collapsed": false
   },
   "outputs": [
    {
     "name": "stdout",
     "output_type": "stream",
     "text": [
      "0.65\n"
     ]
    }
   ],
   "source": [
    "# Given\n",
    "P_A_AND_B = 0.05\n",
    "P_B = 0.1\n",
    "P_A = 0.3\n",
    "\n",
    "# Sum Rule reordered\n",
    "P_A_OR_NOT_B = P_A - P_A_AND_B\n",
    "\n",
    "# We have P(B), so P(~B)=1-P(B)\n",
    "P_NOT_B = 1 - P_B\n",
    "\n",
    "# Sum Rule reordered\n",
    "P_NOT_A_OR_NOT_B = P_NOT_B - P_A_OR_NOT_B\n",
    "print(P_NOT_A_OR_NOT_B)"
   ]
  },
  {
   "cell_type": "markdown",
   "metadata": {},
   "source": [
    "#### Problem 2:\n",
    "I am given the following 3 joint probabilities: Let A=I am leaving work early and B=there is a football game that I want to watch this afternoon\n",
    "\n",
    "* p(I am leaving work early, there is a football game that I want to watch this afternoon) = .1 $P(A=1,B=1)=0.1$\n",
    "* p(I am leaving work early, there is not a football game that I want to watch this afternoon) = .05\n",
    "* p(I am not leaving work early, there is not a football game that I want to watch this afternoon) = .65\n",
    "\n",
    "|Joint Probability|A=0|A=1|\n",
    "|--|-------------------------------|\n",
    "|B=0 |0.65|0.05 |\n",
    "|B=1 |Not given|0.1 |\n",
    "\n",
    "\n",
    "What is the probability that there is a football game that I want to watch this afternoon? $P(B)=?$"
   ]
  },
  {
   "cell_type": "code",
   "execution_count": 28,
   "metadata": {
    "collapsed": false
   },
   "outputs": [
    {
     "name": "stdout",
     "output_type": "stream",
     "text": [
      "Missing probability (A=0, B=1): 0.2\n",
      "P(B)= 0.3\n"
     ]
    }
   ],
   "source": [
    "# Solution first we need to calculate the missing value from the Probability distribution knowing that all \n",
    "# probabilities should sum to 1\n",
    "miss_prob = 1.0 - (0.65+0.05+0.1)\n",
    "print('Missing probability (A=0, B=1):',round(miss_prob,2))\n",
    "\n",
    "# Now to calculate P(B) (Marginal probability)\n",
    "# By the sum rule, the marginal probability P(B) = the sum of the joint probabilities\n",
    "# P(A=1, B=1) + P(A=0, B=1)\n",
    "print('P(B)=',round(miss_prob+0.1,2))"
   ]
  },
  {
   "cell_type": "markdown",
   "metadata": {},
   "source": [
    "### Conditional Probability\n",
    "It's the probability that a statement is true given that some other statement is true with certainty.\n",
    "![alt text](Cond_Prob.png \"Prob Intro\")\n",
    "Another way to think is if, B is true with 100% certainty, what is the probability of A. For example if I throw a six-sided die and it comes up odd, what is the conditional probability that it is a 3.\n",
    "\n",
    "#### Product Rule\n",
    "The product rule tells us that the conditional probability of A given that B is true with certainty is equal to the joint probability that both A and B are true divided by the marginal probability that B is true.\n",
    "\n",
    "$$P(A|B)=\\frac{P(A \\cap B)}{P(B)} \\therefore P(A|B)=\\frac{P(A).P(B)}{P(B)}$$\n",
    "\n",
    "Also notice:\n",
    "$$P(A,B)=P(A).P(B|A)$$\n",
    "\n",
    "Don't forget that $P(A \\cap B)$ is the probability of having A and B (Joint probability we multiply the probabilities)\n",
    "\n",
    "What normally happens is that your universe shrinks due to the certainty of the given statement.\n",
    "\n",
    "#### Definition of independence\n",
    "$$P(A|B) = P(A)$$"
   ]
  },
  {
   "cell_type": "markdown",
   "metadata": {
    "collapsed": true
   },
   "source": [
    "#### Conditional Probability example\n",
    "Let $X=\\text{there is a fire}$ and $Y=\\text{fire alarm rings}$\n",
    "\n",
    "* On 1 day in 1000, there is a fire and the fire alarm rings. $P(X=1,Y=1)=0.001$\n",
    "\n",
    "* On 1 day in 100, there is no fire and the fire alarm rings (false alarm) $P(X=0,Y=1)=0.01$\n",
    "\n",
    "* On 1 day in 10,000, there is a fire and the fire alarm does not ring (defective alarm). $P(X=1,Y=0)=0.0001$\n",
    "\n",
    "* On 9,889 days out of 10,000, there is no fire and the fire alarm does not ring. $P(X=0,Y=0)=0.9889$\n",
    "\n",
    "If the fire alarm rings, what is the (conditional) probability that there is a fire?\n",
    "\n",
    "Written $P(X | Y)$"
   ]
  },
  {
   "cell_type": "markdown",
   "metadata": {},
   "source": [
    "### Bayes Theorem\n",
    "![alt text](Bayes_theorem_1.png \"Bayes Theorem\")\n",
    "One of the coolest use cases of Bayes Theorem is the Inverse probability, which allow us to make educated guesses (The best possible) from observed data. It will try to answer the question:\n",
    "\"What is the probability of the observation given some data.\"\n",
    "Another cool feature about Bayes theorem is that it allows us to update our probabilities (beliefs) with new evidence (Data).\n",
    "\n",
    "Some terminology:\n",
    "* Result: Is the posterior probability (After new data is observed)\n",
    "* P(H): Prior probability (Before any data was observed (ex: 0.5), or just the old result)\n",
    "* P(E|H): Probability of evidence if hypothesis is 100% true.\n",
    "* P(E): Marginal probability that the evidence is true (E=true). We just sum all cases that the evidence appeared.\n",
    "\n",
    "#### Probability for Baysian people\n",
    "In the Bayesian interpretation, probability measures a “degree of belief.” Bayes’ theorem then links the degree of belief in a proposition before and after accounting for evidence. For example, suppose it is believed with 50% certainty that a coin is twice as likely to land heads than tails. If the coin is flipped a number of times and the outcomes observed, that degree of belief may rise, fall or remain the same depending on the results.\n",
    "\n",
    "#### Prior\n",
    "Some probability given before some observation."
   ]
  },
  {
   "cell_type": "markdown",
   "metadata": {},
   "source": [
    "#### Example 1:\n",
    "According to Department of Customs Enforcement Research: \n",
    "\n",
    "* 99% of people crossing into the United States are not smugglers. P(smuggler)=0.01\n",
    "* The majority of all Smugglers at the border (65%) appear nervous and sweaty. P(sweaty|smuggler)=0.65\n",
    "* Only 8% of innocent people at the border appear nervous and sweaty. P(inocent|sweaty)=0.08\n",
    "\n",
    "If someone at the border appears nervous and sweaty, what is the probability that they are a Smuggler?\n",
    "P(smuggler|sweaty)?"
   ]
  },
  {
   "cell_type": "code",
   "execution_count": 29,
   "metadata": {
    "collapsed": false
   },
   "outputs": [
    {
     "name": "stdout",
     "output_type": "stream",
     "text": [
      "Probability of been smuggler because is sweaty:  7.58E-02\n"
     ]
    }
   ],
   "source": [
    "# Evidences\n",
    "P_sweaty_given_inocent=0.08\n",
    "P_sweaty_given_smuggler=0.65\n",
    "\n",
    "P_inoccent = 0.99\n",
    "\n",
    "# Prior probability\n",
    "P_smuggler=0.01\n",
    "\n",
    "# Probability of the evidence is true (Include all cases)\n",
    "P_sweaty = (P_sweaty_given_inocent*P_inoccent) + (P_sweaty_given_smuggler*P_smuggler)\n",
    "\n",
    "# Bayes theorem\n",
    "P_smuggler_given_sweaty=(P_smuggler*P_sweaty_given_smuggler)/P_sweaty\n",
    "print('Probability of been smuggler because is sweaty: ', \"{:.2E}\".format(P_smuggler_given_sweaty))"
   ]
  },
  {
   "cell_type": "markdown",
   "metadata": {},
   "source": [
    "#### Example 2\n",
    "We have the following information about a new medical test for diagnosing cancer.\n",
    "\n",
    "* Before any data are observed, we know that 8% of the population to be tested actually have Cancer.\n",
    "* Of those tested who do have cancer, 90% of them get an accurate test result of \"Positive'' for cancer.\n",
    "* The other 10% get a false test result of \"Negative'' for Cancer.\n",
    "* Of the people who do not have cancer, 95% of them get an accurate test result of \"Negative'' for cancer.\n",
    "* The other 5% get a false test result of \"Positive'' for cancer.\n",
    "\n",
    "What is the conditional probability that I have cancer, if I get a \"Negative'' test result for Cancer?\n",
    "P(cancer|negative)?\n",
    "\n",
    "$$p(\\text{cancer | negative test})=\\frac {p(\\text {negative test}\\, \\mid \\,\\text {Cancer})\\, p(\\text {Cancer})} {p(\\text {negative test}\\, \\mid \\, \\text {cancer}) \\, p(\\text {cancer}) \\, + \\, p(\\text {negative test}\\, \\mid \\text {no cancer}) \\, p(\\text {no cancer})}$$\n"
   ]
  },
  {
   "cell_type": "code",
   "execution_count": 30,
   "metadata": {
    "collapsed": false
   },
   "outputs": [
    {
     "name": "stdout",
     "output_type": "stream",
     "text": [
      "Probability of having cancer if the result is negative:  0.009\n"
     ]
    }
   ],
   "source": [
    "# What is the probability of having cancer with a negative result\n",
    "# P(cancer|negative)=?\n",
    "\n",
    "# Our prior is that 8% of people of our universe does have cancer\n",
    "P_cancer = 0.08\n",
    "\n",
    "# Derived from our prior (1-P)\n",
    "P_no_cancer=0.92\n",
    "\n",
    "# Evidences\n",
    "P_positive_given_cancer=0.9\n",
    "P_negative_given_cancer=0.1\n",
    "P_negative_given_nocancer=0.95\n",
    "P_positive_given_nocancer=0.05\n",
    "\n",
    "# Probability of the negative evidence is true (Include all negative cases)\n",
    "P_negative = (P_negative_given_cancer*P_cancer) + (P_negative_given_nocancer*P_no_cancer)\n",
    "\n",
    "# Bayes theorem\n",
    "P_cancer_given_negative=(P_cancer*P_negative_given_cancer)/P_negative\n",
    "print('Probability of having cancer if the result is negative: ', round(P_cancer_given_negative,3))"
   ]
  },
  {
   "cell_type": "markdown",
   "metadata": {},
   "source": [
    "#### Example 3\n",
    "We have the following information about a new medical test for diagnosing cancer.\n",
    "\n",
    "* Before any data are observed, we know that 5% of the population to be tested actually have Cancer.\n",
    "* Of those tested who do have cancer, 90% of them get an accurate test result of “Positive” for cancer. The other 10% get a false test result of “Negative” for Cancer.\n",
    "* Of the people who do not have cancer, 90% of them get an accurate test result of “Negative” for cancer. The other 10% get a false test result of “Positive” for cancer.\n",
    "\n",
    "What is the conditional probability that I have Cancer, if I get a “Positive” test result for Cancer?\n"
   ]
  },
  {
   "cell_type": "code",
   "execution_count": 31,
   "metadata": {
    "collapsed": false
   },
   "outputs": [
    {
     "name": "stdout",
     "output_type": "stream",
     "text": [
      "Probability of having cancer if the result is positive:  0.321\n"
     ]
    }
   ],
   "source": [
    "# What is the probability of having cancer with a positive result\n",
    "# P(cancer|positive)=?\n",
    "\n",
    "# Our prior is that 5% of people of our universe does have cancer\n",
    "P_cancer = 0.05\n",
    "\n",
    "# Derived from our prior (1-P)\n",
    "P_no_cancer=0.95\n",
    "\n",
    "# Evidences (result if positive/negative) given that person has/not cancer\n",
    "P_positive_given_cancer=0.9\n",
    "P_negative_given_cancer=0.1\n",
    "P_negative_given_nocancer=0.9\n",
    "P_positive_given_nocancer=0.1\n",
    "\n",
    "# Probability of the positive evidence is true (Include all positive cases)\n",
    "P_positive = (P_positive_given_cancer*P_cancer) + (P_positive_given_nocancer*P_no_cancer)\n",
    "\n",
    "# Bayes theorem\n",
    "P_cancer_given_positive=(P_cancer*P_positive_given_cancer)/P_positive\n",
    "print('Probability of having cancer if the result is positive: ', round(P_cancer_given_positive,3))"
   ]
  },
  {
   "cell_type": "markdown",
   "metadata": {},
   "source": [
    "### The Binomial Theorem\n",
    "A probability formula for Bernoulli trials, which are random experiment with exactly two possible outcomes. The probability of achieving exactly s successes in n trials \n",
    "$${{n}\\choose{s}}.p^s(1-p)^{(n-s)}$$\n",
    "Where\n",
    "* $p$: Probability of success in one trial\n",
    "* $(n-s)$: Number of failures\n",
    "* $(1-p)$: Probability of failure\n",
    "* n: Trials\n",
    "* s: Success\n",
    "\n",
    "#### Example 1\n",
    "Calculate the probability of having 72 heads on 100 fair coin tosses:"
   ]
  },
  {
   "cell_type": "code",
   "execution_count": 32,
   "metadata": {
    "collapsed": false
   },
   "outputs": [
    {
     "name": "stdout",
     "output_type": "stream",
     "text": [
      "Probability:  3.94E-06\n"
     ]
    }
   ],
   "source": [
    "n=100\n",
    "s=72\n",
    "p=0.5\n",
    "prob = comb_m_choose_n(n, s)*(p**s)*(1-p)**(n-s)\n",
    "# Print on scientific notation\n",
    "print('Probability: ', \"{:.2E}\".format(prob))"
   ]
  },
  {
   "cell_type": "markdown",
   "metadata": {},
   "source": [
    "#### Example 2\n",
    "If I flip a fair coin, with heads and tails, ten times in a row, what is the probability that I will get exactly six heads?"
   ]
  },
  {
   "cell_type": "code",
   "execution_count": 33,
   "metadata": {
    "collapsed": false
   },
   "outputs": [
    {
     "name": "stdout",
     "output_type": "stream",
     "text": [
      "Probability:  2.05E-01\n"
     ]
    }
   ],
   "source": [
    "n=10\n",
    "s=6\n",
    "p=0.5\n",
    "prob = comb_m_choose_n(n, s)*(p**s)*(1-p)**(n-s)\n",
    "# Print on scientific notation\n",
    "print('Probability: ', \"{:.2E}\".format(prob))"
   ]
  },
  {
   "cell_type": "markdown",
   "metadata": {},
   "source": [
    "#### Example 3\n",
    "If a coin is bent so that it has a 40% probability of coming up heads, what is the probability of getting exactly 6 heads in 10 throws?"
   ]
  },
  {
   "cell_type": "code",
   "execution_count": 34,
   "metadata": {
    "collapsed": false
   },
   "outputs": [
    {
     "name": "stdout",
     "output_type": "stream",
     "text": [
      "Probability:  1.11E-01\n"
     ]
    }
   ],
   "source": [
    "n=10\n",
    "s=6\n",
    "p=0.4\n",
    "prob = comb_m_choose_n(n, s)*(p**s)*(1-p)**(n-s)\n",
    "# Print on scientific notation\n",
    "print('Probability: ', \"{:.2E}\".format(prob))"
   ]
  },
  {
   "cell_type": "markdown",
   "metadata": {},
   "source": [
    "#### Example 4\n",
    "A bent coin has 40% probability of coming up heads on each independent toss. If I toss the coin ten times, what is the probability that I get at least 8 heads?\n",
    "\n",
    "Hint \"at least\" means that we will have to add the probabilities"
   ]
  },
  {
   "cell_type": "code",
   "execution_count": 35,
   "metadata": {
    "collapsed": false
   },
   "outputs": [
    {
     "name": "stdout",
     "output_type": "stream",
     "text": [
      "Probability:  1.23E-02\n"
     ]
    }
   ],
   "source": [
    "n=10\n",
    "s=8\n",
    "p=0.4\n",
    "prob1 = comb_m_choose_n(n, s)*(p**s)*(1-p)**(n-s)\n",
    "\n",
    "n=10\n",
    "s=9\n",
    "p=0.4\n",
    "prob2 = comb_m_choose_n(n, s)*(p**s)*(1-p)**(n-s)\n",
    "\n",
    "n=10\n",
    "s=10\n",
    "p=0.4\n",
    "prob3 = comb_m_choose_n(n, s)*(p**s)*(1-p)**(n-s)\n",
    "\n",
    "# Print on scientific notation\n",
    "print('Probability: ', \"{:.2E}\".format(prob1+prob2+prob3))"
   ]
  },
  {
   "cell_type": "markdown",
   "metadata": {},
   "source": [
    "#### Merge with Bayes Theorem\n",
    "The thing is that sometimes we want to know the probability that the coint is fair given that we had 72 heads on 100 tosses.\n",
    "$$P(\\text{fair}|\\text{72 heads})=\\frac{P(\\text{72 heads}|\\text{fair})*0.5}{P(\\text{72 heads|fair)}.0.5 + P(\\text{72 heads|unfair)}.0.5}$$"
   ]
  },
  {
   "cell_type": "markdown",
   "metadata": {},
   "source": [
    "#### Example 1\n",
    "An urn contains 50 marbles – 40 blue and 10 white. After 50 draws, exactly 40 blue and 10 white are observed.\n",
    "You are not told whether the draw was done “with replacement” or “without replacement.”\n",
    "\n",
    "What is the probability that the draw was done with replacement?"
   ]
  },
  {
   "cell_type": "code",
   "execution_count": 36,
   "metadata": {
    "collapsed": false
   },
   "outputs": [
    {
     "name": "stdout",
     "output_type": "stream",
     "text": [
      "0.12266772578768555\n"
     ]
    }
   ],
   "source": [
    "n=50\n",
    "s=40\n",
    "p=40/50\n",
    "prob1 = comb_m_choose_n(n, s)*(p**s)*(1-p)**(n-s)\n",
    "\n",
    "# As no explicit prior is given\n",
    "prior = 0.5\n",
    "\n",
    "# Given on the problem (After 50 draws)\n",
    "p_40_10_given_norep = 1.0\n",
    "\n",
    "\n",
    "# Now using bayes theorem\n",
    "p_draw_given_data = (prob1 * 0.5) / ((prob1*prior) + (p_40_10_given_norep*prior))\n",
    "\n",
    "print(p_draw_given_data)"
   ]
  },
  {
   "cell_type": "markdown",
   "metadata": {},
   "source": [
    "## Final Test (Probability)"
   ]
  },
  {
   "cell_type": "markdown",
   "metadata": {},
   "source": [
    "#### Prob 1 (8)\n",
    "I am at my office AND not working 2% of the time. I am at my office 10% of the time. What is the conditional probability that I am not working, if I am at my office?"
   ]
  },
  {
   "cell_type": "code",
   "execution_count": 37,
   "metadata": {
    "collapsed": false
   },
   "outputs": [
    {
     "name": "stdout",
     "output_type": "stream",
     "text": [
      "Probability not working while in the office: 2.00E-01\n"
     ]
    }
   ],
   "source": [
    "P_office = 0.1\n",
    "P_office_and_not_working=0.02\n",
    "# As P(A,B) = P(A).P(B|A) (General formula)\n",
    "P_not_working_given_office=P_office_and_not_working/P_office\n",
    "print('Probability not working while in the office:',\"{:.2E}\".format(P_not_working_given_office))"
   ]
  },
  {
   "cell_type": "markdown",
   "metadata": {},
   "source": [
    "#### Prob 2 (11)\n",
    "What is the probability, if I flip a fair coin with heads and tails ten times in a row, that I get at least 8 heads?"
   ]
  },
  {
   "cell_type": "code",
   "execution_count": 38,
   "metadata": {
    "collapsed": false
   },
   "outputs": [
    {
     "name": "stdout",
     "output_type": "stream",
     "text": [
      "Probability:  5.47E-02\n"
     ]
    }
   ],
   "source": [
    "n=10\n",
    "s=8\n",
    "p=0.5\n",
    "prob1 = comb_m_choose_n(n, s)*(p**s)*(1-p)**(n-s)\n",
    "\n",
    "n=10\n",
    "s=9\n",
    "p=0.5\n",
    "prob2 = comb_m_choose_n(n, s)*(p**s)*(1-p)**(n-s)\n",
    "\n",
    "n=10\n",
    "s=10\n",
    "p=0.5\n",
    "prob3 = comb_m_choose_n(n, s)*(p**s)*(1-p)**(n-s)\n",
    "\n",
    "# Print on scientific notation\n",
    "print('Probability: ', \"{:.2E}\".format(prob1+prob2+prob3))"
   ]
  },
  {
   "cell_type": "markdown",
   "metadata": {},
   "source": [
    "#### Prob 3 (4)\n",
    "The probability that I will go sailing today AND the fair six-sided die will come up even on the next roll is .3.\n",
    "If these events are independent, what is the probability that I will go sailing today?"
   ]
  },
  {
   "cell_type": "code",
   "execution_count": 39,
   "metadata": {
    "collapsed": false
   },
   "outputs": [
    {
     "name": "stdout",
     "output_type": "stream",
     "text": [
      "[0.600000000000000]\n"
     ]
    }
   ],
   "source": [
    "# Independent events so P(A,B) = P(A)*P(B), remember that the general formula is As P(A,B) = P(A).P(B|A) \n",
    "P_sail_and_dice = 0.3\n",
    "P_dice=3/6\n",
    "\n",
    "from sympy.solvers import solve\n",
    "from sympy import Symbol\n",
    "P_sail = Symbol('P_sail')\n",
    "sol_p_sail = solve(P_sail*P_dice-0.3, P_sail)\n",
    "print(sol_p_sail)"
   ]
  },
  {
   "cell_type": "markdown",
   "metadata": {},
   "source": [
    "#### Prob 4 (5)\n",
    "I have two coins. One is fair, and has a probability of coming up heads of.5. The second is bent, and has a probability of coming up heads of.75. If I toss each coin once, what is the probability that at least one of the coins will come up tails?"
   ]
  },
  {
   "cell_type": "code",
   "execution_count": 40,
   "metadata": {
    "collapsed": false
   },
   "outputs": [
    {
     "name": "stdout",
     "output_type": "stream",
     "text": [
      "0.625\n"
     ]
    }
   ],
   "source": [
    "P_Fair_head=0.5\n",
    "P_Fair_tails=1-P_Fair_head\n",
    "P_Bent_head=0.75\n",
    "P_Bent_tails=1-P_Bent_head\n",
    "\n",
    "# Probability of having tails on at least one (P(A or B))\n",
    "P = (P_Fair_tails+P_Bent_tails) - (P_Fair_tails*P_Bent_tails)\n",
    "print(P)"
   ]
  },
  {
   "cell_type": "markdown",
   "metadata": {},
   "source": [
    "#### Prob 5 (7)\n",
    "If it rains, I do not go sailing. It rains 10% of days; I go sailing 3% of days.\n",
    "If it does not rain, what is the (conditional) probability that I go sailing?\n",
    "\n",
    "Written \"p(I go sailing | it does not rain)''?\n",
    "Peng said 3.333% (He is right)\n",
    "\n",
    "Remember the product Rule\n",
    "$$P(A|B)=\\frac{P(A).P(B)}{P(B)}$$"
   ]
  },
  {
   "cell_type": "code",
   "execution_count": 41,
   "metadata": {
    "collapsed": false
   },
   "outputs": [
    {
     "name": "stdout",
     "output_type": "stream",
     "text": [
      "0.03333333333333333\n"
     ]
    }
   ],
   "source": [
    "P_rain = 0.1\n",
    "P_not_rain = 1 - P_rain\n",
    "P_sail = 0.03\n",
    "P_sail_given_rains = 0\n",
    "\n",
    "# Considering that the probability of sail the same as the probability of sail and not raining P(sail,not_rain)\n",
    "# P_sail = P(sail,not_rain). This is implicit because we never sail when is raining .... P_sail_given_rains=0\n",
    "\n",
    "# Now using the product rule....\n",
    "P_sail_given_not_rain = (P_sail)/P_not_rain\n",
    "print(P_sail_given_not_rain)"
   ]
  },
  {
   "cell_type": "markdown",
   "metadata": {},
   "source": [
    "#### Problem 6(9)\n",
    "The factory quality control department discovers that the conditional probability of making a manufacturing mistake in its precision ball bearing production is 4% on Tuesday, 4% on Wednesday, 4% on Thursday, 8% on Monday, and 12% on Friday.\n",
    "\n",
    "The Company manufactures an equal amount of ball bearings (20%) on each weekday. What is the probability that a defective ball bearing was manufactured on a Friday?\n",
    "P(friday|mistake)"
   ]
  },
  {
   "cell_type": "code",
   "execution_count": 42,
   "metadata": {
    "collapsed": false
   },
   "outputs": [
    {
     "name": "stdout",
     "output_type": "stream",
     "text": [
      "0.375\n"
     ]
    }
   ],
   "source": [
    "# This prior came from my head\n",
    "prior = 0.5\n",
    "prod_day=0.2\n",
    "P_mistake_given_monday=0.08\n",
    "P_mistake_given_tuesday=0.04\n",
    "P_mistake_given_wedsday=0.04\n",
    "P_mistake_given_thursday=0.04\n",
    "P_mistake_given_friday=0.12\n",
    "\n",
    "# Using Bayes theorem\n",
    "P_evidence_mistake = (prior*P_mistake_given_friday) + (prior*P_mistake_given_thursday) + (prior*P_mistake_given_wedsday) + (prior*P_mistake_given_tuesday) + (prior*P_mistake_given_monday)\n",
    "P_friday_given_mistake = (prior*P_mistake_given_friday)/P_evidence_mistake\n",
    "print(P_friday_given_mistake)"
   ]
  },
  {
   "cell_type": "markdown",
   "metadata": {},
   "source": [
    "#### Problem 7(12)\n",
    "\n",
    "Suppose I have either a fair coin or a bent coin, and I don’t know which. The bent coin has a 60% probability of coming up heads.\n",
    "\n",
    "I throw the coin ten times and it comes up heads 8 times. What is the probability I have the fair coin vs. the probability I have the bent coin?\n",
    "\n",
    "Assume at the outset there is an equal (.5,.5) prior probability of either coin."
   ]
  },
  {
   "cell_type": "code",
   "execution_count": 43,
   "metadata": {
    "collapsed": false
   },
   "outputs": [
    {
     "name": "stdout",
     "output_type": "stream",
     "text": [
      "Fair: 0.0439453125\n",
      "Bent: 0.12093235199999998\n",
      "0.12093235199999998\n"
     ]
    }
   ],
   "source": [
    "#### IS STILL WRONG......####\n",
    "n=10\n",
    "s=8\n",
    "# Bent probability of heads\n",
    "p=0.6\n",
    "prob_bent = comb_m_choose_n(n, s)*(p**s)*(1-p)**(n-s)\n",
    "\n",
    "n=10\n",
    "s=8\n",
    "# Fair probability\n",
    "p=0.5\n",
    "prob_fair = comb_m_choose_n(n, s)*(p**s)*(1-p)**(n-s)\n",
    "\n",
    "print('Fair:',prob_fair)\n",
    "print('Bent:',prob_bent)\n",
    "\n",
    "# As no explicit prior is given\n",
    "prior_bent = 0.5\n",
    "prior_fair = 0.5\n",
    "\n",
    "# Given on the problem (After 50 draws)\n",
    "#p_40_10_given_norep = 1.0\n",
    "\n",
    "\n",
    "# Now using bayes theorem\n",
    "p_bent_given_data = (prior_bent * prob_bent) / ((prob_bent*prior_bent) + ((1-prob_bent)*prior_bent))\n",
    "\n",
    "print(p_bent_given_data)"
   ]
  },
  {
   "cell_type": "markdown",
   "metadata": {},
   "source": [
    "#### Problem 8\n",
    "What is the probability, when drawing 5 cards from a fair 52-card deck, of drawing a \"full house'' (three of a kind and a pair) in the form AAABB?\n",
    "![alt text](CardDeck.jpg \"Bayes Theorem\")\n",
    "![alt text](FullHouse.png \"Bayes Theorem\")\n",
    "\n",
    "Reference:\n",
    "* https://math.stackexchange.com/questions/808314/probability-of-getting-a-full-house\n",
    "$${{{13\\choose 1}{4\\choose 3}{12\\choose 1}{4\\choose 2}}\\over{52\\choose 5}}={{(13)(4)(12)(6)}\\over2598960}={3744\\over2598960}\\approx0.00144$$"
   ]
  },
  {
   "cell_type": "code",
   "execution_count": null,
   "metadata": {
    "collapsed": true
   },
   "outputs": [],
   "source": []
  },
  {
   "cell_type": "markdown",
   "metadata": {},
   "source": [
    "### Problem 9 (1)\n",
    "What additional statement, added to the three below, forms a probability distribution?\n",
    "\n",
    "* (1) I missed only my first class today\n",
    "* (2) I missed only my second class today\n",
    "* (3) I missed both my first and second class today"
   ]
  },
  {
   "cell_type": "code",
   "execution_count": 44,
   "metadata": {
    "collapsed": true
   },
   "outputs": [],
   "source": [
    "answer='I did not miss my first or second class today'"
   ]
  },
  {
   "cell_type": "markdown",
   "metadata": {},
   "source": [
    "#### Problem 10 (2)\n",
    "My friend takes 10 cards at random from a 52-card deck, and places them in a box. Then he puts the other 42 cards in a second, identical box. He hands me one of the two boxes and asks me to draw out the top card. What is the probability that the first card I draw will be the Ace of Spades?"
   ]
  },
  {
   "cell_type": "code",
   "execution_count": 45,
   "metadata": {
    "collapsed": true
   },
   "outputs": [],
   "source": [
    "# As those probabilities are totally independent\n",
    "prob=1/52"
   ]
  },
  {
   "cell_type": "markdown",
   "metadata": {},
   "source": [
    "#### Problem 11(10)\n",
    "An Urn contains two white marbles and one black marble. A marble is drawn from the Urn without replacement and put aside without my seeing it. Then a second marble is drawn, and it is white.\n",
    "\n",
    "What is the probability that the unknown removed marble is white, and what is the probability that it is black?"
   ]
  },
  {
   "cell_type": "code",
   "execution_count": null,
   "metadata": {
    "collapsed": true
   },
   "outputs": [],
   "source": [
    "#p(the first marble is white∣the second marble is white)=0.6667\n",
    "#p(the first marble is black∣the second marble is white)=0.333"
   ]
  },
  {
   "cell_type": "markdown",
   "metadata": {},
   "source": [
    "#### Problem 12(11)\n",
    "I will go sailing today if it does not rain. Are the following two statements Independent or dependent?\n",
    "\n",
    "* (1) “I will go sailing today”\n",
    "* (2) “It will not rain today”\n",
    "\n",
    "Answer: Dependent"
   ]
  }
 ],
 "metadata": {
  "kernelspec": {
   "display_name": "Python 3",
   "language": "python",
   "name": "python3"
  },
  "language_info": {
   "codemirror_mode": {
    "name": "ipython",
    "version": 3
   },
   "file_extension": ".py",
   "mimetype": "text/x-python",
   "name": "python",
   "nbconvert_exporter": "python",
   "pygments_lexer": "ipython3",
   "version": "3.6.0"
  }
 },
 "nbformat": 4,
 "nbformat_minor": 2
}
