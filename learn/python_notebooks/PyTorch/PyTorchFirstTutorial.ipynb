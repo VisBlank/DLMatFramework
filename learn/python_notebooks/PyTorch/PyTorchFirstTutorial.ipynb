{
 "cells": [
  {
   "cell_type": "markdown",
   "metadata": {},
   "source": [
    "## PyTorch first tutorial\n",
    "\n",
    "Pytorch can be considered as a GPU extension to numpy, also it serves as a deep learning research library, where doing experiments are easier than Tensorflow.\n",
    "\n",
    "This tutorial will show the following basics:\n",
    "* Tensor creation\n",
    "* Acessing tensor elements (also range)\n",
    "* Moving to the GPU\n",
    "* Converting data from Numpy to PyTorch and vice-versa\n",
    "* Autograd\n",
    "\n",
    "References:\n",
    "\n",
    "* http://pytorch.org/tutorials/beginner/blitz/tensor_tutorial.html#sphx-glr-beginner-blitz-tensor-tutorial-py\n",
    "* http://pytorch.org/tutorials/beginner/pytorch_with_examples.html\n",
    "* https://github.com/jcjohnson/pytorch-examples\n",
    "* http://blog.gaurav.im/2017/04/24/a-gentle-intro-to-pytorch/\n",
    "* http://pytorch.org/tutorials/beginner/blitz/autograd_tutorial.html"
   ]
  },
  {
   "cell_type": "code",
   "execution_count": 1,
   "metadata": {
    "collapsed": true
   },
   "outputs": [],
   "source": [
    "import numpy as np\n",
    "import torch\n",
    "from torch.autograd import Variable\n",
    "\n",
    "dtype = torch.FloatTensor\n",
    "# dtype = torch.cuda.FloatTensor # Uncomment this to run on GPU"
   ]
  },
  {
   "cell_type": "markdown",
   "metadata": {},
   "source": [
    "### Some basic matrix manipulation"
   ]
  },
  {
   "cell_type": "code",
   "execution_count": 2,
   "metadata": {
    "collapsed": false
   },
   "outputs": [
    {
     "name": "stdout",
     "output_type": "stream",
     "text": [
      "\n",
      " 0.2115  0.1716  0.8654\n",
      " 0.0135  0.6668  0.9775\n",
      "[torch.FloatTensor of size 2x3]\n",
      "\n",
      "\n",
      " 0.0938  0.8411  0.6898\n",
      " 0.3097  0.2234  0.8247\n",
      "[torch.FloatTensor of size 2x3]\n",
      "\n",
      "\n",
      " 0.6106  2.0254  3.1104\n",
      " 0.6464  1.7804  3.6045\n",
      "[torch.FloatTensor of size 2x3]\n",
      "\n",
      "torch.Size([2, 3])\n"
     ]
    }
   ],
   "source": [
    "# Create a 2x3 matrix (2d Tensor)\n",
    "a = torch.rand(2, 3)\n",
    "b = torch.rand(2, 3)\n",
    "c = (a + b) * 2\n",
    "# Print contents\n",
    "print(a)\n",
    "print(b)\n",
    "print(c)\n",
    "print\n",
    "# Print it's shape\n",
    "print(a.size())"
   ]
  },
  {
   "cell_type": "markdown",
   "metadata": {},
   "source": [
    "### Tensor range selection/assign and Numpy Pytorch conversion"
   ]
  },
  {
   "cell_type": "code",
   "execution_count": 3,
   "metadata": {
    "collapsed": false
   },
   "outputs": [
    {
     "name": "stdout",
     "output_type": "stream",
     "text": [
      "\n",
      " 0.1716\n",
      " 0.6668\n",
      "[torch.FloatTensor of size 2]\n",
      "\n",
      "\n",
      " 7.0000  0.1716  0.8654\n",
      " 7.0000  0.6668  0.9775\n",
      "[torch.FloatTensor of size 2x3]\n",
      "\n",
      "0.1716495156288147\n",
      "Numpy matrix shape: (3, 3)\n",
      "[[1 2 3]\n",
      " [4 5 6]\n",
      " [7 8 9]]\n",
      "\n",
      " 5  6\n",
      " 8  9\n",
      "[torch.LongTensor of size 2x2]\n",
      "\n",
      "(2, 2)\n",
      "[[5 6]\n",
      " [8 9]]\n"
     ]
    }
   ],
   "source": [
    "# Get second collumn of a\n",
    "print(a[:, 1])\n",
    "\n",
    "# Set all elements of first collumn to 7 (Try this on tensorflow)\n",
    "a[:, 0] = 7\n",
    "print(a)\n",
    "\n",
    "# Get some particular element (first row second collumn)\n",
    "print(a[0,1])\n",
    "\n",
    "# Create a variable on numpy and convert to torch\n",
    "d_npy = np.array([[1,2,3],[4,5,6],[7,8,9]])\n",
    "print('Numpy matrix shape:',d_npy.shape)\n",
    "print(d_npy)\n",
    "# Convert from numpy to torch\n",
    "d_torch = torch.from_numpy(d_npy)\n",
    "\n",
    "# Get a range\n",
    "range_d_torch = d_torch[1:None, 1:3]\n",
    "print(range_d_torch)\n",
    "\n",
    "# Convert to numpy array\n",
    "d_npy_res = range_d_torch.numpy()\n",
    "print(d_npy_res.shape)\n",
    "print(d_npy_res)"
   ]
  },
  {
   "cell_type": "markdown",
   "metadata": {},
   "source": [
    "### Do some stuff on the GPU"
   ]
  },
  {
   "cell_type": "code",
   "execution_count": 4,
   "metadata": {
    "collapsed": false
   },
   "outputs": [
    {
     "name": "stdout",
     "output_type": "stream",
     "text": [
      "\n",
      " 14.1877   2.0254   3.1104\n",
      " 14.6193   1.7804   3.6045\n",
      "[torch.cuda.FloatTensor of size 2x3 (GPU 0)]\n",
      "\n"
     ]
    }
   ],
   "source": [
    "if torch.cuda.is_available():\n",
    "    # Bring torch tensors to gpu\n",
    "    a = a.cuda()\n",
    "    b = b.cuda()\n",
    "    c = (a + b) * 2\n",
    "    print(c)"
   ]
  },
  {
   "cell_type": "markdown",
   "metadata": {},
   "source": [
    "### Autograd\n",
    "PyTorch provides automatic diferentiation to all it's operations on tensors this section will show how it works.\n",
    "Actually on real cases you just need to define the forward pass of your network."
   ]
  },
  {
   "cell_type": "code",
   "execution_count": 5,
   "metadata": {
    "collapsed": false
   },
   "outputs": [
    {
     "name": "stdout",
     "output_type": "stream",
     "text": [
      "Variable containing:\n",
      " 1  1\n",
      " 1  1\n",
      "[torch.FloatTensor of size 2x2]\n",
      "\n",
      "Variable containing:\n",
      " 3\n",
      "[torch.FloatTensor of size 1]\n",
      "\n",
      "Variable containing:\n",
      " 0.2500  0.2500\n",
      " 0.2500  0.2500\n",
      "[torch.FloatTensor of size 2x2]\n",
      "\n"
     ]
    }
   ],
   "source": [
    "a = Variable(torch.ones(2, 2), requires_grad=True)\n",
    "b = Variable(torch.ones(2, 2), requires_grad=True) * 2\n",
    "print(a)\n",
    "\n",
    "# Some function\n",
    "y = a + b\n",
    "out = y.mean()\n",
    "\n",
    "print(out)\n",
    "\n",
    "out.backward()\n",
    "print(a.grad)"
   ]
  }
 ],
 "metadata": {
  "kernelspec": {
   "display_name": "Python [conda root]",
   "language": "python",
   "name": "conda-root-py"
  },
  "language_info": {
   "codemirror_mode": {
    "name": "ipython",
    "version": 3
   },
   "file_extension": ".py",
   "mimetype": "text/x-python",
   "name": "python",
   "nbconvert_exporter": "python",
   "pygments_lexer": "ipython3",
   "version": "3.5.2"
  }
 },
 "nbformat": 4,
 "nbformat_minor": 2
}
