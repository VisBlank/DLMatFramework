{
 "cells": [
  {
   "cell_type": "markdown",
   "metadata": {},
   "source": [
    "## Convolution AutoEncoder\n",
    "\n",
    "![alt text](deep_autoencoder.png \"Deep Auto-encoder\")\n",
    "\n",
    "Basically 2 mirrored neural networks, where the center part (Latent code) will have a compressed representation of the input.\n",
    "![alt text](autoencoder_schema.jpg \"Auto-Encoder\")\n",
    "\n",
    "Now doing the whole thing with convs,pools,unpools,deconvs\n",
    "![alt text](CAE_Image.png \"Convolutional Auto-Encoder\")\n",
    "\n",
    "### Things that you could do\n",
    "* Pretrain a CONV network (Unsupervised training on imagenet, making the encoder a good feature detector)\n",
    "* Colorization\n",
    "* Latent space clustering (Use PCA/tsne on the squeezed part of the network)\n",
    "* Building block for other projects like Segnets\n",
    "\n",
    "References:\n",
    "\n",
    "* https://gist.github.com/tomokishii/7ddde510edb1c4273438ba0663b26fc6\n",
    "* https://github.com/pkmital/tensorflow_tutorials\n",
    "* https://github.com/chiphuyen/tf-stanford-tutorials\n",
    "* https://blog.dominodatalab.com/imbalanced-datasets/\n",
    "* https://pgaleone.eu/neural-networks/2016/11/24/convolutional-autoencoders/\n",
    "* https://pgaleone.eu/neural-networks/deep-learning/2016/12/13/convolutional-autoencoders-in-tensorflow/\n",
    "* https://swarbrickjones.wordpress.com/2015/04/29/convolutional-autoencoders-in-pythontheanolasagne/\n",
    "* https://gist.github.com/Newmu/a56d5446416f5ad2bbac\n",
    "* https://gist.github.com/kastnerkyle/f3f67424adda343fef40\n",
    "* https://github.com/Kaixhin/Autoencoders\n",
    "* https://github.com/siavashk/imagenet-autoencoder\n",
    "* https://siavashk.github.io/2016/02/22/autoencoder-imagenet/\n",
    "* http://torch.ch/blog/2015/11/13/gan.html\n",
    "* https://github.com/andreaazzini/segnet\n",
    "* https://github.com/tkuanlun350/Tensorflow-SegNet\n",
    "* https://github.com/shekkizh/FCN.tensorflow\n",
    "* http://techtalks.tv/talks/fully-convolutional-networks-for-semantic-segmentation/61606/\n",
    "* https://github.com/xiaofanglegoc/tensorflow-fcn\n",
    "* https://www.robots.ox.ac.uk/~vgg/rg/papers/Dosovitskiy_Learning_to_Generate_2015_CVPR_paper.pdf\n",
    "* http://stackoverflow.com/questions/36548736/tensorflow-unpoolingtensorflow/tensorflow#2169\n",
    "* https://arxiv.org/pdf/1412.7062.pdf\n",
    "* https://arxiv.org/pdf/1511.07122.pdf\n",
    "* https://hackernoon.com/autoencoders-deep-learning-bits-1-11731e200694\n",
    "* https://www.youtube.com/watch?v=eBbEDRsCmv4&t=446s\n",
    "* https://www.tensorflow.org/get_started/embedding_viz\n",
    "* http://rdipietro.github.io/friendly-intro-to-cross-entropy-loss/\n",
    "* http://colah.github.io/posts/2014-10-Visualizing-MNIST/\n",
    "* https://github.com/aymericdamien/TensorFlow-Examples/blob/master/examples/3_NeuralNetworks/autoencoder.py\n",
    "* https://jmetzen.github.io/2015-11-27/vae.html\n",
    "* https://github.com/tensorflow/models/blob/master/autoencoder/autoencoder_models/Autoencoder.py\n",
    "* https://www.youtube.com/watch?v=H_Bi_PQWJJc\n",
    "* https://www.youtube.com/watch?v=z5ZYm_wJ37c\n",
    "* https://www.youtube.com/watch?v=pLC-zqttQJE\n",
    "* https://www.youtube.com/watch?v=Rdpbnd0pCiI\n",
    "* http://cs231n.stanford.edu/slides/2017/cs231n_2017_lecture13.pdf\n",
    "* https://medium.com/@juliendespois/latent-space-visualization-deep-learning-bits-2-bd09a46920df\n",
    "* https://github.com/tiny-dnn/tiny-dnn/issues/612\n",
    "* http://www.tensorflowexamples.com/2017/01/transposed-convnets-or-deconvolution.html\n",
    "* https://arxiv.org/pdf/1609.03677.pdf"
   ]
  },
  {
   "cell_type": "code",
   "execution_count": 1,
   "metadata": {
    "collapsed": true
   },
   "outputs": [],
   "source": [
    "import numpy as np\n",
    "import matplotlib as mpl\n",
    "import matplotlib.pyplot as plt\n",
    "import tensorflow as tf\n",
    "from tensorflow.examples.tutorials.mnist import input_data\n",
    "\n",
    "# Force to see just the first GPU\n",
    "# https://devblogs.nvidia.com/parallelforall/cuda-pro-tip-control-gpu-visibility-cuda_visible_devices/\n",
    "import os\n",
    "os.environ[\"CUDA_VISIBLE_DEVICES\"]=\"0\""
   ]
  },
  {
   "cell_type": "code",
   "execution_count": 2,
   "metadata": {
    "collapsed": false
   },
   "outputs": [
    {
     "name": "stdout",
     "output_type": "stream",
     "text": [
      "Extracting ../MNIST_data/train-images-idx3-ubyte.gz\n",
      "Extracting ../MNIST_data/train-labels-idx1-ubyte.gz\n",
      "Extracting ../MNIST_data/t10k-images-idx3-ubyte.gz\n",
      "Extracting ../MNIST_data/t10k-labels-idx1-ubyte.gz\n"
     ]
    }
   ],
   "source": [
    "# Load MNIST dataset\n",
    "mnist = input_data.read_data_sets(\"../MNIST_data/\", one_hot=True)"
   ]
  },
  {
   "cell_type": "markdown",
   "metadata": {},
   "source": [
    "### Create some helper functions"
   ]
  },
  {
   "cell_type": "code",
   "execution_count": 3,
   "metadata": {
    "collapsed": true
   },
   "outputs": [],
   "source": [
    "# 2d Convolution\n",
    "def conv2d(x, k_h, k_w, channels_in, channels_out, stride, act_type='relu', name=\"conv\", viewWeights=False):\n",
    "    with tf.name_scope(name):\n",
    "        # Define weights\n",
    "        w = tf.Variable(tf.truncated_normal([k_h,k_w, channels_in, channels_out], stddev=0.1), name=\"weights\")\n",
    "        b = tf.Variable(tf.constant(0.1, shape=[channels_out]), name=\"bias\")    \n",
    "        # Convolution\n",
    "        #conv = tf.nn.conv2d(x, w, strides=[1, 1, 1, 1], padding='SAME')    \n",
    "        conv = tf.nn.conv2d(x, w, strides=[1, stride, stride, 1], padding='SAME')    \n",
    "                \n",
    "        # Relu or sigmoid\n",
    "        if act_type == 'relu':\n",
    "            activation = tf.nn.relu(conv + b)\n",
    "        else:\n",
    "            activation = tf.sigmoid(conv + b)\n",
    "        \n",
    "        # Add summaries for helping debug\n",
    "        tf.summary.histogram(\"weights\", w)\n",
    "        tf.summary.histogram(\"bias\", b)\n",
    "        tf.summary.histogram(\"activation\", activation)\n",
    "        \n",
    "        # Visualize weights if needed\n",
    "        if viewWeights == True:                        \n",
    "            tf.summary.image(\"W_grid\", put_kernels_on_grid(w,3,8), 1)            \n",
    "            \n",
    "        return activation\n",
    "\n",
    "# 2d Transposed convolution (Deconvolution)\n",
    "def conv2d_transpose(x, out_size, k_h, k_w, channels_in, channels_out, stride, act_type='relu', name=\"deconv\"):\n",
    "    with tf.name_scope(name):\n",
    "        # Define weights (Notice that out/in channels are swapped on transposed conv)\n",
    "        w = tf.Variable(tf.truncated_normal([k_h,k_w, channels_out, channels_in], stddev=0.1), name=\"weights\")\n",
    "        b = tf.Variable(tf.constant(0.1, shape=[channels_out]), name=\"bias\")    \n",
    "        \n",
    "        # Image output shape\n",
    "        shape4D = [tf.shape(x)[0], out_size[0], out_size[1], channels_out]\n",
    "        # Deconvolution (Transposed convolution)\n",
    "        conv = tf.nn.conv2d_transpose(x, w, output_shape=shape4D, strides=[1, stride, stride, 1], padding='SAME')                \n",
    "        \n",
    "        # Relu or sigmoid\n",
    "        if act_type == 'relu':\n",
    "            activation = tf.nn.relu(conv + b)\n",
    "        else:\n",
    "            activation = tf.sigmoid(conv + b)\n",
    "        \n",
    "        # Add summaries for helping debug\n",
    "        tf.summary.histogram(\"weights\", w)\n",
    "        tf.summary.histogram(\"bias\", b)\n",
    "        tf.summary.histogram(\"activation\", activation)                \n",
    "            \n",
    "        return activation    \n",
    "\n",
    "def max_pool(x, k_h, k_w, S, name=\"maxpool\"):\n",
    "    with tf.name_scope(name):\n",
    "        return tf.nn.max_pool(x, ksize=[1, k_h, k_w, 1],strides=[1, S, S, 1], padding='SAME')\n",
    "\n",
    "\n",
    "def fc_layer(x, channels_in, channels_out, name=\"fc\"):\n",
    "    with tf.name_scope(name):\n",
    "        w = tf.Variable(tf.truncated_normal([channels_in, channels_out], stddev=0.1), name=\"weights\")\n",
    "        b = tf.Variable(tf.constant(0.1, shape=[channels_out]), name=\"bias\")    \n",
    "        activation = tf.nn.relu(tf.matmul(x, w) + b)\n",
    "        # Add summaries for helping debug\n",
    "        tf.summary.histogram(\"weights\", w)\n",
    "        tf.summary.histogram(\"bias\", b)\n",
    "        tf.summary.histogram(\"activation\", activation)\n",
    "        return activation"
   ]
  },
  {
   "cell_type": "markdown",
   "metadata": {},
   "source": [
    "### Define Model\n",
    "Basically what we want to build.\n",
    "![alt text](CAE_Tensorboard.png \"Convolutional Auto-Encoder\")"
   ]
  },
  {
   "cell_type": "code",
   "execution_count": 4,
   "metadata": {
    "collapsed": true
   },
   "outputs": [],
   "source": [
    "# Define model input\n",
    "# Input placeholders\n",
    "x = tf.placeholder(tf.float32, [None, 784])\n",
    "\n",
    "# Reshape to MNIST image dimensions 28x28x1\n",
    "x_image = tf.reshape(x, [-1, 28, 28, 1])\n",
    "\n",
    "##### ENCODER\n",
    "# K_y,K_x,in_depth,out_depth,stride\n",
    "conv1_out = conv2d(x_image, 3, 3, 1, 16, 1, act_type='relu', name=\"conv1\")        \n",
    "pool1_out = max_pool(conv1_out, 2, 2, 2, \"pool1\")        \n",
    "conv2_out = conv2d(pool1_out, 3, 3, 16, 8, 1, act_type='relu', name=\"conv2\")        \n",
    "pool2_out = max_pool(conv2_out, 2, 2, 2, \"pool2\")        \n",
    "conv3_out = conv2d(pool2_out, 3, 3, 8, 8, 1, act_type='relu', name=\"conv3\")    \n",
    "pool3_out = max_pool(conv3_out, 2, 2, 2, \"pool3\")\n",
    "\n",
    "##### DECODER\n",
    "# at this point the representation is (8, 4, 4) i.e. 128-dimensional\n",
    "# Decoding phase    \n",
    "conv_t1_out = conv2d_transpose(pool3_out, (7, 7), 3, 3, 8, 8, 2, act_type='relu', name=\"dconv1\")        \n",
    "conv_t2_out = conv2d_transpose(conv_t1_out, (14, 14), 3, 3, 8, 8, 2, act_type='relu', name=\"dconv2\")        \n",
    "conv_t3_out = conv2d_transpose(conv_t2_out, (28, 28), 3, 3, 8, 16, 2, act_type='relu', name=\"dconv3\")        \n",
    "\n",
    "# Just adapt volume to from 28x28x16 to 28x28x1\n",
    "decoded_img = conv2d(conv_t3_out, 1, 1, 16, 1, 1,act_type='sigmoid',name=\"conv_out\")        \n",
    "\n",
    "# Convert spatial result to a vector in order to match with input \"x\" shape\n",
    "decoded = tf.reshape(decoded_img, [-1, 784])\n",
    "\n",
    "# Reshape for summary\n",
    "decoded_img_sumary = tf.reshape(decoded_img, [-1, 28, 28, 1])"
   ]
  },
  {
   "cell_type": "markdown",
   "metadata": {},
   "source": [
    "### Where is the unpool?\n",
    "Due to indice unravel still unavailable in tensorflow, the original upsampling method is temporarily replaced simply by deconv( or conv-transpose) layer (without pooling indices). You can follow the issue here: https://github.com/tensorflow/tensorflow/issues/2169 (The current workaround for unpooling layer is a bit slow because it lacks of GPU support.)\n",
    "![alt text](maxunpool.png \"Max unpooling\")\n",
    "![alt text](UnpoolResults.png \"Max unpooling\")"
   ]
  },
  {
   "cell_type": "markdown",
   "metadata": {},
   "source": [
    "### Define loss and solver\n",
    "For this example we're using the binary cross-entropy bot other losses also work like mse and l2 loss.\n",
    "![alt text](Binary_Cross_Entropy.png \"Max unpooling\")"
   ]
  },
  {
   "cell_type": "code",
   "execution_count": 5,
   "metadata": {
    "collapsed": false
   },
   "outputs": [],
   "source": [
    "# Binary cross-entropy\n",
    "with tf.name_scope(\"cross_entropy\"):\n",
    "    cross_entropy = -1. *x *tf.log(decoded) - (1. - x) *tf.log(1. - decoded)\n",
    "    loss = tf.reduce_mean(cross_entropy)\n",
    "    # Can also use l2 loss but you need to decrease the learning rate (0.01)\n",
    "    #loss = tf.nn.l2_loss(x-decoded)\n",
    "\n",
    "# Solver configuration\n",
    "with tf.name_scope(\"Solver\"):\n",
    "    train_step = tf.train.AdagradOptimizer(0.1).minimize(loss)  \n"
   ]
  },
  {
   "cell_type": "markdown",
   "metadata": {},
   "source": [
    "### Add some tensors to tensorboard"
   ]
  },
  {
   "cell_type": "code",
   "execution_count": 6,
   "metadata": {
    "collapsed": false
   },
   "outputs": [],
   "source": [
    "# Add summary for loss, input images, output images\n",
    "tf.summary.scalar(\"loss\", loss)\n",
    "tf.summary.image(\"input\", x_image, 10)\n",
    "tf.summary.image(\"output\", decoded_img_sumary, 10)\n",
    "\n",
    "fc1_out_size = 8*4*4\n",
    "embedding = tf.Variable(tf.zeros([128, fc1_out_size]), name=\"test_embedding\")\n",
    "assignment = embedding.assign(tf.reshape(pool3_out, [128, fc1_out_size]))\n",
    "saver = tf.train.Saver()"
   ]
  },
  {
   "cell_type": "markdown",
   "metadata": {},
   "source": [
    "### Create graph"
   ]
  },
  {
   "cell_type": "code",
   "execution_count": 7,
   "metadata": {
    "collapsed": true
   },
   "outputs": [],
   "source": [
    "init = tf.global_variables_initializer()\n",
    "\n",
    "# Avoid allocating the whole memory\n",
    "gpu_options = tf.GPUOptions(per_process_gpu_memory_fraction=0.333)\n",
    "sess = tf.Session(config=tf.ConfigProto(gpu_options=gpu_options))\n",
    "\n",
    "#sess = tf.Session()\n",
    "sess.run(init)\n",
    "\n",
    "merged_summary = tf.summary.merge_all()\n",
    "writer = tf.summary.FileWriter(\"/tmp/conv_autoencoder/1\")\n",
    "writer.add_graph(sess.graph)"
   ]
  },
  {
   "cell_type": "markdown",
   "metadata": {},
   "source": [
    "### Training"
   ]
  },
  {
   "cell_type": "code",
   "execution_count": 8,
   "metadata": {
    "collapsed": false
   },
   "outputs": [
    {
     "name": "stdout",
     "output_type": "stream",
     "text": [
      "Training...\n",
      "  step, loss =      0:  0.690\n",
      "  step, loss =   1000:  0.226\n",
      "  step, loss =   2000:  0.161\n",
      "  step, loss =   3000:  0.152\n",
      "  step, loss =   4000:  0.134\n",
      "  step, loss =   5000:  0.127\n",
      "  step, loss =   6000:  0.124\n",
      "  step, loss =   7000:  0.122\n",
      "  step, loss =   8000:  0.118\n",
      "  step, loss =   9000:  0.117\n",
      "  step, loss =  10000:  0.118\n",
      "loss (test) =  0.112823\n"
     ]
    }
   ],
   "source": [
    "# Train\n",
    "with sess:    \n",
    "    print('Training...')\n",
    "    for i in range(10001):\n",
    "        batch_xs, _ = mnist.train.next_batch(128)\n",
    "        train_step.run({x: batch_xs})\n",
    "        if i % 1000 == 0:\n",
    "            train_loss= loss.eval({x: batch_xs})\n",
    "            print('  step, loss = %6d: %6.3f' % (i, train_loss))\n",
    "        \n",
    "        # Dump summary (Avoid dump every iteration)\n",
    "        if i % 100 == 0:\n",
    "            s = sess.run(merged_summary, feed_dict={x:batch_xs})\n",
    "            writer.add_summary(s,i)\n",
    "            \n",
    "            # Save embedding (for PCA, TSNE)\n",
    "            sess.run(assignment, feed_dict={x: batch_xs})\n",
    "            saver.save(sess, os.path.join(\"/tmp/conv_autoencoder/\", \"model.ckpt\"), i)\n",
    "\n",
    "    # generate decoded image with test data        \n",
    "    #decoded_imgs = decoded.eval(feed_dict={x:mnist.test.images})\n",
    "    #print('loss (test) = ', loss.eval(feed_dict={x:mnist.test.images}))\n",
    "    # Avoid restarting my work PC (Avoid loading the whole validation batch)\n",
    "    batch_xs_val, _ = mnist.test.next_batch(128)\n",
    "    decoded_imgs = decoded.eval(feed_dict={x:batch_xs_val})\n",
    "    print('loss (test) = ', loss.eval(feed_dict={x:batch_xs_val}))    "
   ]
  },
  {
   "cell_type": "markdown",
   "metadata": {},
   "source": [
    "### Display Results"
   ]
  },
  {
   "cell_type": "code",
   "execution_count": 9,
   "metadata": {
    "collapsed": false
   },
   "outputs": [
    {
     "data": {
      "image/png": "[encoded data removed]",
      "text/plain": [
       "<matplotlib.figure.Figure at 0x7f65c3d8fa58>"
      ]
     },
     "metadata": {},
     "output_type": "display_data"
    }
   ],
   "source": [
    "#x_test = mnist.test.images\n",
    "x_test = batch_xs_val\n",
    "n = 10  # how many digits we will display\n",
    "plt.figure(figsize=(20, 4))\n",
    "for i in range(n):\n",
    "    # display original\n",
    "    ax = plt.subplot(2, n, i + 1)\n",
    "    plt.imshow(x_test[i].reshape(28, 28))\n",
    "    plt.gray()\n",
    "    ax.get_xaxis().set_visible(False)\n",
    "    ax.get_yaxis().set_visible(False)\n",
    "\n",
    "    # display reconstruction\n",
    "    ax = plt.subplot(2, n, i + 1 + n)\n",
    "    plt.imshow(decoded_imgs[i].reshape(28, 28))\n",
    "    plt.gray()\n",
    "    ax.get_xaxis().set_visible(False)\n",
    "    ax.get_yaxis().set_visible(False)\n",
    "\n",
    "plt.show()\n",
    "#plt.savefig('mnist_ae2.png')"
   ]
  },
  {
   "cell_type": "markdown",
   "metadata": {},
   "source": [
    "## What else can be done with deconvs\n",
    "\n",
    "### Segmentation\n",
    "The architecture consists of a sequence of non-linear processing layers (encoders) and a corresponding set of decoders followed by a pixelwise classifier. Typically, each encoder consists of one or more convolutional layers with batch normalisation and a ReLU non-linearity, followed by non-overlapping maxpooling and sub-sampling. The sparse encoding due to the pooling process is upsampled in the decoder using the maxpooling indices in the encoding sequence (see the figure below). One key ingredient of the SegNet is the use of max-pooling indices in the decoders to perform upsampling of low resolution feature maps. This has the important advantages of retaining high frequency details in the segmented images and also reducing the total number of trainable parameters in the decoders.\n",
    "![alt text](SegnetArch.png \"Segnets\")\n",
    "Again is valid to remember that tensorflow does not support yet this operation and other projects do the unpooling operation by playing with the transposed convolution stride.\n",
    "\n",
    "### Depth estimation\n",
    "The authors proposed a fully convolutional encoder-decoder based network to extract a depth map from an image + optical flow estimation computed by the Brox algorithm. In addition to real training data, simulated data using the Unreal engine is used. This approach is intended as  a basis for an obstacle detection system.\n",
    "![alt text](DepthEstimation.png \"Segnets\")\n",
    "Similar implementation on tensorflow [here](https://github.com/mrharicot/monodepth) and presentation [here](http://visual.cs.ucl.ac.uk/pubs/monoDepth/), [paper](https://arxiv.org/pdf/1607.06349.pdf)"
   ]
  }
 ],
 "metadata": {
  "kernelspec": {
   "display_name": "Python 3",
   "language": "python",
   "name": "python3"
  },
  "language_info": {
   "codemirror_mode": {
    "name": "ipython",
    "version": 3
   },
   "file_extension": ".py",
   "mimetype": "text/x-python",
   "name": "python",
   "nbconvert_exporter": "python",
   "pygments_lexer": "ipython3",
   "version": "3.6.0"
  }
 },
 "nbformat": 4,
 "nbformat_minor": 2
}
