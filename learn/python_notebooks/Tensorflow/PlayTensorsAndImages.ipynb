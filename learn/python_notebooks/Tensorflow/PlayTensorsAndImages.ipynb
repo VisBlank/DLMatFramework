{
 "cells": [
  {
   "cell_type": "markdown",
   "metadata": {},
   "source": [
    "## Play with tensors\n",
    "References:\n",
    "* https://www.tensorflow.org/versions/r0.10/get_started/basic_usage\n",
    "* http://stackoverflow.com/questions/39054414/tensorflow-using-tf-slice-to-split-the-input\n",
    "* https://www.tensorflow.org/api_guides/python/control_flow_ops\n",
    "* https://www.quora.com/How-does-the-tf-Print-statement-work-for-TensorFlow\n",
    "* https://www.tensorflow.org/api_guides/python/array_ops#Slicing_and_Joining\n",
    "* https://www.tensorflow.org/api_docs/python/tf/scatter_nd\n",
    "* https://www.tensorflow.org/api_docs/python/tf/gather_nd\n",
    "* http://stackoverflow.com/questions/39157723/how-to-do-slice-assignment-in-tensorflow\n",
    "* http://stackoverflow.com/questions/35769944/manipulating-matrix-elements-in-tensorflow\n",
    "* https://petewarden.com/\n",
    "* http://learningtensorflow.com/lesson6/"
   ]
  },
  {
   "cell_type": "code",
   "execution_count": 1,
   "metadata": {
    "collapsed": true
   },
   "outputs": [],
   "source": [
    "import tensorflow as tf\n",
    "import matplotlib.pyplot as plt\n",
    "import scipy.misc\n",
    "import numpy as np\n",
    "\n",
    "# This is just important on my machine that has 2 Gpus (Where one is not supported by Tensorflow)\n",
    "import os\n",
    "os.environ[\"CUDA_VISIBLE_DEVICES\"]=\"0\""
   ]
  },
  {
   "cell_type": "code",
   "execution_count": 11,
   "metadata": {
    "collapsed": false
   },
   "outputs": [],
   "source": [
    "# Create a placeholder for images\n",
    "in_image = tf.placeholder(tf.float32, shape=[256, 256, 3], name=\"image_in_test\")\n",
    "\n",
    "# Matrix definition\n",
    "matrix1 = tf.constant([[1,2,3],[4,5,6],[7,8,9]])\n",
    "matrix2 = tf.constant([[1,0,1],[2,2,2],[3,3,3]])\n",
    "\n",
    "# Matrix multiplication\n",
    "product = tf.matmul(matrix1, matrix2)\n",
    "tf.Print(product,[product],message='Tensor product evaluated')\n",
    "\n",
    "# Get slice from matrix 1 from 0,0 selectring 2 rows and 3 collumns\n",
    "matrix1_slice = tf.slice(matrix1, [0, 0], [2, 3])\n",
    "\n",
    "# TODO (Scatter, Gather)...\n",
    "# Gather allow you to sample a tensor from various indexes\n",
    "index = tf.constant([[0, 0], [1, 1]])\n",
    "params = tf.constant([[1, 2], [3, 4]])\n",
    "out_gather = tf.gather_nd(params, index)\n",
    "\n",
    "# Do some image operations\n",
    "distorted_image_b = tf.image.random_brightness(in_image, max_delta=63)\n",
    "distorted_image_s = tf.image.random_saturation(in_image, lower=0.5, upper=1.5)\n",
    "distorted_image_h = tf.image.random_hue(in_image, max_delta=0.2)\n",
    "distorted_image_c = tf.image.random_contrast(in_image, lower=0.2, upper=1.8)\n",
    "distorted_image_f = tf.image.flip_left_right(in_image)\n",
    "distorted_image_rand_crop = tf.image.central_crop(in_image, central_fraction = 0.5)\n",
    "# Crop upper part of tensor (-130 on numpy)\n",
    "distorted_image_crop = tf.slice(in_image, [100,0,0], [156, 256, 3])\n",
    "# Crop bottom part (Front of car)\n",
    "distorted_image_crop = tf.slice(distorted_image_crop, [0, 0, 0], [120, 256, 3])"
   ]
  },
  {
   "cell_type": "code",
   "execution_count": 12,
   "metadata": {
    "collapsed": false
   },
   "outputs": [],
   "source": [
    "# Build graph\n",
    "sess = tf.InteractiveSession()"
   ]
  },
  {
   "cell_type": "code",
   "execution_count": 13,
   "metadata": {
    "collapsed": false
   },
   "outputs": [
    {
     "name": "stdout",
     "output_type": "stream",
     "text": [
      "[[14 13 14]\n",
      " [32 28 32]\n",
      " [50 43 50]]\n"
     ]
    }
   ],
   "source": [
    "result = sess.run(product)\n",
    "print(result)"
   ]
  },
  {
   "cell_type": "code",
   "execution_count": 14,
   "metadata": {
    "collapsed": false
   },
   "outputs": [
    {
     "name": "stdout",
     "output_type": "stream",
     "text": [
      "[[1 2 3]\n",
      " [4 5 6]\n",
      " [7 8 9]]\n"
     ]
    }
   ],
   "source": [
    "result = sess.run(matrix1)\n",
    "print(result)"
   ]
  },
  {
   "cell_type": "code",
   "execution_count": 15,
   "metadata": {
    "collapsed": false
   },
   "outputs": [
    {
     "name": "stdout",
     "output_type": "stream",
     "text": [
      "[[1 2 3]\n",
      " [4 5 6]]\n"
     ]
    }
   ],
   "source": [
    "result = sess.run(matrix1_slice)\n",
    "print(result)"
   ]
  },
  {
   "cell_type": "code",
   "execution_count": 21,
   "metadata": {
    "collapsed": false
   },
   "outputs": [
    {
     "name": "stdout",
     "output_type": "stream",
     "text": [
      "Input\n",
      "[[1 2]\n",
      " [3 4]]\n",
      "Gather_nd Result: [1 4]\n"
     ]
    }
   ],
   "source": [
    "result = sess.run(params)\n",
    "print('Input')\n",
    "print(result)\n",
    "result = sess.run(out_gather)\n",
    "print('Gather_nd Result:',result)"
   ]
  },
  {
   "cell_type": "markdown",
   "metadata": {},
   "source": [
    "### Play with images"
   ]
  },
  {
   "cell_type": "code",
   "execution_count": null,
   "metadata": {
    "collapsed": false
   },
   "outputs": [],
   "source": [
    "img = scipy.misc.imread('2.png', mode='RGB')\n",
    "img = np.array(img) / 255.0\n",
    "img = img.astype(np.float)\n",
    "\n",
    "img_result = sess.run(distorted_image_b, feed_dict={in_image: img})\n",
    "plt.imshow(img)\n",
    "plt.show()\n",
    "\n",
    "plt.imshow(img_result)\n",
    "plt.show()\n",
    "\n",
    "img_result = sess.run(distorted_image_s, feed_dict={in_image: img})\n",
    "plt.imshow(img_result)\n",
    "plt.show()\n",
    "\n",
    "img_result = sess.run(distorted_image_h, feed_dict={in_image: img})\n",
    "plt.imshow(img_result)\n",
    "plt.show()\n",
    "\n",
    "img_result = sess.run(distorted_image_c, feed_dict={in_image: img})\n",
    "plt.imshow(img_result)\n",
    "plt.show()\n",
    "\n",
    "img_result = sess.run(distorted_image_f, feed_dict={in_image: img})\n",
    "plt.imshow(img_result)\n",
    "plt.show()\n",
    "\n",
    "img_result = sess.run(distorted_image_rand_crop, feed_dict={in_image: img})\n",
    "print('Random crop', img_result.shape)\n",
    "plt.imshow(img_result)\n",
    "plt.show()\n",
    "\n",
    "img_result = sess.run(distorted_image_crop, feed_dict={in_image: img})\n",
    "print('Crop of horizon and car front:',img_result.shape)\n",
    "plt.imshow(img_result)\n",
    "plt.show()"
   ]
  }
 ],
 "metadata": {
  "kernelspec": {
   "display_name": "Python [conda root]",
   "language": "python",
   "name": "conda-root-py"
  },
  "language_info": {
   "codemirror_mode": {
    "name": "ipython",
    "version": 3
   },
   "file_extension": ".py",
   "mimetype": "text/x-python",
   "name": "python",
   "nbconvert_exporter": "python",
   "pygments_lexer": "ipython3",
   "version": "3.5.2"
  }
 },
 "nbformat": 4,
 "nbformat_minor": 2
}
