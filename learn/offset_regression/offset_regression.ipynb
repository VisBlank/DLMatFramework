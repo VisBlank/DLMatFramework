{
 "cells": [
  {
   "cell_type": "code",
   "execution_count": 1,
   "metadata": {
    "collapsed": false
   },
   "outputs": [],
   "source": [
    "import tensorflow as tf\n",
    "import h5py\n",
    "import numpy as np\n",
    "import scipy.misc\n",
    "import random\n",
    "import matplotlib.pyplot as plt\n",
    "import os"
   ]
  },
  {
   "cell_type": "markdown",
   "metadata": {},
   "source": [
    "## File Names"
   ]
  },
  {
   "cell_type": "code",
   "execution_count": 2,
   "metadata": {
    "collapsed": false
   },
   "outputs": [],
   "source": [
    "label_file = h5py.File('face_offset_labels_10k.h5','r+')\n",
    "dataset_file = h5py.File('face_offset_data_10k.h5','r+')"
   ]
  },
  {
   "cell_type": "markdown",
   "metadata": {},
   "source": [
    "## Dataset name within the hdf5 file"
   ]
  },
  {
   "cell_type": "code",
   "execution_count": 3,
   "metadata": {
    "collapsed": false
   },
   "outputs": [],
   "source": [
    "dataset_labels = label_file['/Labels/Labels']\n",
    "dataset_images = dataset_file['/Data/Images']"
   ]
  },
  {
   "cell_type": "markdown",
   "metadata": {},
   "source": [
    "## Check labels and data within the file"
   ]
  },
  {
   "cell_type": "code",
   "execution_count": 4,
   "metadata": {
    "collapsed": false
   },
   "outputs": [
    {
     "name": "stdout",
     "output_type": "stream",
     "text": [
      "<class 'numpy.ndarray'>\n",
      "[[ 0.          0.        ]\n",
      " [-0.92000002 -0.54000002]\n",
      " [-0.22       -0.29999998]\n",
      " ..., \n",
      " [ 0.38       -0.41999999]\n",
      " [-0.61000001 -0.14      ]\n",
      " [-0.75       -0.46000001]]\n",
      "Train Label Shape: (10000, 2)\n",
      "Test Label Shape: (325, 2)\n"
     ]
    }
   ],
   "source": [
    "# Split to test and train data\n",
    "Y_train = dataset_labels[0:10000,...]\n",
    "Y_test = dataset_labels[10001:]\n",
    "\n",
    "Y_train = Y_train*10\n",
    "\n",
    "print(type(Y_train))\n",
    "print(Y_train)\n",
    "\n",
    "# Print label shapes\n",
    "print(\"Train Label Shape:\", Y_train.shape)\n",
    "print(\"Test Label Shape:\", Y_test.shape)"
   ]
  },
  {
   "cell_type": "code",
   "execution_count": 6,
   "metadata": {
    "collapsed": false
   },
   "outputs": [
    {
     "name": "stdout",
     "output_type": "stream",
     "text": [
      "<class 'numpy.ndarray'>\n",
      "Train Data Shape: (10000, 120, 120, 3)\n",
      "Test Data Shape: (325, 120, 120, 3)\n",
      "[[[ 0.71372551  0.71372551  0.71372551]\n",
      "  [ 0.73725492  0.73725492  0.73725492]\n",
      "  [ 0.73333335  0.73333335  0.73333335]\n",
      "  ..., \n",
      "  [ 0.71372551  0.71372551  0.71372551]\n",
      "  [ 0.72549021  0.72549021  0.72549021]\n",
      "  [ 0.72549021  0.72549021  0.72549021]]\n",
      "\n",
      " [[ 0.70588237  0.70588237  0.70588237]\n",
      "  [ 0.72156864  0.72156864  0.72156864]\n",
      "  [ 0.70980394  0.70980394  0.70980394]\n",
      "  ..., \n",
      "  [ 0.71372551  0.71372551  0.71372551]\n",
      "  [ 0.73333335  0.73333335  0.73333335]\n",
      "  [ 0.74117649  0.74117649  0.74117649]]\n",
      "\n",
      " [[ 0.76862746  0.76862746  0.76862746]\n",
      "  [ 0.7764706   0.7764706   0.7764706 ]\n",
      "  [ 0.76862746  0.76862746  0.76862746]\n",
      "  ..., \n",
      "  [ 0.72941178  0.72941178  0.72941178]\n",
      "  [ 0.67450982  0.67450982  0.67450982]\n",
      "  [ 0.65490198  0.65490198  0.65490198]]\n",
      "\n",
      " ..., \n",
      " [[ 0.15294118  0.15294118  0.15294118]\n",
      "  [ 0.14901961  0.14901961  0.14901961]\n",
      "  [ 0.15294118  0.15294118  0.15294118]\n",
      "  ..., \n",
      "  [ 0.15686275  0.15686275  0.15686275]\n",
      "  [ 0.14901961  0.14901961  0.14901961]\n",
      "  [ 0.14509805  0.14509805  0.14509805]]\n",
      "\n",
      " [[ 0.15294118  0.15294118  0.15294118]\n",
      "  [ 0.14901961  0.14901961  0.14901961]\n",
      "  [ 0.14509805  0.14509805  0.14509805]\n",
      "  ..., \n",
      "  [ 0.13725491  0.13725491  0.13725491]\n",
      "  [ 0.13333334  0.13333334  0.13333334]\n",
      "  [ 0.13333334  0.13333334  0.13333334]]\n",
      "\n",
      " [[ 0.14901961  0.14901961  0.14901961]\n",
      "  [ 0.14901961  0.14901961  0.14901961]\n",
      "  [ 0.14509805  0.14509805  0.14509805]\n",
      "  ..., \n",
      "  [ 0.15686275  0.15686275  0.15686275]\n",
      "  [ 0.15294118  0.15294118  0.15294118]\n",
      "  [ 0.15294118  0.15294118  0.15294118]]]\n"
     ]
    }
   ],
   "source": [
    "# Split to test and train data\n",
    "X_train = dataset_images[0:10000,...]\n",
    "X_test = dataset_images[10001:]\n",
    "\n",
    "print(type(X_train))\n",
    "\n",
    "# Print data shapes\n",
    "print(\"Train Data Shape:\", X_train.shape)\n",
    "print(\"Test Data Shape:\", X_test.shape)\n",
    "print(X_train[0])"
   ]
  },
  {
   "cell_type": "markdown",
   "metadata": {},
   "source": [
    "## View an image and label from the file"
   ]
  },
  {
   "cell_type": "code",
   "execution_count": 7,
   "metadata": {
    "collapsed": false
   },
   "outputs": [
    {
     "data": {
      "image/png": "[encoded data removed]",
      "text/plain": [
       "<matplotlib.figure.Figure at 0xecd0550>"
      ]
     },
     "metadata": {},
     "output_type": "display_data"
    },
    {
     "name": "stdout",
     "output_type": "stream",
     "text": [
      "X offset is: 0.000000 , Y offset is: 0.000000\n"
     ]
    }
   ],
   "source": [
    "img_no = 0\n",
    "\n",
    "# Grab selected image and label\n",
    "img = X_train[img_no,:,:,:]\n",
    "offset = Y_train[img_no,:]\n",
    "\n",
    "# Make data value betwee 0 and 255\n",
    "img = img*255\n",
    "\n",
    "# Show the images\n",
    "plt.imshow(np.uint8(img))\n",
    "plt.show()\n",
    "print(\"X offset is: %f\" % (offset[0]), \", Y offset is: %f\" % (offset[1]))"
   ]
  },
  {
   "cell_type": "markdown",
   "metadata": {},
   "source": [
    "## Histogram of label distribution"
   ]
  },
  {
   "cell_type": "code",
   "execution_count": 8,
   "metadata": {
    "collapsed": false
   },
   "outputs": [
    {
     "data": {
      "image/png": "[encoded data removed]",
      "text/plain": [
       "<matplotlib.figure.Figure at 0xeef41d0>"
      ]
     },
     "metadata": {},
     "output_type": "display_data"
    },
    {
     "data": {
      "image/png": "[encoded data removed]",
      "text/plain": [
       "<matplotlib.figure.Figure at 0x12efe748>"
      ]
     },
     "metadata": {},
     "output_type": "display_data"
    },
    {
     "data": {
      "image/png": "[encoded data removed]",
      "text/plain": [
       "<matplotlib.figure.Figure at 0x13041780>"
      ]
     },
     "metadata": {},
     "output_type": "display_data"
    },
    {
     "data": {
      "image/png": "[encoded data removed]",
      "text/plain": [
       "<matplotlib.figure.Figure at 0x1307a390>"
      ]
     },
     "metadata": {},
     "output_type": "display_data"
    }
   ],
   "source": [
    "plt.hist(Y_train[:,0], bins='auto')\n",
    "plt.title(\"Histogram of train x offset\")\n",
    "plt.show()\n",
    "plt.hist(Y_train[:,1], bins='auto')\n",
    "plt.title(\"Histogram of train y offset\")\n",
    "plt.show()\n",
    "plt.hist(Y_test[:,0], bins='auto')\n",
    "plt.title(\"Histogram of test x offset\")\n",
    "plt.show()\n",
    "plt.hist(Y_test[:,1], bins='auto')\n",
    "plt.title(\"Histogram of test y offset\")\n",
    "plt.show()"
   ]
  },
  {
   "cell_type": "markdown",
   "metadata": {},
   "source": [
    "# Tensorflow Training"
   ]
  },
  {
   "cell_type": "markdown",
   "metadata": {},
   "source": [
    "##### Start our 'session' (these are the connection between the c++ backend and python. Common usage in TF is to create your graph then launch it in a session"
   ]
  },
  {
   "cell_type": "code",
   "execution_count": 9,
   "metadata": {
    "collapsed": false
   },
   "outputs": [],
   "source": [
    "import model_util as util\n",
    "gpu_options = tf.GPUOptions(per_process_gpu_memory_fraction=0.6)\n",
    "sess = tf.InteractiveSession(config=tf.ConfigProto(gpu_options=gpu_options))"
   ]
  },
  {
   "cell_type": "code",
   "execution_count": 10,
   "metadata": {
    "collapsed": false
   },
   "outputs": [],
   "source": [
    "# Placeholders for our input variables, None indicates batch size is variable\n",
    "x = tf.placeholder(tf.float32, shape=[None, 120, 120, 3 ])\n",
    "y_ = tf.placeholder(tf.float32, shape=[None, 2])\n",
    "\n",
    "dropout_prob = tf.placeholder(tf.float32)\n",
    "x_image = x"
   ]
  },
  {
   "cell_type": "markdown",
   "metadata": {},
   "source": [
    "##### Define our model (uses model_util.py to help define conv2d etc.)"
   ]
  },
  {
   "cell_type": "code",
   "execution_count": 11,
   "metadata": {
    "collapsed": false
   },
   "outputs": [],
   "source": [
    "# Conv1 \n",
    "conv1 = util.conv2d(x_image, 5, 5, 3, 24, 2,\"conv1\",True)\n",
    "\n",
    "# CONV 2\n",
    "conv2 = util.conv2d(conv1, 5, 5, 24, 36, 2,\"conv2\")\n",
    "\n",
    "# CONV 3\n",
    "conv3 = util.conv2d(conv2, 5, 5, 36, 48, 2,\"conv3\")\n",
    "\n",
    "# CONV 4\n",
    "conv4 = util.conv2d(conv3, 3, 3, 48, 64, 1, \"conv4\")\n",
    "\n",
    "# CONV 5\n",
    "conv5 = util.conv2d(conv4, 3, 3, 64, 64, 1, \"conv5\")\n",
    "\n",
    "# Fully Connect 1\n",
    "# Needs calculation... (-1 means any batch size)\n",
    "conv5_flat = tf.reshape(conv5, [-1, 14400])\n",
    "\n",
    "fc1 = util.fc_layer(conv5_flat, 14400, 1164, \"fc1\")\n",
    "# Add dropout to the fully connected layer\n",
    "fc1_drop = tf.nn.dropout(fc1,dropout_prob )\n",
    "\n",
    "# Fully Connect 2\n",
    "fc2 = util.fc_layer(fc1_drop, 1164, 100, \"fc2\")\n",
    "# Add dropout to the fully connected layer\n",
    "fc2_drop = tf.nn.dropout(fc2, dropout_prob)\n",
    "\n",
    "# Fully Connect 3\n",
    "fc3 = util.fc_layer(fc2_drop, 100, 50, \"fc3\")\n",
    "# Add dropout to the fully connected layer\n",
    "fc3_drop = tf.nn.dropout(fc3, dropout_prob)\n",
    "\n",
    "# Fully Connect 4\n",
    "fc4 = util.fc_layer(fc3_drop, 50, 10, \"fc4\")\n",
    "# Add dropout to the fully connected layer\n",
    "fc4_drop = tf.nn.dropout(fc4, dropout_prob)\n",
    "\n",
    "#Output\n",
    "out_layer = util.output_layer(fc4_drop, 10, 2, \"output_layer\")\n",
    "\n",
    "y = out_layer"
   ]
  },
  {
   "cell_type": "markdown",
   "metadata": {},
   "source": [
    "### HyperParams, losses and solver set up"
   ]
  },
  {
   "cell_type": "code",
   "execution_count": 12,
   "metadata": {
    "collapsed": false
   },
   "outputs": [],
   "source": [
    "L2NormConst = 0.001\n",
    "start_lr = 0.0001\n",
    "epochs = 300\n",
    "batch_size = 200\n",
    "\n",
    "train_vars = tf.trainable_variables()\n",
    "\n",
    "with tf.name_scope(\"MSE_Loss_L2Reg\"):\n",
    "        loss = tf.reduce_mean(tf.square(tf.subtract(y_, y))) + tf.add_n(\n",
    "[tf.nn.l2_loss(v) for v in train_vars]) * L2NormConst\n",
    "        \n",
    "with tf.name_scope(\"Loss_Validation\"):\n",
    "    loss_val = tf.reduce_mean(tf.square(tf.subtract(y_,y)))\n",
    "\n",
    "with tf.name_scope(\"Solver\"):\n",
    "    global_step = tf.Variable(0, trainable=False)\n",
    "    starter_learning_rate = start_lr\n",
    "    \n",
    "    # decay every 10000 steps with a base of 0.96\n",
    "    learning_rate = tf.train.exponential_decay(starter_learning_rate, global_step,\n",
    "                                               10000, 0.96, staircase=True)\n",
    "\n",
    "    train_step = tf.train.AdamOptimizer(learning_rate).minimize(loss, global_step=global_step)\n",
    "\n",
    "sess.run(tf.global_variables_initializer())\n",
    "\n",
    "# Set max_to_keep to 0 to save all checkpoints\n",
    "saver = tf.train.Saver(max_to_keep=0)\n",
    "\n",
    "tf.summary.scalar(\"loss_train\", loss)\n",
    "tf.summary.scalar(\"loss_val\", loss_val)\n",
    "tf.summary.scalar(\"learning_rate\", learning_rate)\n",
    "tf.summary.scalar(\"global_step\", global_step)\n",
    "merged_summary_op = tf.summary.merge_all()\n",
    "summary_writer = tf.summary.FileWriter(\"C:/Users/ricbur01/Work/Tensorflow/MNist_1.0/check\")\n",
    "summary_writer.add_graph(sess.graph)"
   ]
  },
  {
   "cell_type": "code",
   "execution_count": 13,
   "metadata": {
    "collapsed": false
   },
   "outputs": [
    {
     "data": {
      "text/plain": [
       "True"
      ]
     },
     "execution_count": 13,
     "metadata": {},
     "output_type": "execute_result"
    }
   ],
   "source": [
    "save_dir = '.\\check'\n",
    "os.path.exists(save_dir)"
   ]
  },
  {
   "cell_type": "markdown",
   "metadata": {},
   "source": [
    "### Training Loop "
   ]
  },
  {
   "cell_type": "code",
   "execution_count": null,
   "metadata": {
    "collapsed": false
   },
   "outputs": [],
   "source": [
    "for epoch in range(epochs):\n",
    "    \n",
    "    \n",
    "    for i in range(int(10000/ batch_size)):\n",
    "        xs = X_train[i:i+batch_size,:,:,:]\n",
    "        ys = Y_train[i:i+batch_size,:]\n",
    "    \n",
    "        train_step.run(feed_dict={x: xs, y_: ys, dropout_prob: 0.8})\n",
    "        \n",
    "        summary = merged_summary_op.eval(feed_dict={x: xs, y_: ys, dropout_prob: 1.0})\n",
    "        summary_writer.add_summary(summary, epoch * batch_size + i)\n",
    "    \n",
    "    \n",
    "    \n",
    "    loss_value = loss_val.eval(feed_dict={x: xs, y_: ys, dropout_prob: 1.0})\n",
    "    print(epoch, \":\", loss_value)\n",
    "    checkpoint_path = os.path.join(save_dir, \"model-ckpt\")\n",
    "    filename = saver.save(sess, checkpoint_path, epoch)\n",
    "    "
   ]
  },
  {
   "cell_type": "code",
   "execution_count": 15,
   "metadata": {
    "collapsed": false
   },
   "outputs": [
    {
     "name": "stdout",
     "output_type": "stream",
     "text": [
      "INFO:tensorflow:Restoring parameters from C:/Users/ricbur01/Work/Tensorflow/MNist_1.0/offset_regression_10k_models/model-ckpt-294\n"
     ]
    }
   ],
   "source": [
    "# Restore our model\n",
    "\n",
    "#sess = tf.InteractiveSession()\n",
    "saver = tf.train.Saver()\n",
    "saver.restore(sess, \"C:/Users/ricbur01/Work/Tensorflow/MNist_1.0/offset_regression_10k_models/model-ckpt-294\")\n"
   ]
  },
  {
   "cell_type": "markdown",
   "metadata": {},
   "source": [
    "### Test an image"
   ]
  },
  {
   "cell_type": "code",
   "execution_count": 30,
   "metadata": {
    "collapsed": false
   },
   "outputs": [
    {
     "data": {
      "image/png": "[encoded data removed]",
      "text/plain": [
       "<matplotlib.figure.Figure at 0x293dd4e0>"
      ]
     },
     "metadata": {},
     "output_type": "display_data"
    },
    {
     "name": "stdout",
     "output_type": "stream",
     "text": [
      "0.192157\n",
      "(1, 120, 120, 3)\n"
     ]
    }
   ],
   "source": [
    "img_no = 0\n",
    "test_im = X_test[img_no,:,:,:]\n",
    "\n",
    "plt.imshow(np.uint8(test_im*255))\n",
    "plt.show()\n",
    "\n",
    "print(test_im[55,55,2])\n",
    "test_im = test_im[np.newaxis,...]\n",
    "print(test_im.shape)\n"
   ]
  },
  {
   "cell_type": "code",
   "execution_count": 31,
   "metadata": {
    "collapsed": false
   },
   "outputs": [
    {
     "name": "stdout",
     "output_type": "stream",
     "text": [
      "predicted x,y offset: [[-0.03291516  0.01916824]]\n",
      "label offset: [-0.054 -0.02 ]\n"
     ]
    }
   ],
   "source": [
    "print(\"predicted x,y offset:\",(y.eval(feed_dict={x: test_im, dropout_prob:1}))/10)\n",
    "offset = Y_test[img_no,:]\n",
    "print(\"label offset:\", offset)"
   ]
  },
  {
   "cell_type": "code",
   "execution_count": null,
   "metadata": {
    "collapsed": true
   },
   "outputs": [],
   "source": []
  }
 ],
 "metadata": {
  "kernelspec": {
   "display_name": "Python 3",
   "language": "python",
   "name": "python3"
  },
  "language_info": {
   "codemirror_mode": {
    "name": "ipython",
    "version": 3
   },
   "file_extension": ".py",
   "mimetype": "text/x-python",
   "name": "python",
   "nbconvert_exporter": "python",
   "pygments_lexer": "ipython3",
   "version": "3.5.2"
  }
 },
 "nbformat": 4,
 "nbformat_minor": 2
}
