{
 "cells": [
  {
   "cell_type": "markdown",
   "metadata": {},
   "source": [
    "## Transfer Learning\n",
    "\n",
    "### What you will see\n",
    "On this tutorial you will learn how to load a model (driving autoencoder) weights to be used on a different model (just drive). The idea is that the conv layers trained by the autoencoder will be already a good feature extractor for the driving model, so we loads those weights and train only the FC part of the model.\n",
    "\n",
    "References:\n",
    "* https://blog.metaflow.fr/tensorflow-how-to-freeze-a-model-and-serve-it-with-a-python-api-d4f3596b3adc\n",
    "* https://blog.metaflow.fr/tensorflow-saving-restoring-and-mixing-multiple-models-c4c94d5d7125\n",
    "* https://stackoverflow.com/questions/36533723/tensorflow-get-all-variables-in-scope\n",
    "* https://stackoverflow.com/questions/33727935/how-to-use-stop-gradient-in-tensorflow\n",
    "* https://github.com/tensorflow/tensorflow/issues/6264\n",
    "* https://www.reddit.com/r/tensorflow/comments/6787gl/how_to_freeze_only_some_weights/\n",
    "* https://github.com/oduerr/dl_tutorial/blob/master/tensorflow/debugging/embedding.ipynb"
   ]
  },
  {
   "cell_type": "code",
   "execution_count": 1,
   "metadata": {
    "collapsed": false
   },
   "outputs": [],
   "source": [
    "import tensorflow as tf\n",
    "import scipy.misc\n",
    "import sys\n",
    "sys.path.append('../')\n",
    "import model\n",
    "import numpy as np\n",
    "import matplotlib.pyplot as plt\n",
    "import matplotlib.animation as plt_anim\n",
    "from PIL import Image\n",
    "import random\n",
    "import os\n",
    "import subprocess\n",
    "import glob\n",
    "from driving_data import HandleData\n",
    "\n",
    "# Regularization value\n",
    "L2NormConst = 0.001\n",
    "start_lr = 0.0001\n",
    "batch_size=200\n",
    "epochs = 600\n",
    "input_train_hdf5 = '../DatasetLMDB'\n",
    "input_val_hdf5 = ''\n",
    "logs_path = '../logs'\n",
    "save_dir = '../save'\n",
    "iter_disp = 10\n",
    "\n",
    "os.environ[\"CUDA_VISIBLE_DEVICES\"] = str(0)"
   ]
  },
  {
   "cell_type": "markdown",
   "metadata": {},
   "source": [
    "### Open Model"
   ]
  },
  {
   "cell_type": "code",
   "execution_count": 2,
   "metadata": {
    "collapsed": false
   },
   "outputs": [],
   "source": [
    "# Open Model\n",
    "driving_model = model.DrivingModel()\n",
    "# Get placeholders from model\n",
    "model_in = driving_model.input\n",
    "model_out = driving_model.output\n",
    "labels_in = driving_model.label_in\n",
    "model_drop = driving_model.dropout_control"
   ]
  },
  {
   "cell_type": "markdown",
   "metadata": {},
   "source": [
    "### Select the conv layers and the fc layers"
   ]
  },
  {
   "cell_type": "code",
   "execution_count": 3,
   "metadata": {
    "collapsed": false
   },
   "outputs": [
    {
     "data": {
      "text/plain": [
       "[<tf.Variable 'conv1/weights:0' shape=(5, 5, 3, 24) dtype=float32_ref>,\n",
       " <tf.Variable 'conv1/bias:0' shape=(24,) dtype=float32_ref>,\n",
       " <tf.Variable 'conv2/weights:0' shape=(5, 5, 24, 36) dtype=float32_ref>,\n",
       " <tf.Variable 'conv2/bias:0' shape=(36,) dtype=float32_ref>,\n",
       " <tf.Variable 'conv3/weights:0' shape=(5, 5, 36, 48) dtype=float32_ref>,\n",
       " <tf.Variable 'conv3/bias:0' shape=(48,) dtype=float32_ref>,\n",
       " <tf.Variable 'conv4/weights:0' shape=(3, 3, 48, 64) dtype=float32_ref>,\n",
       " <tf.Variable 'conv4/bias:0' shape=(64,) dtype=float32_ref>,\n",
       " <tf.Variable 'conv5/weights:0' shape=(3, 3, 64, 64) dtype=float32_ref>,\n",
       " <tf.Variable 'conv5/bias:0' shape=(64,) dtype=float32_ref>,\n",
       " <tf.Variable 'fc1/weights:0' shape=(1152, 1164) dtype=float32_ref>,\n",
       " <tf.Variable 'fc1/bias:0' shape=(1164,) dtype=float32_ref>,\n",
       " <tf.Variable 'fc2/weights:0' shape=(1164, 100) dtype=float32_ref>,\n",
       " <tf.Variable 'fc2/bias:0' shape=(100,) dtype=float32_ref>,\n",
       " <tf.Variable 'fc3/weights:0' shape=(100, 50) dtype=float32_ref>,\n",
       " <tf.Variable 'fc3/bias:0' shape=(50,) dtype=float32_ref>,\n",
       " <tf.Variable 'fc4/weights:0' shape=(50, 10) dtype=float32_ref>,\n",
       " <tf.Variable 'fc4/bias:0' shape=(10,) dtype=float32_ref>,\n",
       " <tf.Variable 'output_layer/weights:0' shape=(10, 1) dtype=float32_ref>,\n",
       " <tf.Variable 'output_layer/bias:0' shape=(1,) dtype=float32_ref>]"
      ]
     },
     "execution_count": 3,
     "metadata": {},
     "output_type": "execute_result"
    }
   ],
   "source": [
    "# Select only the convs\n",
    "list_convs = [v for v in tf.global_variables() if \"conv\" in v.name]\n",
    "list_fc_linear = [v for v in tf.global_variables() if \"fc\" in v.name or \"output\" in v.name]\n",
    "driving_model_vars = tf.global_variables()\n",
    "driving_model_vars"
   ]
  },
  {
   "cell_type": "markdown",
   "metadata": {},
   "source": [
    "### Define saver objects to load the autoencoder checkpoint and the whole graph"
   ]
  },
  {
   "cell_type": "code",
   "execution_count": 4,
   "metadata": {
    "collapsed": true
   },
   "outputs": [],
   "source": [
    "# Define the saver object to load only the conv variables\n",
    "saver_load_autoencoder = tf.train.Saver(var_list=list_convs)\n",
    "# Define saver object to save all the variables of the drivingModel graph\n",
    "saver = tf.train.Saver(var_list=driving_model_vars)"
   ]
  },
  {
   "cell_type": "markdown",
   "metadata": {},
   "source": [
    "### Create the Session\n",
    "Basically ask tensorflow to build the graph"
   ]
  },
  {
   "cell_type": "code",
   "execution_count": 5,
   "metadata": {
    "collapsed": true
   },
   "outputs": [],
   "source": [
    "# Avoid allocating the whole memory\n",
    "gpu_options = tf.GPUOptions(per_process_gpu_memory_fraction=0.6)\n",
    "sess = tf.InteractiveSession(config=tf.ConfigProto(gpu_options=gpu_options))"
   ]
  },
  {
   "cell_type": "markdown",
   "metadata": {},
   "source": [
    "### Define the losses"
   ]
  },
  {
   "cell_type": "code",
   "execution_count": 6,
   "metadata": {
    "collapsed": false
   },
   "outputs": [],
   "source": [
    "# Create histogram for labels\n",
    "tf.summary.histogram(\"steer_angle\", labels_in)\n",
    "# Add input image/steering angle on summary\n",
    "tf.summary.image(\"input_image\", model_in, 10)\n",
    "\n",
    "train_vars = list_fc_linear\n",
    "with tf.name_scope(\"MSE_Loss_L2Reg\"):\n",
    "    loss = tf.reduce_mean(tf.square(tf.subtract(labels_in, model_out))) + tf.add_n(\n",
    "        [tf.nn.l2_loss(v) for v in train_vars]) * L2NormConst\n",
    "\n",
    "# Add model accuracy\n",
    "with tf.name_scope(\"Loss_Validation\"):\n",
    "    loss_val = tf.reduce_mean(tf.square(tf.subtract(labels_in, model_out)))"
   ]
  },
  {
   "cell_type": "markdown",
   "metadata": {},
   "source": [
    "### Define the solver\n",
    "The thing here is that we pass only the variables that we want to optimize"
   ]
  },
  {
   "cell_type": "code",
   "execution_count": 7,
   "metadata": {
    "collapsed": false
   },
   "outputs": [],
   "source": [
    "# Solver configuration\n",
    "# Get ops to update moving_mean and moving_variance from batch_norm\n",
    "# Reference: https://www.tensorflow.org/api_docs/python/tf/contrib/layers/batch_norm\n",
    "update_ops = tf.get_collection(tf.GraphKeys.UPDATE_OPS)\n",
    "with tf.name_scope(\"Solver\"):\n",
    "    global_step = tf.Variable(0, trainable=False)\n",
    "    starter_learning_rate = start_lr\n",
    "    # decay every 10000 steps with a base of 0.96\n",
    "    learning_rate = tf.train.exponential_decay(starter_learning_rate, global_step,\n",
    "                                               1000, 0.9, staircase=True)\n",
    "\n",
    "    # Basically update the batch_norm moving averages before the training step\n",
    "    # http://ruishu.io/2016/12/27/batchnorm/\n",
    "    with tf.control_dependencies(update_ops):\n",
    "        train_step = tf.train.AdamOptimizer(learning_rate).minimize(loss, global_step=global_step, var_list=list_fc_linear)"
   ]
  },
  {
   "cell_type": "markdown",
   "metadata": {},
   "source": [
    "### Initialize the values then actually load the values from the autoencoder checkpoint"
   ]
  },
  {
   "cell_type": "code",
   "execution_count": 8,
   "metadata": {
    "collapsed": false
   },
   "outputs": [
    {
     "name": "stdout",
     "output_type": "stream",
     "text": [
      "INFO:tensorflow:Restoring parameters from ../save_autoencoder/model-222\n"
     ]
    }
   ],
   "source": [
    "# Initialize all random variables (Weights/Bias)\n",
    "sess.run(tf.global_variables_initializer())\n",
    "\n",
    "# Restore only the weights (From AutoEncoder)\n",
    "saver_load_autoencoder.restore(sess, \"../save_autoencoder/model-222\")"
   ]
  },
  {
   "cell_type": "markdown",
   "metadata": {},
   "source": [
    "### Add some variables to be observed on Tensorboard"
   ]
  },
  {
   "cell_type": "code",
   "execution_count": 9,
   "metadata": {
    "collapsed": false
   },
   "outputs": [],
   "source": [
    "# Monitor loss, learning_rate, global_step, etc...\n",
    "tf.summary.scalar(\"loss_train\", loss)\n",
    "tf.summary.scalar(\"learning_rate\", learning_rate)\n",
    "tf.summary.scalar(\"global_step\", global_step)\n",
    "# merge all summaries into a single op\n",
    "merged_summary_op = tf.summary.merge_all()\n",
    "\n",
    "# Configure where to save the logs for tensorboard\n",
    "summary_writer = tf.summary.FileWriter(logs_path, graph=tf.get_default_graph())"
   ]
  },
  {
   "cell_type": "markdown",
   "metadata": {},
   "source": [
    "### Load the dataset"
   ]
  },
  {
   "cell_type": "code",
   "execution_count": null,
   "metadata": {
    "collapsed": false
   },
   "outputs": [
    {
     "name": "stdout",
     "output_type": "stream",
     "text": [
      "Loading training data\n",
      "LMDB file\n",
      "Spliting training and validation\n",
      "Number training images: 13504\n",
      "Number validation images: 3376\n",
      "Num samples 16880 Iterations per epoch: 84 batch size: 200\n"
     ]
    }
   ],
   "source": [
    "data = HandleData(path=input_train_hdf5, path_val=input_val_hdf5)\n",
    "num_images_epoch = int(data.get_num_images() / batch_size)\n",
    "print('Num samples',data.get_num_images(), 'Iterations per epoch:', num_images_epoch, 'batch size:', batch_size)"
   ]
  },
  {
   "cell_type": "markdown",
   "metadata": {},
   "source": [
    "### Do training"
   ]
  },
  {
   "cell_type": "code",
   "execution_count": null,
   "metadata": {
    "collapsed": false
   },
   "outputs": [
    {
     "name": "stdout",
     "output_type": "stream",
     "text": [
      "Epoch: 0, Step: 0, Loss(Val): 0.235762\n",
      "Epoch: 0, Step: 10, Loss(Val): 0.196748\n",
      "Epoch: 0, Step: 20, Loss(Val): 0.124288\n",
      "Epoch: 0, Step: 30, Loss(Val): 0.0856722\n",
      "Epoch: 0, Step: 40, Loss(Val): 0.0902873\n",
      "Epoch: 0, Step: 50, Loss(Val): 0.0918368\n",
      "Epoch: 0, Step: 60, Loss(Val): 0.103408\n",
      "Epoch: 0, Step: 70, Loss(Val): 0.0786274\n",
      "Epoch: 0, Step: 80, Loss(Val): 0.091875\n",
      "Model saved in file: ../save/model-0\n",
      "Shuffle data\n",
      "Epoch: 1, Step: 200, Loss(Val): 0.104826\n",
      "Epoch: 1, Step: 210, Loss(Val): 0.110216\n",
      "Epoch: 1, Step: 220, Loss(Val): 0.0903478\n",
      "Epoch: 1, Step: 230, Loss(Val): 0.0822697\n",
      "Epoch: 1, Step: 240, Loss(Val): 0.0768529\n",
      "Epoch: 1, Step: 250, Loss(Val): 0.0977072\n",
      "Epoch: 1, Step: 260, Loss(Val): 0.0874896\n",
      "Epoch: 1, Step: 270, Loss(Val): 0.0919307\n",
      "Epoch: 1, Step: 280, Loss(Val): 0.0950362\n",
      "Model saved in file: ../save/model-1\n",
      "Shuffle data\n",
      "Epoch: 2, Step: 400, Loss(Val): 0.0825229\n",
      "Epoch: 2, Step: 410, Loss(Val): 0.0938275\n",
      "Epoch: 2, Step: 420, Loss(Val): 0.0821918\n",
      "Epoch: 2, Step: 430, Loss(Val): 0.0729555\n",
      "Epoch: 2, Step: 440, Loss(Val): 0.0875462\n",
      "Epoch: 2, Step: 450, Loss(Val): 0.0969661\n",
      "Epoch: 2, Step: 460, Loss(Val): 0.0657386\n",
      "Epoch: 2, Step: 470, Loss(Val): 0.097774\n",
      "Epoch: 2, Step: 480, Loss(Val): 0.0760232\n",
      "Model saved in file: ../save/model-2\n",
      "Shuffle data\n",
      "Epoch: 3, Step: 600, Loss(Val): 0.0925492\n",
      "Epoch: 3, Step: 610, Loss(Val): 0.0937662\n",
      "Epoch: 3, Step: 620, Loss(Val): 0.0822905\n",
      "Epoch: 3, Step: 630, Loss(Val): 0.0916324\n",
      "Epoch: 3, Step: 640, Loss(Val): 0.0796087\n",
      "Epoch: 3, Step: 650, Loss(Val): 0.0916114\n",
      "Epoch: 3, Step: 660, Loss(Val): 0.0808451\n",
      "Epoch: 3, Step: 670, Loss(Val): 0.0792078\n",
      "Epoch: 3, Step: 680, Loss(Val): 0.0784405\n",
      "Model saved in file: ../save/model-3\n",
      "Shuffle data\n",
      "Epoch: 4, Step: 800, Loss(Val): 0.065645\n",
      "Epoch: 4, Step: 810, Loss(Val): 0.0812385\n",
      "Epoch: 4, Step: 820, Loss(Val): 0.0678319\n",
      "Epoch: 4, Step: 830, Loss(Val): 0.0666334\n",
      "Epoch: 4, Step: 840, Loss(Val): 0.0814798\n",
      "Epoch: 4, Step: 850, Loss(Val): 0.0806113\n",
      "Epoch: 4, Step: 860, Loss(Val): 0.0807642\n",
      "Epoch: 4, Step: 870, Loss(Val): 0.0722966\n",
      "Epoch: 4, Step: 880, Loss(Val): 0.0833493\n",
      "Model saved in file: ../save/model-4\n",
      "Shuffle data\n",
      "Epoch: 5, Step: 1000, Loss(Val): 0.077264\n",
      "Epoch: 5, Step: 1010, Loss(Val): 0.0914669\n",
      "Epoch: 5, Step: 1020, Loss(Val): 0.0693506\n",
      "Epoch: 5, Step: 1030, Loss(Val): 0.0762852\n",
      "Epoch: 5, Step: 1040, Loss(Val): 0.0769002\n",
      "Epoch: 5, Step: 1050, Loss(Val): 0.0769766\n",
      "Epoch: 5, Step: 1060, Loss(Val): 0.0611077\n",
      "Epoch: 5, Step: 1070, Loss(Val): 0.0626685\n",
      "Epoch: 5, Step: 1080, Loss(Val): 0.0914415\n",
      "Model saved in file: ../save/model-5\n",
      "Shuffle data\n",
      "Epoch: 6, Step: 1200, Loss(Val): 0.0477585\n",
      "Epoch: 6, Step: 1210, Loss(Val): 0.0811509\n",
      "Epoch: 6, Step: 1220, Loss(Val): 0.0693925\n"
     ]
    }
   ],
   "source": [
    "# For each epoch\n",
    "for epoch in range(epochs):\n",
    "    for i in range(int(data.get_num_images() / batch_size)):\n",
    "        # Get training batch\n",
    "        xs_train, ys_train = data.LoadTrainBatch(batch_size, should_augment=True)\n",
    "\n",
    "        # Send training batch to tensorflow graph (Dropout enabled)\n",
    "        train_step.run(feed_dict={model_in: xs_train, labels_in: ys_train, model_drop: 0.8})\n",
    "\n",
    "        # Display some information each x iterations\n",
    "        if i % iter_disp == 0:\n",
    "            # Get validation batch\n",
    "            xs, ys = data.LoadValBatch(batch_size)\n",
    "            # Send validation batch to tensorflow graph (Dropout disabled)\n",
    "            loss_value = loss_val.eval(feed_dict={model_in: xs, labels_in: ys, model_drop: 1.0})\n",
    "            print(\"Epoch: %d, Step: %d, Loss(Val): %g\" % (epoch, epoch * batch_size + i, loss_value))\n",
    "\n",
    "        # write logs at every iteration\n",
    "        summary = merged_summary_op.eval(feed_dict={model_in: xs_train, labels_in: ys_train, model_drop: 1.0})\n",
    "        summary_writer.add_summary(summary, epoch * batch_size + i)\n",
    "\n",
    "    # Save checkpoint after each epoch\n",
    "    if not os.path.exists(save_dir):\n",
    "        os.makedirs(save_dir)\n",
    "    checkpoint_path = os.path.join(save_dir, \"model\")\n",
    "    filename = saver.save(sess, checkpoint_path, global_step=epoch)\n",
    "    print(\"Model saved in file: %s\" % filename)\n",
    "\n",
    "    # Shuffle data at each epoch end\n",
    "    print(\"Shuffle data\")\n",
    "    data.shuffleData()"
   ]
  }
 ],
 "metadata": {
  "kernelspec": {
   "display_name": "Python 3",
   "language": "python",
   "name": "python3"
  },
  "language_info": {
   "codemirror_mode": {
    "name": "ipython",
    "version": 3
   },
   "file_extension": ".py",
   "mimetype": "text/x-python",
   "name": "python",
   "nbconvert_exporter": "python",
   "pygments_lexer": "ipython3",
   "version": "3.6.0"
  }
 },
 "nbformat": 4,
 "nbformat_minor": 2
}
