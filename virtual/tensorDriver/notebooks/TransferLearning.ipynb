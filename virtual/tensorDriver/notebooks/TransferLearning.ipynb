{
 "cells": [
  {
   "cell_type": "markdown",
   "metadata": {},
   "source": [
    "## Transfer Learning\n",
    "\n",
    "### What you will see\n",
    "On this tutorial you will learn how to load a model (driving autoencoder) weights to be used on a different model (just drive). The idea is that the conv layers trained by the autoencoder will be already a good feature extractor for the driving model, so we loads those weights and train only the FC part of the model.\n",
    "\n",
    "References:\n",
    "* https://blog.metaflow.fr/tensorflow-how-to-freeze-a-model-and-serve-it-with-a-python-api-d4f3596b3adc\n",
    "* https://blog.metaflow.fr/tensorflow-saving-restoring-and-mixing-multiple-models-c4c94d5d7125\n",
    "* https://stackoverflow.com/questions/36533723/tensorflow-get-all-variables-in-scope\n",
    "* https://stackoverflow.com/questions/33727935/how-to-use-stop-gradient-in-tensorflow\n",
    "* https://github.com/tensorflow/tensorflow/issues/6264\n",
    "* https://www.reddit.com/r/tensorflow/comments/6787gl/how_to_freeze_only_some_weights/\n",
    "* https://github.com/oduerr/dl_tutorial/blob/master/tensorflow/debugging/embedding.ipynb\n",
    "* http://kawahara.ca/how-to-debug-a-jupyter-ipython-notebook/"
   ]
  },
  {
   "cell_type": "code",
   "execution_count": 1,
   "metadata": {
    "collapsed": false
   },
   "outputs": [],
   "source": [
    "import tensorflow as tf\n",
    "import scipy.misc\n",
    "import sys\n",
    "sys.path.append('../')\n",
    "import model\n",
    "import numpy as np\n",
    "import matplotlib.pyplot as plt\n",
    "import matplotlib.animation as plt_anim\n",
    "from PIL import Image\n",
    "import random\n",
    "import os\n",
    "import subprocess\n",
    "import glob\n",
    "from driving_data import HandleData\n",
    "from graphviz import Digraph\n",
    "\n",
    "\n",
    "# Regularization value\n",
    "L2NormConst = 0.001\n",
    "start_lr = 0.001\n",
    "batch_size=100\n",
    "epochs = 600\n",
    "input_train_hdf5 = '../DatasetLMDB'\n",
    "input_val_hdf5 = ''\n",
    "logs_path = '../logs'\n",
    "save_dir = '../save'\n",
    "iter_disp = 10\n",
    "\n",
    "os.environ[\"CUDA_VISIBLE_DEVICES\"] = str(0)"
   ]
  },
  {
   "cell_type": "markdown",
   "metadata": {},
   "source": [
    "### Simple function to create dot diagram from tensorflow graph"
   ]
  },
  {
   "cell_type": "code",
   "execution_count": 21,
   "metadata": {
    "collapsed": true
   },
   "outputs": [],
   "source": [
    "def tf_to_dot(graph):\n",
    "    dot = Digraph()\n",
    "\n",
    "    # For each note on the graph\n",
    "    for n in graph.node:    \n",
    "        dot.node(n.name, label=n.name)        \n",
    "        for i in n.input:            \n",
    "            dot.edge(i, n.name)\n",
    "            \n",
    "    return dot"
   ]
  },
  {
   "cell_type": "markdown",
   "metadata": {},
   "source": [
    "### Open Model"
   ]
  },
  {
   "cell_type": "code",
   "execution_count": 22,
   "metadata": {
    "collapsed": false
   },
   "outputs": [],
   "source": [
    "# Open Model\n",
    "driving_model = model.DrivingModel()\n",
    "    \n",
    "# Get placeholders from model\n",
    "model_in = driving_model.input\n",
    "model_out = driving_model.output\n",
    "labels_in = driving_model.label_in\n",
    "model_drop = driving_model.dropout_control"
   ]
  },
  {
   "cell_type": "markdown",
   "metadata": {},
   "source": [
    "### Select the conv layers and the fc layers"
   ]
  },
  {
   "cell_type": "code",
   "execution_count": null,
   "metadata": {
    "collapsed": false
   },
   "outputs": [],
   "source": [
    "# Select only the convs\n",
    "list_convs = [v for v in tf.global_variables() if \"conv\" in v.name]\n",
    "list_fc_linear = [v for v in tf.global_variables() if \"fc\" in v.name or \"output\" in v.name]\n",
    "driving_model_vars = tf.global_variables()\n",
    "driving_model_vars\n",
    "\n",
    "dotGraph = tf_to_dot(tf.get_default_graph().as_graph_def())\n",
    "dotGraph.render()"
   ]
  },
  {
   "cell_type": "markdown",
   "metadata": {},
   "source": [
    "#### Add some more layers to train"
   ]
  },
  {
   "cell_type": "code",
   "execution_count": 13,
   "metadata": {
    "collapsed": false
   },
   "outputs": [
    {
     "data": {
      "text/plain": [
       "[<tf.Variable 'conv4/weights:0' shape=(3, 3, 48, 64) dtype=float32_ref>,\n",
       " <tf.Variable 'conv4/bias:0' shape=(64,) dtype=float32_ref>,\n",
       " <tf.Variable 'BatchNorm_3/beta:0' shape=(64,) dtype=float32_ref>,\n",
       " <tf.Variable 'BatchNorm_3/gamma:0' shape=(64,) dtype=float32_ref>,\n",
       " <tf.Variable 'BatchNorm_3/moving_mean:0' shape=(64,) dtype=float32_ref>,\n",
       " <tf.Variable 'BatchNorm_3/moving_variance:0' shape=(64,) dtype=float32_ref>,\n",
       " <tf.Variable 'conv5/weights:0' shape=(3, 3, 64, 64) dtype=float32_ref>,\n",
       " <tf.Variable 'conv5/bias:0' shape=(64,) dtype=float32_ref>,\n",
       " <tf.Variable 'BatchNorm_4/beta:0' shape=(64,) dtype=float32_ref>,\n",
       " <tf.Variable 'BatchNorm_4/gamma:0' shape=(64,) dtype=float32_ref>,\n",
       " <tf.Variable 'BatchNorm_4/moving_mean:0' shape=(64,) dtype=float32_ref>,\n",
       " <tf.Variable 'BatchNorm_4/moving_variance:0' shape=(64,) dtype=float32_ref>,\n",
       " <tf.Variable 'conv4_1/weights:0' shape=(3, 3, 48, 64) dtype=float32_ref>,\n",
       " <tf.Variable 'conv4_1/bias:0' shape=(64,) dtype=float32_ref>,\n",
       " <tf.Variable 'conv5_1/weights:0' shape=(3, 3, 64, 64) dtype=float32_ref>,\n",
       " <tf.Variable 'conv5_1/bias:0' shape=(64,) dtype=float32_ref>]"
      ]
     },
     "execution_count": 13,
     "metadata": {},
     "output_type": "execute_result"
    }
   ],
   "source": [
    "# Append the conv5 to the list of layers that we want to train\n",
    "conv5_list = [v for v in tf.global_variables() \n",
    "              if \"conv5\" in v.name or \"conv4\" in v.name or \"Norm_4\" in v.name or \"Norm_3\" in v.name]\n",
    "for layer in conv5_list:\n",
    "    list_fc_linear.append(layer)\n",
    "    #from IPython.core.debugger import Tracer; Tracer()()\n",
    "conv5_list"
   ]
  },
  {
   "cell_type": "markdown",
   "metadata": {},
   "source": [
    "### Define saver objects to load the autoencoder checkpoint and the whole graph"
   ]
  },
  {
   "cell_type": "code",
   "execution_count": 14,
   "metadata": {
    "collapsed": true
   },
   "outputs": [],
   "source": [
    "# Define the saver object to load only the conv variables\n",
    "saver_load_autoencoder = tf.train.Saver(var_list=list_convs)\n",
    "# Define saver object to save all the variables of the drivingModel graph\n",
    "saver = tf.train.Saver(var_list=driving_model_vars)"
   ]
  },
  {
   "cell_type": "markdown",
   "metadata": {},
   "source": [
    "### Create the Session\n",
    "Basically ask tensorflow to build the graph"
   ]
  },
  {
   "cell_type": "code",
   "execution_count": null,
   "metadata": {
    "collapsed": true
   },
   "outputs": [],
   "source": [
    "# Avoid allocating the whole memory\n",
    "gpu_options = tf.GPUOptions(per_process_gpu_memory_fraction=0.6)\n",
    "sess = tf.InteractiveSession(config=tf.ConfigProto(gpu_options=gpu_options))"
   ]
  },
  {
   "cell_type": "markdown",
   "metadata": {},
   "source": [
    "### Define the losses"
   ]
  },
  {
   "cell_type": "code",
   "execution_count": null,
   "metadata": {
    "collapsed": false
   },
   "outputs": [],
   "source": [
    "# Create histogram for labels\n",
    "tf.summary.histogram(\"steer_angle\", labels_in)\n",
    "# Add input image/steering angle on summary\n",
    "tf.summary.image(\"input_image\", model_in, 10)\n",
    "\n",
    "train_vars = list_fc_linear\n",
    "with tf.name_scope(\"MSE_Loss_L2Reg\"):\n",
    "    loss = tf.reduce_mean(tf.square(tf.subtract(labels_in, model_out))) + tf.add_n(\n",
    "        [tf.nn.l2_loss(v) for v in train_vars]) * L2NormConst\n",
    "\n",
    "# Add model accuracy\n",
    "with tf.name_scope(\"Loss_Validation\"):\n",
    "    loss_val = tf.reduce_mean(tf.square(tf.subtract(labels_in, model_out)))"
   ]
  },
  {
   "cell_type": "markdown",
   "metadata": {},
   "source": [
    "### Define the solver\n",
    "The thing here is that we pass only the variables that we want to optimize"
   ]
  },
  {
   "cell_type": "code",
   "execution_count": null,
   "metadata": {
    "collapsed": false
   },
   "outputs": [],
   "source": [
    "# Solver configuration\n",
    "# Get ops to update moving_mean and moving_variance from batch_norm\n",
    "# Reference: https://www.tensorflow.org/api_docs/python/tf/contrib/layers/batch_norm\n",
    "update_ops = tf.get_collection(tf.GraphKeys.UPDATE_OPS)\n",
    "with tf.name_scope(\"Solver\"):\n",
    "    global_step = tf.Variable(0, trainable=False)\n",
    "    starter_learning_rate = start_lr\n",
    "    # decay every 10000 steps with a base of 0.96\n",
    "    learning_rate = tf.train.exponential_decay(starter_learning_rate, global_step,\n",
    "                                               1000, 0.9, staircase=True)\n",
    "\n",
    "    # Basically update the batch_norm moving averages before the training step\n",
    "    # http://ruishu.io/2016/12/27/batchnorm/\n",
    "    with tf.control_dependencies(update_ops):\n",
    "        train_step = tf.train.AdamOptimizer(learning_rate).minimize(loss, global_step=global_step, var_list=list_fc_linear)"
   ]
  },
  {
   "cell_type": "markdown",
   "metadata": {},
   "source": [
    "### Initialize the values then actually load the values from the autoencoder checkpoint"
   ]
  },
  {
   "cell_type": "code",
   "execution_count": null,
   "metadata": {
    "collapsed": false
   },
   "outputs": [],
   "source": [
    "# Initialize all random variables (Weights/Bias)\n",
    "sess.run(tf.global_variables_initializer())\n",
    "\n",
    "# Restore only the weights (From AutoEncoder)\n",
    "saver_load_autoencoder.restore(sess, \"../save_autoencoder/model-590\")"
   ]
  },
  {
   "cell_type": "markdown",
   "metadata": {},
   "source": [
    "### Add some variables to be observed on Tensorboard"
   ]
  },
  {
   "cell_type": "code",
   "execution_count": null,
   "metadata": {
    "collapsed": false
   },
   "outputs": [],
   "source": [
    "# Monitor loss, learning_rate, global_step, etc...\n",
    "tf.summary.scalar(\"loss_train\", loss)\n",
    "tf.summary.scalar(\"learning_rate\", learning_rate)\n",
    "tf.summary.scalar(\"global_step\", global_step)\n",
    "# merge all summaries into a single op\n",
    "merged_summary_op = tf.summary.merge_all()\n",
    "\n",
    "# Configure where to save the logs for tensorboard\n",
    "summary_writer = tf.summary.FileWriter(logs_path, graph=tf.get_default_graph())"
   ]
  },
  {
   "cell_type": "markdown",
   "metadata": {},
   "source": [
    "### Load the dataset"
   ]
  },
  {
   "cell_type": "code",
   "execution_count": null,
   "metadata": {
    "collapsed": false
   },
   "outputs": [],
   "source": [
    "data = HandleData(path=input_train_hdf5, path_val=input_val_hdf5)\n",
    "num_images_epoch = int(data.get_num_images() / batch_size)\n",
    "print('Num samples',data.get_num_images(), 'Iterations per epoch:', num_images_epoch, 'batch size:', batch_size)"
   ]
  },
  {
   "cell_type": "markdown",
   "metadata": {},
   "source": [
    "### Do training"
   ]
  },
  {
   "cell_type": "code",
   "execution_count": null,
   "metadata": {
    "collapsed": false
   },
   "outputs": [],
   "source": [
    "# For each epoch\n",
    "for epoch in range(epochs):\n",
    "    for i in range(int(data.get_num_images() / batch_size)):\n",
    "        # Get training batch\n",
    "        xs_train, ys_train = data.LoadTrainBatch(batch_size, should_augment=True)\n",
    "\n",
    "        # Send training batch to tensorflow graph (Dropout enabled)\n",
    "        train_step.run(feed_dict={model_in: xs_train, labels_in: ys_train, model_drop: 0.8})\n",
    "\n",
    "        # Display some information each x iterations\n",
    "        if i % iter_disp == 0:\n",
    "            # Get validation batch\n",
    "            xs, ys = data.LoadValBatch(batch_size)\n",
    "            # Send validation batch to tensorflow graph (Dropout disabled)\n",
    "            loss_value = loss_val.eval(feed_dict={model_in: xs, labels_in: ys, model_drop: 1.0})\n",
    "            print(\"Epoch: %d, Step: %d, Loss(Val): %g\" % (epoch, epoch * batch_size + i, loss_value))\n",
    "\n",
    "        # write logs at every iteration\n",
    "        summary = merged_summary_op.eval(feed_dict={model_in: xs_train, labels_in: ys_train, model_drop: 1.0})\n",
    "        summary_writer.add_summary(summary, epoch * batch_size + i)\n",
    "\n",
    "    # Save checkpoint after each epoch\n",
    "    if not os.path.exists(save_dir):\n",
    "        os.makedirs(save_dir)\n",
    "    checkpoint_path = os.path.join(save_dir, \"model\")\n",
    "    filename = saver.save(sess, checkpoint_path, global_step=epoch)\n",
    "    print(\"Model saved in file: %s\" % filename)\n",
    "\n",
    "    # Shuffle data at each epoch end\n",
    "    print(\"Shuffle data\")\n",
    "    data.shuffleData()"
   ]
  }
 ],
 "metadata": {
  "kernelspec": {
   "display_name": "Python 3",
   "language": "python",
   "name": "python3"
  },
  "language_info": {
   "codemirror_mode": {
    "name": "ipython",
    "version": 3
   },
   "file_extension": ".py",
   "mimetype": "text/x-python",
   "name": "python",
   "nbconvert_exporter": "python",
   "pygments_lexer": "ipython3",
   "version": "3.6.0"
  }
 },
 "nbformat": 4,
 "nbformat_minor": 2
}
