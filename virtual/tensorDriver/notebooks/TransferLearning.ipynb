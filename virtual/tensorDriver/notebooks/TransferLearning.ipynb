{
 "cells": [
  {
   "cell_type": "markdown",
   "metadata": {},
   "source": [
    "## Transfer Learning\n",
    "\n",
    "### Freeze point on the network\n",
    "In theory the autoncoder made the encoder part a good descriptor of your data, so we freeze this point. There are few options to do this:\n",
    "\n",
    "* Pass the variables that you want to optimize: tf.train.AdamOptimizer(0.0001).minimize(g_loss, var_list=g_vars)\n",
    "* Convert the variables to constant: graph_util.convert_variables_to_constants\n",
    "* Stop the gradients at some point: tf.stop_gradient\n",
    "\n",
    "References:\n",
    "* https://blog.metaflow.fr/tensorflow-how-to-freeze-a-model-and-serve-it-with-a-python-api-d4f3596b3adc\n",
    "* https://blog.metaflow.fr/tensorflow-saving-restoring-and-mixing-multiple-models-c4c94d5d7125\n",
    "* https://stackoverflow.com/questions/36533723/tensorflow-get-all-variables-in-scope\n",
    "* https://stackoverflow.com/questions/33727935/how-to-use-stop-gradient-in-tensorflow\n",
    "* https://github.com/tensorflow/tensorflow/issues/6264\n",
    "* https://www.reddit.com/r/tensorflow/comments/6787gl/how_to_freeze_only_some_weights/"
   ]
  },
  {
   "cell_type": "code",
   "execution_count": 1,
   "metadata": {
    "collapsed": false
   },
   "outputs": [],
   "source": [
    "import tensorflow as tf\n",
    "import scipy.misc\n",
    "import sys\n",
    "sys.path.append('../')\n",
    "import model\n",
    "import numpy as np\n",
    "import matplotlib.pyplot as plt\n",
    "import matplotlib.animation as plt_anim\n",
    "from PIL import Image\n",
    "import random\n",
    "import os\n",
    "import subprocess\n",
    "import glob\n",
    "from driving_data import HandleData\n",
    "\n",
    "# Regularization value\n",
    "L2NormConst = 0.001\n",
    "start_lr = 0.0001\n",
    "batch_size=200\n",
    "epochs = 600\n",
    "input_train_hdf5 = '../DatasetLMDB'\n",
    "input_val_hdf5 = ''\n",
    "logs_path = '../logs'\n",
    "save_dir = '../save'\n",
    "iter_disp = 10\n",
    "\n",
    "os.environ[\"CUDA_VISIBLE_DEVICES\"] = str(0)"
   ]
  },
  {
   "cell_type": "markdown",
   "metadata": {},
   "source": [
    "### Open Model"
   ]
  },
  {
   "cell_type": "code",
   "execution_count": 2,
   "metadata": {
    "collapsed": false
   },
   "outputs": [],
   "source": [
    "# Open Model\n",
    "driving_model = model.DrivingModel()\n",
    "# Get placeholders from model\n",
    "model_in = driving_model.input\n",
    "model_out = driving_model.output\n",
    "labels_in = driving_model.label_in\n",
    "model_drop = driving_model.dropout_control"
   ]
  },
  {
   "cell_type": "markdown",
   "metadata": {},
   "source": [
    "### Select the conv layers and the fc layers"
   ]
  },
  {
   "cell_type": "code",
   "execution_count": 3,
   "metadata": {
    "collapsed": false
   },
   "outputs": [
    {
     "data": {
      "text/plain": [
       "[<tf.Variable 'conv1/weights:0' shape=(5, 5, 3, 24) dtype=float32_ref>,\n",
       " <tf.Variable 'conv1/bias:0' shape=(24,) dtype=float32_ref>,\n",
       " <tf.Variable 'conv2/weights:0' shape=(5, 5, 24, 36) dtype=float32_ref>,\n",
       " <tf.Variable 'conv2/bias:0' shape=(36,) dtype=float32_ref>,\n",
       " <tf.Variable 'conv3/weights:0' shape=(5, 5, 36, 48) dtype=float32_ref>,\n",
       " <tf.Variable 'conv3/bias:0' shape=(48,) dtype=float32_ref>,\n",
       " <tf.Variable 'conv4/weights:0' shape=(3, 3, 48, 64) dtype=float32_ref>,\n",
       " <tf.Variable 'conv4/bias:0' shape=(64,) dtype=float32_ref>,\n",
       " <tf.Variable 'conv5/weights:0' shape=(3, 3, 64, 64) dtype=float32_ref>,\n",
       " <tf.Variable 'conv5/bias:0' shape=(64,) dtype=float32_ref>,\n",
       " <tf.Variable 'fc1/weights:0' shape=(1152, 1164) dtype=float32_ref>,\n",
       " <tf.Variable 'fc1/bias:0' shape=(1164,) dtype=float32_ref>,\n",
       " <tf.Variable 'fc2/weights:0' shape=(1164, 100) dtype=float32_ref>,\n",
       " <tf.Variable 'fc2/bias:0' shape=(100,) dtype=float32_ref>,\n",
       " <tf.Variable 'fc3/weights:0' shape=(100, 50) dtype=float32_ref>,\n",
       " <tf.Variable 'fc3/bias:0' shape=(50,) dtype=float32_ref>,\n",
       " <tf.Variable 'fc4/weights:0' shape=(50, 10) dtype=float32_ref>,\n",
       " <tf.Variable 'fc4/bias:0' shape=(10,) dtype=float32_ref>,\n",
       " <tf.Variable 'output_layer/weights:0' shape=(10, 1) dtype=float32_ref>,\n",
       " <tf.Variable 'output_layer/bias:0' shape=(1,) dtype=float32_ref>]"
      ]
     },
     "execution_count": 3,
     "metadata": {},
     "output_type": "execute_result"
    }
   ],
   "source": [
    "# Select only the convs\n",
    "list_convs = [v for v in tf.global_variables() if \"conv\" in v.name]\n",
    "list_fc_linear = [v for v in tf.global_variables() if \"fc\" in v.name or \"output\" in v.name]\n",
    "tf.global_variables()"
   ]
  },
  {
   "cell_type": "markdown",
   "metadata": {},
   "source": [
    "### Define saver objects to load the autoencoder checkpoint and the whole graph"
   ]
  },
  {
   "cell_type": "code",
   "execution_count": 4,
   "metadata": {
    "collapsed": true
   },
   "outputs": [],
   "source": [
    "# Define the saver object to load only the conv variables\n",
    "saver_load_autoencoder = tf.train.Saver(var_list=list_convs)\n",
    "# Define saver object to save all the variables of the current graph\n",
    "saver = tf.train.Saver()"
   ]
  },
  {
   "cell_type": "markdown",
   "metadata": {},
   "source": [
    "### Create the Session\n",
    "Basically ask tensorflow to build the graph"
   ]
  },
  {
   "cell_type": "code",
   "execution_count": 5,
   "metadata": {
    "collapsed": true
   },
   "outputs": [],
   "source": [
    "# Avoid allocating the whole memory\n",
    "gpu_options = tf.GPUOptions(per_process_gpu_memory_fraction=0.6)\n",
    "sess = tf.InteractiveSession(config=tf.ConfigProto(gpu_options=gpu_options))"
   ]
  },
  {
   "cell_type": "markdown",
   "metadata": {},
   "source": [
    "### Define the losses"
   ]
  },
  {
   "cell_type": "code",
   "execution_count": 6,
   "metadata": {
    "collapsed": false
   },
   "outputs": [],
   "source": [
    "# Create histogram for labels\n",
    "tf.summary.histogram(\"steer_angle\", labels_in)\n",
    "# Add input image/steering angle on summary\n",
    "tf.summary.image(\"input_image\", model_in, 10)\n",
    "\n",
    "train_vars = list_fc_linear\n",
    "with tf.name_scope(\"MSE_Loss_L2Reg\"):\n",
    "    loss = tf.reduce_mean(tf.square(tf.subtract(labels_in, model_out))) + tf.add_n(\n",
    "        [tf.nn.l2_loss(v) for v in train_vars]) * L2NormConst\n",
    "\n",
    "# Add model accuracy\n",
    "with tf.name_scope(\"Loss_Validation\"):\n",
    "    loss_val = tf.reduce_mean(tf.square(tf.subtract(labels_in, model_out)))"
   ]
  },
  {
   "cell_type": "markdown",
   "metadata": {},
   "source": [
    "### Define the solver\n",
    "The thing here is that we pass only the variables that we want to optimize"
   ]
  },
  {
   "cell_type": "code",
   "execution_count": 7,
   "metadata": {
    "collapsed": false
   },
   "outputs": [],
   "source": [
    "# Solver configuration\n",
    "# Get ops to update moving_mean and moving_variance from batch_norm\n",
    "# Reference: https://www.tensorflow.org/api_docs/python/tf/contrib/layers/batch_norm\n",
    "update_ops = tf.get_collection(tf.GraphKeys.UPDATE_OPS)\n",
    "with tf.name_scope(\"Solver\"):\n",
    "    global_step = tf.Variable(0, trainable=False)\n",
    "    starter_learning_rate = start_lr\n",
    "    # decay every 10000 steps with a base of 0.96\n",
    "    learning_rate = tf.train.exponential_decay(starter_learning_rate, global_step,\n",
    "                                               1000, 0.9, staircase=True)\n",
    "\n",
    "    # Basically update the batch_norm moving averages before the training step\n",
    "    # http://ruishu.io/2016/12/27/batchnorm/\n",
    "    with tf.control_dependencies(update_ops):\n",
    "        train_step = tf.train.AdamOptimizer(learning_rate).minimize(loss, global_step=global_step, var_list=list_fc_linear)"
   ]
  },
  {
   "cell_type": "markdown",
   "metadata": {},
   "source": [
    "### Initialize the values then actually load the values from the autoencoder checkpoint"
   ]
  },
  {
   "cell_type": "code",
   "execution_count": 8,
   "metadata": {
    "collapsed": false
   },
   "outputs": [
    {
     "name": "stdout",
     "output_type": "stream",
     "text": [
      "INFO:tensorflow:Restoring parameters from ../save_autoencoder/model-222\n"
     ]
    }
   ],
   "source": [
    "# Initialize all random variables (Weights/Bias)\n",
    "sess.run(tf.global_variables_initializer())\n",
    "\n",
    "# Restore only the weights (From AutoEncoder)\n",
    "saver_load_autoencoder.restore(sess, \"../save_autoencoder/model-222\")"
   ]
  },
  {
   "cell_type": "markdown",
   "metadata": {},
   "source": [
    "### Add some variables to be observed on Tensorboard"
   ]
  },
  {
   "cell_type": "code",
   "execution_count": 9,
   "metadata": {
    "collapsed": false
   },
   "outputs": [],
   "source": [
    "# Monitor loss, learning_rate, global_step, etc...\n",
    "tf.summary.scalar(\"loss_train\", loss)\n",
    "tf.summary.scalar(\"learning_rate\", learning_rate)\n",
    "tf.summary.scalar(\"global_step\", global_step)\n",
    "# merge all summaries into a single op\n",
    "merged_summary_op = tf.summary.merge_all()\n",
    "\n",
    "# Configure where to save the logs for tensorboard\n",
    "summary_writer = tf.summary.FileWriter(logs_path, graph=tf.get_default_graph())"
   ]
  },
  {
   "cell_type": "markdown",
   "metadata": {},
   "source": [
    "### Load the dataset"
   ]
  },
  {
   "cell_type": "code",
   "execution_count": null,
   "metadata": {
    "collapsed": false
   },
   "outputs": [
    {
     "name": "stdout",
     "output_type": "stream",
     "text": [
      "Loading training data\n",
      "LMDB file\n",
      "Spliting training and validation\n",
      "Number training images: 13504\n",
      "Number validation images: 3376\n",
      "Num samples 16880 Iterations per epoch: 84 batch size: 200\n"
     ]
    }
   ],
   "source": [
    "data = HandleData(path=input_train_hdf5, path_val=input_val_hdf5)\n",
    "num_images_epoch = int(data.get_num_images() / batch_size)\n",
    "print('Num samples',data.get_num_images(), 'Iterations per epoch:', num_images_epoch, 'batch size:', batch_size)"
   ]
  },
  {
   "cell_type": "markdown",
   "metadata": {},
   "source": [
    "### Do training"
   ]
  },
  {
   "cell_type": "code",
   "execution_count": null,
   "metadata": {
    "collapsed": false
   },
   "outputs": [
    {
     "name": "stdout",
     "output_type": "stream",
     "text": [
      "Epoch: 0, Step: 0, Loss(Val): 0.129046\n",
      "Epoch: 0, Step: 10, Loss(Val): 0.100311\n",
      "Epoch: 0, Step: 20, Loss(Val): 0.0908934\n",
      "Epoch: 0, Step: 30, Loss(Val): 0.0776148\n",
      "Epoch: 0, Step: 40, Loss(Val): 0.0794962\n",
      "Epoch: 0, Step: 50, Loss(Val): 0.0734672\n",
      "Epoch: 0, Step: 60, Loss(Val): 0.0839223\n",
      "Epoch: 0, Step: 70, Loss(Val): 0.0963826\n",
      "Epoch: 0, Step: 80, Loss(Val): 0.0907977\n",
      "Model saved in file: ../save/model-0\n",
      "Shuffle data\n",
      "Epoch: 1, Step: 200, Loss(Val): 0.0923228\n",
      "Epoch: 1, Step: 210, Loss(Val): 0.093665\n",
      "Epoch: 1, Step: 220, Loss(Val): 0.0823047\n",
      "Epoch: 1, Step: 230, Loss(Val): 0.0875035\n",
      "Epoch: 1, Step: 240, Loss(Val): 0.0837804\n",
      "Epoch: 1, Step: 250, Loss(Val): 0.0855631\n",
      "Epoch: 1, Step: 260, Loss(Val): 0.0697446\n",
      "Epoch: 1, Step: 270, Loss(Val): 0.0794305\n",
      "Epoch: 1, Step: 280, Loss(Val): 0.102594\n",
      "Model saved in file: ../save/model-1\n",
      "Shuffle data\n",
      "Epoch: 2, Step: 400, Loss(Val): 0.0809014\n",
      "Epoch: 2, Step: 410, Loss(Val): 0.111197\n",
      "Epoch: 2, Step: 420, Loss(Val): 0.0862938\n",
      "Epoch: 2, Step: 430, Loss(Val): 0.0845193\n",
      "Epoch: 2, Step: 440, Loss(Val): 0.082136\n",
      "Epoch: 2, Step: 450, Loss(Val): 0.0912916\n",
      "Epoch: 2, Step: 460, Loss(Val): 0.0862729\n",
      "Epoch: 2, Step: 470, Loss(Val): 0.0970744\n",
      "Epoch: 2, Step: 480, Loss(Val): 0.0828179\n",
      "Model saved in file: ../save/model-2\n",
      "Shuffle data\n",
      "Epoch: 3, Step: 600, Loss(Val): 0.0668399\n",
      "Epoch: 3, Step: 610, Loss(Val): 0.0944711\n",
      "Epoch: 3, Step: 620, Loss(Val): 0.0732098\n",
      "Epoch: 3, Step: 630, Loss(Val): 0.0813072\n",
      "Epoch: 3, Step: 640, Loss(Val): 0.0815224\n",
      "Epoch: 3, Step: 650, Loss(Val): 0.0700249\n",
      "Epoch: 3, Step: 660, Loss(Val): 0.0633249\n",
      "Epoch: 3, Step: 670, Loss(Val): 0.0734552\n",
      "Epoch: 3, Step: 680, Loss(Val): 0.0719042\n",
      "Model saved in file: ../save/model-3\n",
      "Shuffle data\n",
      "Epoch: 4, Step: 800, Loss(Val): 0.0824989\n",
      "Epoch: 4, Step: 810, Loss(Val): 0.0656548\n",
      "Epoch: 4, Step: 820, Loss(Val): 0.0764982\n",
      "Epoch: 4, Step: 830, Loss(Val): 0.0722534\n",
      "Epoch: 4, Step: 840, Loss(Val): 0.0703468\n",
      "Epoch: 4, Step: 850, Loss(Val): 0.0835818\n",
      "Epoch: 4, Step: 860, Loss(Val): 0.0550426\n",
      "Epoch: 4, Step: 870, Loss(Val): 0.0701234\n",
      "Epoch: 4, Step: 880, Loss(Val): 0.0700781\n",
      "Model saved in file: ../save/model-4\n",
      "Shuffle data\n",
      "Epoch: 5, Step: 1000, Loss(Val): 0.0715114\n",
      "Epoch: 5, Step: 1010, Loss(Val): 0.0749741\n",
      "Epoch: 5, Step: 1020, Loss(Val): 0.0761711\n",
      "Epoch: 5, Step: 1030, Loss(Val): 0.0709782\n",
      "Epoch: 5, Step: 1040, Loss(Val): 0.0524644\n",
      "Epoch: 5, Step: 1050, Loss(Val): 0.0837131\n",
      "Epoch: 5, Step: 1060, Loss(Val): 0.0533173\n",
      "Epoch: 5, Step: 1070, Loss(Val): 0.0712536\n",
      "Epoch: 5, Step: 1080, Loss(Val): 0.0571624\n",
      "Model saved in file: ../save/model-5\n",
      "Shuffle data\n",
      "Epoch: 6, Step: 1200, Loss(Val): 0.0606669\n",
      "Epoch: 6, Step: 1210, Loss(Val): 0.0644283\n",
      "Epoch: 6, Step: 1220, Loss(Val): 0.0587168\n",
      "Epoch: 6, Step: 1230, Loss(Val): 0.066931\n",
      "Epoch: 6, Step: 1240, Loss(Val): 0.0689937\n",
      "Epoch: 6, Step: 1250, Loss(Val): 0.0640771\n",
      "Epoch: 6, Step: 1260, Loss(Val): 0.0647792\n",
      "Epoch: 6, Step: 1270, Loss(Val): 0.0517675\n",
      "Epoch: 6, Step: 1280, Loss(Val): 0.0569551\n",
      "Model saved in file: ../save/model-6\n",
      "Shuffle data\n",
      "Epoch: 7, Step: 1400, Loss(Val): 0.0729403\n",
      "Epoch: 7, Step: 1410, Loss(Val): 0.0521813\n",
      "Epoch: 7, Step: 1420, Loss(Val): 0.0828881\n",
      "Epoch: 7, Step: 1430, Loss(Val): 0.0634663\n",
      "Epoch: 7, Step: 1440, Loss(Val): 0.0628064\n",
      "Epoch: 7, Step: 1450, Loss(Val): 0.0587181\n",
      "Epoch: 7, Step: 1460, Loss(Val): 0.069873\n",
      "Epoch: 7, Step: 1470, Loss(Val): 0.0628631\n",
      "Epoch: 7, Step: 1480, Loss(Val): 0.0447153\n",
      "Model saved in file: ../save/model-7\n",
      "Shuffle data\n",
      "Epoch: 8, Step: 1600, Loss(Val): 0.0491679\n",
      "Epoch: 8, Step: 1610, Loss(Val): 0.0587556\n",
      "Epoch: 8, Step: 1620, Loss(Val): 0.0516379\n",
      "Epoch: 8, Step: 1630, Loss(Val): 0.0740822\n",
      "Epoch: 8, Step: 1640, Loss(Val): 0.0525774\n",
      "Epoch: 8, Step: 1650, Loss(Val): 0.0575523\n",
      "Epoch: 8, Step: 1660, Loss(Val): 0.0709553\n",
      "Epoch: 8, Step: 1670, Loss(Val): 0.0510605\n",
      "Epoch: 8, Step: 1680, Loss(Val): 0.0562651\n",
      "Model saved in file: ../save/model-8\n",
      "Shuffle data\n",
      "Epoch: 9, Step: 1800, Loss(Val): 0.0708575\n",
      "Epoch: 9, Step: 1810, Loss(Val): 0.0750692\n",
      "Epoch: 9, Step: 1820, Loss(Val): 0.0487765\n",
      "Epoch: 9, Step: 1830, Loss(Val): 0.0552613\n",
      "Epoch: 9, Step: 1840, Loss(Val): 0.0412719\n",
      "Epoch: 9, Step: 1850, Loss(Val): 0.0461386\n",
      "Epoch: 9, Step: 1860, Loss(Val): 0.043395\n",
      "Epoch: 9, Step: 1870, Loss(Val): 0.0597338\n",
      "Epoch: 9, Step: 1880, Loss(Val): 0.0443686\n",
      "Model saved in file: ../save/model-9\n",
      "Shuffle data\n",
      "Epoch: 10, Step: 2000, Loss(Val): 0.0506542\n",
      "Epoch: 10, Step: 2010, Loss(Val): 0.04858\n",
      "Epoch: 10, Step: 2020, Loss(Val): 0.0582609\n",
      "Epoch: 10, Step: 2030, Loss(Val): 0.0569571\n",
      "Epoch: 10, Step: 2040, Loss(Val): 0.0475919\n",
      "Epoch: 10, Step: 2050, Loss(Val): 0.0387641\n",
      "Epoch: 10, Step: 2060, Loss(Val): 0.0465858\n",
      "Epoch: 10, Step: 2070, Loss(Val): 0.0397564\n",
      "Epoch: 10, Step: 2080, Loss(Val): 0.038231\n",
      "Model saved in file: ../save/model-10\n",
      "Shuffle data\n",
      "Epoch: 11, Step: 2200, Loss(Val): 0.0339029\n",
      "Epoch: 11, Step: 2210, Loss(Val): 0.0362903\n",
      "Epoch: 11, Step: 2220, Loss(Val): 0.0539128\n",
      "Epoch: 11, Step: 2230, Loss(Val): 0.0433305\n",
      "Epoch: 11, Step: 2240, Loss(Val): 0.048137\n",
      "Epoch: 11, Step: 2250, Loss(Val): 0.0469647\n",
      "Epoch: 11, Step: 2260, Loss(Val): 0.0407035\n",
      "Epoch: 11, Step: 2270, Loss(Val): 0.0511273\n",
      "Epoch: 11, Step: 2280, Loss(Val): 0.0428654\n",
      "Model saved in file: ../save/model-11\n",
      "Shuffle data\n",
      "Epoch: 12, Step: 2400, Loss(Val): 0.0545309\n",
      "Epoch: 12, Step: 2410, Loss(Val): 0.0581487\n",
      "Epoch: 12, Step: 2420, Loss(Val): 0.0525099\n",
      "Epoch: 12, Step: 2430, Loss(Val): 0.058236\n",
      "Epoch: 12, Step: 2440, Loss(Val): 0.0378559\n",
      "Epoch: 12, Step: 2450, Loss(Val): 0.0305479\n",
      "Epoch: 12, Step: 2460, Loss(Val): 0.044829\n",
      "Epoch: 12, Step: 2470, Loss(Val): 0.0469639\n",
      "Epoch: 12, Step: 2480, Loss(Val): 0.0432684\n",
      "Model saved in file: ../save/model-12\n",
      "Shuffle data\n",
      "Epoch: 13, Step: 2600, Loss(Val): 0.0426517\n",
      "Epoch: 13, Step: 2610, Loss(Val): 0.0388745\n",
      "Epoch: 13, Step: 2620, Loss(Val): 0.0480855\n",
      "Epoch: 13, Step: 2630, Loss(Val): 0.0367704\n",
      "Epoch: 13, Step: 2640, Loss(Val): 0.0427304\n",
      "Epoch: 13, Step: 2650, Loss(Val): 0.0541759\n",
      "Epoch: 13, Step: 2660, Loss(Val): 0.039023\n",
      "Epoch: 13, Step: 2670, Loss(Val): 0.0452055\n",
      "Epoch: 13, Step: 2680, Loss(Val): 0.0300312\n",
      "Model saved in file: ../save/model-13\n",
      "Shuffle data\n",
      "Epoch: 14, Step: 2800, Loss(Val): 0.0335962\n",
      "Epoch: 14, Step: 2810, Loss(Val): 0.0285763\n",
      "Epoch: 14, Step: 2820, Loss(Val): 0.0400464\n",
      "Epoch: 14, Step: 2830, Loss(Val): 0.032571\n",
      "Epoch: 14, Step: 2840, Loss(Val): 0.0328653\n",
      "Epoch: 14, Step: 2850, Loss(Val): 0.0310855\n",
      "Epoch: 14, Step: 2860, Loss(Val): 0.0341023\n",
      "Epoch: 14, Step: 2870, Loss(Val): 0.0357339\n",
      "Epoch: 14, Step: 2880, Loss(Val): 0.0324689\n",
      "Model saved in file: ../save/model-14\n",
      "Shuffle data\n",
      "Epoch: 15, Step: 3000, Loss(Val): 0.0412148\n",
      "Epoch: 15, Step: 3010, Loss(Val): 0.037529\n",
      "Epoch: 15, Step: 3020, Loss(Val): 0.0394564\n",
      "Epoch: 15, Step: 3030, Loss(Val): 0.0347454\n",
      "Epoch: 15, Step: 3040, Loss(Val): 0.0339293\n",
      "Epoch: 15, Step: 3050, Loss(Val): 0.0342225\n",
      "Epoch: 15, Step: 3060, Loss(Val): 0.0378124\n",
      "Epoch: 15, Step: 3070, Loss(Val): 0.0389086\n",
      "Epoch: 15, Step: 3080, Loss(Val): 0.0344981\n",
      "Model saved in file: ../save/model-15\n",
      "Shuffle data\n",
      "Epoch: 16, Step: 3200, Loss(Val): 0.0318066\n",
      "Epoch: 16, Step: 3210, Loss(Val): 0.0353763\n",
      "Epoch: 16, Step: 3220, Loss(Val): 0.0336179\n",
      "Epoch: 16, Step: 3230, Loss(Val): 0.0311395\n",
      "Epoch: 16, Step: 3240, Loss(Val): 0.0344865\n",
      "Epoch: 16, Step: 3250, Loss(Val): 0.0409987\n",
      "Epoch: 16, Step: 3260, Loss(Val): 0.0395042\n",
      "Epoch: 16, Step: 3270, Loss(Val): 0.0371184\n",
      "Epoch: 16, Step: 3280, Loss(Val): 0.0284319\n",
      "Model saved in file: ../save/model-16\n",
      "Shuffle data\n",
      "Epoch: 17, Step: 3400, Loss(Val): 0.0228015\n",
      "Epoch: 17, Step: 3410, Loss(Val): 0.0286319\n",
      "Epoch: 17, Step: 3420, Loss(Val): 0.0347666\n",
      "Epoch: 17, Step: 3430, Loss(Val): 0.0302123\n",
      "Epoch: 17, Step: 3440, Loss(Val): 0.0315342\n",
      "Epoch: 17, Step: 3450, Loss(Val): 0.0253392\n",
      "Epoch: 17, Step: 3460, Loss(Val): 0.0276802\n",
      "Epoch: 17, Step: 3470, Loss(Val): 0.030642\n",
      "Epoch: 17, Step: 3480, Loss(Val): 0.0203262\n",
      "Model saved in file: ../save/model-17\n",
      "Shuffle data\n",
      "Epoch: 18, Step: 3600, Loss(Val): 0.0287172\n",
      "Epoch: 18, Step: 3610, Loss(Val): 0.0281761\n",
      "Epoch: 18, Step: 3620, Loss(Val): 0.0313341\n",
      "Epoch: 18, Step: 3630, Loss(Val): 0.0366232\n",
      "Epoch: 18, Step: 3640, Loss(Val): 0.0323975\n",
      "Epoch: 18, Step: 3650, Loss(Val): 0.0255502\n",
      "Epoch: 18, Step: 3660, Loss(Val): 0.0264102\n",
      "Epoch: 18, Step: 3670, Loss(Val): 0.0301373\n",
      "Epoch: 18, Step: 3680, Loss(Val): 0.0273032\n",
      "Model saved in file: ../save/model-18\n",
      "Shuffle data\n",
      "Epoch: 19, Step: 3800, Loss(Val): 0.0349383\n",
      "Epoch: 19, Step: 3810, Loss(Val): 0.0361435\n"
     ]
    }
   ],
   "source": [
    "# For each epoch\n",
    "for epoch in range(epochs):\n",
    "    for i in range(int(data.get_num_images() / batch_size)):\n",
    "        # Get training batch\n",
    "        xs_train, ys_train = data.LoadTrainBatch(batch_size, should_augment=True)\n",
    "\n",
    "        # Send training batch to tensorflow graph (Dropout enabled)\n",
    "        train_step.run(feed_dict={model_in: xs_train, labels_in: ys_train, model_drop: 0.8})\n",
    "\n",
    "        # Display some information each x iterations\n",
    "        if i % iter_disp == 0:\n",
    "            # Get validation batch\n",
    "            xs, ys = data.LoadValBatch(batch_size)\n",
    "            # Send validation batch to tensorflow graph (Dropout disabled)\n",
    "            loss_value = loss_val.eval(feed_dict={model_in: xs, labels_in: ys, model_drop: 1.0})\n",
    "            print(\"Epoch: %d, Step: %d, Loss(Val): %g\" % (epoch, epoch * batch_size + i, loss_value))\n",
    "\n",
    "        # write logs at every iteration\n",
    "        summary = merged_summary_op.eval(feed_dict={model_in: xs_train, labels_in: ys_train, model_drop: 1.0})\n",
    "        summary_writer.add_summary(summary, epoch * batch_size + i)\n",
    "\n",
    "    # Save checkpoint after each epoch\n",
    "    if not os.path.exists(save_dir):\n",
    "        os.makedirs(save_dir)\n",
    "    checkpoint_path = os.path.join(save_dir, \"model\")\n",
    "    filename = saver.save(sess, checkpoint_path, global_step=epoch)\n",
    "    print(\"Model saved in file: %s\" % filename)\n",
    "\n",
    "    # Shuffle data at each epoch end\n",
    "    print(\"Shuffle data\")\n",
    "    data.shuffleData()"
   ]
  }
 ],
 "metadata": {
  "kernelspec": {
   "display_name": "Python 3",
   "language": "python",
   "name": "python3"
  },
  "language_info": {
   "codemirror_mode": {
    "name": "ipython",
    "version": 3
   },
   "file_extension": ".py",
   "mimetype": "text/x-python",
   "name": "python",
   "nbconvert_exporter": "python",
   "pygments_lexer": "ipython3",
   "version": "3.6.0"
  }
 },
 "nbformat": 4,
 "nbformat_minor": 2
}
